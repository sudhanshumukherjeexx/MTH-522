{
 "cells": [
  {
   "cell_type": "markdown",
   "id": "69a16919",
   "metadata": {},
   "source": [
    "# 15. This problem involves the Boston data set, which we saw in the lab for this chapter. We will now try to predict per capita crime rate using the other variables in this data set. In other words, per capita crime rate is the response, and the other variables are the predictors.\n",
    "\n",
    "## (a) For each predictor, fit a simple linear regression model to predict the response. Describe your results. In which of the models is there a statistically significant association between the predictor and the response? Create some plots to back up your assertions.\n",
    "## (b) Fit a multiple regression model to predict the response using all of the predictors. Describe your results. For which predictors can we reject the null hypothesis H0 : βj = 0?\n",
    "## (c) How do your results from (a) compare to your results from (b)? Create a plot displaying the univariate regression coefficients from (a) on the x-axis, and the multiple regression coefficients from (b) on the y-axis. That is, each predictor is displayed as a single point in the plot. Its coefficient in a simple linear regression model is shown on the x-axis, and its coefficient estimate in the multiple linear regression model is shown on the y-axis."
   ]
  },
  {
   "cell_type": "markdown",
   "id": "000f45f7",
   "metadata": {},
   "source": [
    "______________________________________________________________________"
   ]
  },
  {
   "cell_type": "markdown",
   "id": "84cbabc6",
   "metadata": {},
   "source": [
    "# Let's analyze our data and understand all the features of our data."
   ]
  },
  {
   "cell_type": "markdown",
   "id": "ae14dbce",
   "metadata": {},
   "source": [
    "__________________________"
   ]
  },
  {
   "cell_type": "markdown",
   "id": "f827f0aa",
   "metadata": {},
   "source": [
    "# Importing Libraries"
   ]
  },
  {
   "cell_type": "code",
   "execution_count": 1,
   "id": "482c873a",
   "metadata": {},
   "outputs": [],
   "source": [
    "import numpy as np\n",
    "import pandas as pd\n",
    "import matplotlib.pyplot as plt\n",
    "import seaborn as sns\n",
    "import statsmodels.api as sm"
   ]
  },
  {
   "cell_type": "markdown",
   "id": "18ff69c2",
   "metadata": {},
   "source": [
    "# Loading the Dataset\n"
   ]
  },
  {
   "cell_type": "code",
   "execution_count": 2,
   "id": "eca67ca4",
   "metadata": {},
   "outputs": [],
   "source": [
    "boston_data = pd.read_csv('Boston.csv')"
   ]
  },
  {
   "cell_type": "markdown",
   "id": "dbe37934",
   "metadata": {},
   "source": [
    "# First 5 values in the Dataset"
   ]
  },
  {
   "cell_type": "code",
   "execution_count": 3,
   "id": "e571b2f8",
   "metadata": {},
   "outputs": [
    {
     "data": {
      "text/html": [
       "<div>\n",
       "<style scoped>\n",
       "    .dataframe tbody tr th:only-of-type {\n",
       "        vertical-align: middle;\n",
       "    }\n",
       "\n",
       "    .dataframe tbody tr th {\n",
       "        vertical-align: top;\n",
       "    }\n",
       "\n",
       "    .dataframe thead th {\n",
       "        text-align: right;\n",
       "    }\n",
       "</style>\n",
       "<table border=\"1\" class=\"dataframe\">\n",
       "  <thead>\n",
       "    <tr style=\"text-align: right;\">\n",
       "      <th></th>\n",
       "      <th>Unnamed: 0</th>\n",
       "      <th>crim</th>\n",
       "      <th>zn</th>\n",
       "      <th>indus</th>\n",
       "      <th>chas</th>\n",
       "      <th>nox</th>\n",
       "      <th>rm</th>\n",
       "      <th>age</th>\n",
       "      <th>dis</th>\n",
       "      <th>rad</th>\n",
       "      <th>tax</th>\n",
       "      <th>ptratio</th>\n",
       "      <th>lstat</th>\n",
       "      <th>medv</th>\n",
       "    </tr>\n",
       "  </thead>\n",
       "  <tbody>\n",
       "    <tr>\n",
       "      <th>0</th>\n",
       "      <td>1</td>\n",
       "      <td>0.00632</td>\n",
       "      <td>18.0</td>\n",
       "      <td>2.31</td>\n",
       "      <td>0</td>\n",
       "      <td>0.538</td>\n",
       "      <td>6.575</td>\n",
       "      <td>65.2</td>\n",
       "      <td>4.0900</td>\n",
       "      <td>1</td>\n",
       "      <td>296</td>\n",
       "      <td>15.3</td>\n",
       "      <td>4.98</td>\n",
       "      <td>24.0</td>\n",
       "    </tr>\n",
       "    <tr>\n",
       "      <th>1</th>\n",
       "      <td>2</td>\n",
       "      <td>0.02731</td>\n",
       "      <td>0.0</td>\n",
       "      <td>7.07</td>\n",
       "      <td>0</td>\n",
       "      <td>0.469</td>\n",
       "      <td>6.421</td>\n",
       "      <td>78.9</td>\n",
       "      <td>4.9671</td>\n",
       "      <td>2</td>\n",
       "      <td>242</td>\n",
       "      <td>17.8</td>\n",
       "      <td>9.14</td>\n",
       "      <td>21.6</td>\n",
       "    </tr>\n",
       "    <tr>\n",
       "      <th>2</th>\n",
       "      <td>3</td>\n",
       "      <td>0.02729</td>\n",
       "      <td>0.0</td>\n",
       "      <td>7.07</td>\n",
       "      <td>0</td>\n",
       "      <td>0.469</td>\n",
       "      <td>7.185</td>\n",
       "      <td>61.1</td>\n",
       "      <td>4.9671</td>\n",
       "      <td>2</td>\n",
       "      <td>242</td>\n",
       "      <td>17.8</td>\n",
       "      <td>4.03</td>\n",
       "      <td>34.7</td>\n",
       "    </tr>\n",
       "    <tr>\n",
       "      <th>3</th>\n",
       "      <td>4</td>\n",
       "      <td>0.03237</td>\n",
       "      <td>0.0</td>\n",
       "      <td>2.18</td>\n",
       "      <td>0</td>\n",
       "      <td>0.458</td>\n",
       "      <td>6.998</td>\n",
       "      <td>45.8</td>\n",
       "      <td>6.0622</td>\n",
       "      <td>3</td>\n",
       "      <td>222</td>\n",
       "      <td>18.7</td>\n",
       "      <td>2.94</td>\n",
       "      <td>33.4</td>\n",
       "    </tr>\n",
       "    <tr>\n",
       "      <th>4</th>\n",
       "      <td>5</td>\n",
       "      <td>0.06905</td>\n",
       "      <td>0.0</td>\n",
       "      <td>2.18</td>\n",
       "      <td>0</td>\n",
       "      <td>0.458</td>\n",
       "      <td>7.147</td>\n",
       "      <td>54.2</td>\n",
       "      <td>6.0622</td>\n",
       "      <td>3</td>\n",
       "      <td>222</td>\n",
       "      <td>18.7</td>\n",
       "      <td>5.33</td>\n",
       "      <td>36.2</td>\n",
       "    </tr>\n",
       "  </tbody>\n",
       "</table>\n",
       "</div>"
      ],
      "text/plain": [
       "   Unnamed: 0     crim    zn  indus  chas    nox     rm   age     dis  rad  \\\n",
       "0           1  0.00632  18.0   2.31     0  0.538  6.575  65.2  4.0900    1   \n",
       "1           2  0.02731   0.0   7.07     0  0.469  6.421  78.9  4.9671    2   \n",
       "2           3  0.02729   0.0   7.07     0  0.469  7.185  61.1  4.9671    2   \n",
       "3           4  0.03237   0.0   2.18     0  0.458  6.998  45.8  6.0622    3   \n",
       "4           5  0.06905   0.0   2.18     0  0.458  7.147  54.2  6.0622    3   \n",
       "\n",
       "   tax  ptratio  lstat  medv  \n",
       "0  296     15.3   4.98  24.0  \n",
       "1  242     17.8   9.14  21.6  \n",
       "2  242     17.8   4.03  34.7  \n",
       "3  222     18.7   2.94  33.4  \n",
       "4  222     18.7   5.33  36.2  "
      ]
     },
     "execution_count": 3,
     "metadata": {},
     "output_type": "execute_result"
    }
   ],
   "source": [
    "boston_data.head()"
   ]
  },
  {
   "cell_type": "markdown",
   "id": "9750657f",
   "metadata": {},
   "source": [
    "# Renaming Unnamed :0 column as id"
   ]
  },
  {
   "cell_type": "code",
   "execution_count": 4,
   "id": "341fa9f9",
   "metadata": {},
   "outputs": [],
   "source": [
    "boston_data.rename( columns={'Unnamed: 0':'id'}, inplace=True)"
   ]
  },
  {
   "cell_type": "code",
   "execution_count": 5,
   "id": "4028feb6",
   "metadata": {},
   "outputs": [
    {
     "data": {
      "text/html": [
       "<div>\n",
       "<style scoped>\n",
       "    .dataframe tbody tr th:only-of-type {\n",
       "        vertical-align: middle;\n",
       "    }\n",
       "\n",
       "    .dataframe tbody tr th {\n",
       "        vertical-align: top;\n",
       "    }\n",
       "\n",
       "    .dataframe thead th {\n",
       "        text-align: right;\n",
       "    }\n",
       "</style>\n",
       "<table border=\"1\" class=\"dataframe\">\n",
       "  <thead>\n",
       "    <tr style=\"text-align: right;\">\n",
       "      <th></th>\n",
       "      <th>id</th>\n",
       "      <th>crim</th>\n",
       "      <th>zn</th>\n",
       "      <th>indus</th>\n",
       "      <th>chas</th>\n",
       "      <th>nox</th>\n",
       "      <th>rm</th>\n",
       "      <th>age</th>\n",
       "      <th>dis</th>\n",
       "      <th>rad</th>\n",
       "      <th>tax</th>\n",
       "      <th>ptratio</th>\n",
       "      <th>lstat</th>\n",
       "      <th>medv</th>\n",
       "    </tr>\n",
       "  </thead>\n",
       "  <tbody>\n",
       "    <tr>\n",
       "      <th>0</th>\n",
       "      <td>1</td>\n",
       "      <td>0.00632</td>\n",
       "      <td>18.0</td>\n",
       "      <td>2.31</td>\n",
       "      <td>0</td>\n",
       "      <td>0.538</td>\n",
       "      <td>6.575</td>\n",
       "      <td>65.2</td>\n",
       "      <td>4.0900</td>\n",
       "      <td>1</td>\n",
       "      <td>296</td>\n",
       "      <td>15.3</td>\n",
       "      <td>4.98</td>\n",
       "      <td>24.0</td>\n",
       "    </tr>\n",
       "    <tr>\n",
       "      <th>1</th>\n",
       "      <td>2</td>\n",
       "      <td>0.02731</td>\n",
       "      <td>0.0</td>\n",
       "      <td>7.07</td>\n",
       "      <td>0</td>\n",
       "      <td>0.469</td>\n",
       "      <td>6.421</td>\n",
       "      <td>78.9</td>\n",
       "      <td>4.9671</td>\n",
       "      <td>2</td>\n",
       "      <td>242</td>\n",
       "      <td>17.8</td>\n",
       "      <td>9.14</td>\n",
       "      <td>21.6</td>\n",
       "    </tr>\n",
       "    <tr>\n",
       "      <th>2</th>\n",
       "      <td>3</td>\n",
       "      <td>0.02729</td>\n",
       "      <td>0.0</td>\n",
       "      <td>7.07</td>\n",
       "      <td>0</td>\n",
       "      <td>0.469</td>\n",
       "      <td>7.185</td>\n",
       "      <td>61.1</td>\n",
       "      <td>4.9671</td>\n",
       "      <td>2</td>\n",
       "      <td>242</td>\n",
       "      <td>17.8</td>\n",
       "      <td>4.03</td>\n",
       "      <td>34.7</td>\n",
       "    </tr>\n",
       "    <tr>\n",
       "      <th>3</th>\n",
       "      <td>4</td>\n",
       "      <td>0.03237</td>\n",
       "      <td>0.0</td>\n",
       "      <td>2.18</td>\n",
       "      <td>0</td>\n",
       "      <td>0.458</td>\n",
       "      <td>6.998</td>\n",
       "      <td>45.8</td>\n",
       "      <td>6.0622</td>\n",
       "      <td>3</td>\n",
       "      <td>222</td>\n",
       "      <td>18.7</td>\n",
       "      <td>2.94</td>\n",
       "      <td>33.4</td>\n",
       "    </tr>\n",
       "    <tr>\n",
       "      <th>4</th>\n",
       "      <td>5</td>\n",
       "      <td>0.06905</td>\n",
       "      <td>0.0</td>\n",
       "      <td>2.18</td>\n",
       "      <td>0</td>\n",
       "      <td>0.458</td>\n",
       "      <td>7.147</td>\n",
       "      <td>54.2</td>\n",
       "      <td>6.0622</td>\n",
       "      <td>3</td>\n",
       "      <td>222</td>\n",
       "      <td>18.7</td>\n",
       "      <td>5.33</td>\n",
       "      <td>36.2</td>\n",
       "    </tr>\n",
       "  </tbody>\n",
       "</table>\n",
       "</div>"
      ],
      "text/plain": [
       "   id     crim    zn  indus  chas    nox     rm   age     dis  rad  tax  \\\n",
       "0   1  0.00632  18.0   2.31     0  0.538  6.575  65.2  4.0900    1  296   \n",
       "1   2  0.02731   0.0   7.07     0  0.469  6.421  78.9  4.9671    2  242   \n",
       "2   3  0.02729   0.0   7.07     0  0.469  7.185  61.1  4.9671    2  242   \n",
       "3   4  0.03237   0.0   2.18     0  0.458  6.998  45.8  6.0622    3  222   \n",
       "4   5  0.06905   0.0   2.18     0  0.458  7.147  54.2  6.0622    3  222   \n",
       "\n",
       "   ptratio  lstat  medv  \n",
       "0     15.3   4.98  24.0  \n",
       "1     17.8   9.14  21.6  \n",
       "2     17.8   4.03  34.7  \n",
       "3     18.7   2.94  33.4  \n",
       "4     18.7   5.33  36.2  "
      ]
     },
     "execution_count": 5,
     "metadata": {},
     "output_type": "execute_result"
    }
   ],
   "source": [
    "boston_data.head()"
   ]
  },
  {
   "cell_type": "markdown",
   "id": "f0100f82",
   "metadata": {},
   "source": [
    "### Let's Understand our Features \n",
    "\n",
    "`id` - Number assigned to every entry.\n",
    "\n",
    "`CRIM` - per capita crime rate by town.\n",
    "\n",
    "`ZN` - proportion of residential land zoned for lots over 25,000 sq.ft.\n",
    "\n",
    "`INDUS` - proportion of non-retail business acres per town.\n",
    "\n",
    "`CHAS` - Charles River dummy variable (1 if tract bounds river; 0 otherwise)\n",
    "\n",
    "`NOX` - nitric oxides concentration (parts per 10 million)\n",
    "\n",
    "`RM` - average number of rooms per dwelling.\n",
    "\n",
    "`AGE` - proportion of owner-occupied units built prior to 1940.\n",
    "\n",
    "`DIS` - weighted distances to five Boston employment centres.\n",
    "\n",
    "`RAD` - index of accessibility to radial highways.\n",
    "\n",
    "`TAX` - full-value property-tax rate per $10,000.\n",
    "\n",
    "PTRATIO - pupil-teacher ratio by town.\n",
    "\n",
    "`LSTAT` - percent lower status of the population.\n",
    "\n",
    "`MEDV` - Median value of owner-occupied homes in $1000's\n"
   ]
  },
  {
   "cell_type": "markdown",
   "id": "d78094d6",
   "metadata": {},
   "source": [
    "# Shape of the Data : (Number of rows,Number of columns)"
   ]
  },
  {
   "cell_type": "code",
   "execution_count": 6,
   "id": "cff0978e",
   "metadata": {},
   "outputs": [
    {
     "data": {
      "text/plain": [
       "(506, 14)"
      ]
     },
     "execution_count": 6,
     "metadata": {},
     "output_type": "execute_result"
    }
   ],
   "source": [
    "boston_data.shape"
   ]
  },
  {
   "cell_type": "markdown",
   "id": "3c2aa27e",
   "metadata": {},
   "source": [
    "# Qualitative and Quantitative Features"
   ]
  },
  {
   "cell_type": "code",
   "execution_count": 7,
   "id": "f82596ae",
   "metadata": {},
   "outputs": [
    {
     "name": "stdout",
     "output_type": "stream",
     "text": [
      "<class 'pandas.core.frame.DataFrame'>\n",
      "RangeIndex: 506 entries, 0 to 505\n",
      "Data columns (total 14 columns):\n",
      " #   Column   Non-Null Count  Dtype  \n",
      "---  ------   --------------  -----  \n",
      " 0   id       506 non-null    int64  \n",
      " 1   crim     506 non-null    float64\n",
      " 2   zn       506 non-null    float64\n",
      " 3   indus    506 non-null    float64\n",
      " 4   chas     506 non-null    int64  \n",
      " 5   nox      506 non-null    float64\n",
      " 6   rm       506 non-null    float64\n",
      " 7   age      506 non-null    float64\n",
      " 8   dis      506 non-null    float64\n",
      " 9   rad      506 non-null    int64  \n",
      " 10  tax      506 non-null    int64  \n",
      " 11  ptratio  506 non-null    float64\n",
      " 12  lstat    506 non-null    float64\n",
      " 13  medv     506 non-null    float64\n",
      "dtypes: float64(10), int64(4)\n",
      "memory usage: 55.5 KB\n"
     ]
    }
   ],
   "source": [
    "boston_data.info()"
   ]
  },
  {
   "cell_type": "markdown",
   "id": "d8c11ce2",
   "metadata": {},
   "source": [
    "# Checking for Missing Values"
   ]
  },
  {
   "cell_type": "code",
   "execution_count": 8,
   "id": "5cb2b472",
   "metadata": {},
   "outputs": [
    {
     "data": {
      "text/plain": [
       "id         0\n",
       "crim       0\n",
       "zn         0\n",
       "indus      0\n",
       "chas       0\n",
       "nox        0\n",
       "rm         0\n",
       "age        0\n",
       "dis        0\n",
       "rad        0\n",
       "tax        0\n",
       "ptratio    0\n",
       "lstat      0\n",
       "medv       0\n",
       "dtype: int64"
      ]
     },
     "execution_count": 8,
     "metadata": {},
     "output_type": "execute_result"
    }
   ],
   "source": [
    "boston_data.isnull().sum()"
   ]
  },
  {
   "cell_type": "markdown",
   "id": "2ae45ac2",
   "metadata": {},
   "source": [
    "# Correlation Between Variables"
   ]
  },
  {
   "cell_type": "code",
   "execution_count": 9,
   "id": "4e678c53",
   "metadata": {},
   "outputs": [
    {
     "data": {
      "text/html": [
       "<div>\n",
       "<style scoped>\n",
       "    .dataframe tbody tr th:only-of-type {\n",
       "        vertical-align: middle;\n",
       "    }\n",
       "\n",
       "    .dataframe tbody tr th {\n",
       "        vertical-align: top;\n",
       "    }\n",
       "\n",
       "    .dataframe thead th {\n",
       "        text-align: right;\n",
       "    }\n",
       "</style>\n",
       "<table border=\"1\" class=\"dataframe\">\n",
       "  <thead>\n",
       "    <tr style=\"text-align: right;\">\n",
       "      <th></th>\n",
       "      <th>id</th>\n",
       "      <th>crim</th>\n",
       "      <th>zn</th>\n",
       "      <th>indus</th>\n",
       "      <th>chas</th>\n",
       "      <th>nox</th>\n",
       "      <th>rm</th>\n",
       "      <th>age</th>\n",
       "      <th>dis</th>\n",
       "      <th>rad</th>\n",
       "      <th>tax</th>\n",
       "      <th>ptratio</th>\n",
       "      <th>lstat</th>\n",
       "      <th>medv</th>\n",
       "    </tr>\n",
       "  </thead>\n",
       "  <tbody>\n",
       "    <tr>\n",
       "      <th>id</th>\n",
       "      <td>1.000000</td>\n",
       "      <td>0.407407</td>\n",
       "      <td>-0.103393</td>\n",
       "      <td>0.399439</td>\n",
       "      <td>-0.003759</td>\n",
       "      <td>0.398736</td>\n",
       "      <td>-0.079971</td>\n",
       "      <td>0.203784</td>\n",
       "      <td>-0.302211</td>\n",
       "      <td>0.686002</td>\n",
       "      <td>0.666626</td>\n",
       "      <td>0.291074</td>\n",
       "      <td>0.258465</td>\n",
       "      <td>-0.226604</td>\n",
       "    </tr>\n",
       "    <tr>\n",
       "      <th>crim</th>\n",
       "      <td>0.407407</td>\n",
       "      <td>1.000000</td>\n",
       "      <td>-0.200469</td>\n",
       "      <td>0.406583</td>\n",
       "      <td>-0.055892</td>\n",
       "      <td>0.420972</td>\n",
       "      <td>-0.219247</td>\n",
       "      <td>0.352734</td>\n",
       "      <td>-0.379670</td>\n",
       "      <td>0.625505</td>\n",
       "      <td>0.582764</td>\n",
       "      <td>0.289946</td>\n",
       "      <td>0.455621</td>\n",
       "      <td>-0.388305</td>\n",
       "    </tr>\n",
       "    <tr>\n",
       "      <th>zn</th>\n",
       "      <td>-0.103393</td>\n",
       "      <td>-0.200469</td>\n",
       "      <td>1.000000</td>\n",
       "      <td>-0.533828</td>\n",
       "      <td>-0.042697</td>\n",
       "      <td>-0.516604</td>\n",
       "      <td>0.311991</td>\n",
       "      <td>-0.569537</td>\n",
       "      <td>0.664408</td>\n",
       "      <td>-0.311948</td>\n",
       "      <td>-0.314563</td>\n",
       "      <td>-0.391679</td>\n",
       "      <td>-0.412995</td>\n",
       "      <td>0.360445</td>\n",
       "    </tr>\n",
       "    <tr>\n",
       "      <th>indus</th>\n",
       "      <td>0.399439</td>\n",
       "      <td>0.406583</td>\n",
       "      <td>-0.533828</td>\n",
       "      <td>1.000000</td>\n",
       "      <td>0.062938</td>\n",
       "      <td>0.763651</td>\n",
       "      <td>-0.391676</td>\n",
       "      <td>0.644779</td>\n",
       "      <td>-0.708027</td>\n",
       "      <td>0.595129</td>\n",
       "      <td>0.720760</td>\n",
       "      <td>0.383248</td>\n",
       "      <td>0.603800</td>\n",
       "      <td>-0.483725</td>\n",
       "    </tr>\n",
       "    <tr>\n",
       "      <th>chas</th>\n",
       "      <td>-0.003759</td>\n",
       "      <td>-0.055892</td>\n",
       "      <td>-0.042697</td>\n",
       "      <td>0.062938</td>\n",
       "      <td>1.000000</td>\n",
       "      <td>0.091203</td>\n",
       "      <td>0.091251</td>\n",
       "      <td>0.086518</td>\n",
       "      <td>-0.099176</td>\n",
       "      <td>-0.007368</td>\n",
       "      <td>-0.035587</td>\n",
       "      <td>-0.121515</td>\n",
       "      <td>-0.053929</td>\n",
       "      <td>0.175260</td>\n",
       "    </tr>\n",
       "    <tr>\n",
       "      <th>nox</th>\n",
       "      <td>0.398736</td>\n",
       "      <td>0.420972</td>\n",
       "      <td>-0.516604</td>\n",
       "      <td>0.763651</td>\n",
       "      <td>0.091203</td>\n",
       "      <td>1.000000</td>\n",
       "      <td>-0.302188</td>\n",
       "      <td>0.731470</td>\n",
       "      <td>-0.769230</td>\n",
       "      <td>0.611441</td>\n",
       "      <td>0.668023</td>\n",
       "      <td>0.188933</td>\n",
       "      <td>0.590879</td>\n",
       "      <td>-0.427321</td>\n",
       "    </tr>\n",
       "    <tr>\n",
       "      <th>rm</th>\n",
       "      <td>-0.079971</td>\n",
       "      <td>-0.219247</td>\n",
       "      <td>0.311991</td>\n",
       "      <td>-0.391676</td>\n",
       "      <td>0.091251</td>\n",
       "      <td>-0.302188</td>\n",
       "      <td>1.000000</td>\n",
       "      <td>-0.240265</td>\n",
       "      <td>0.205246</td>\n",
       "      <td>-0.209847</td>\n",
       "      <td>-0.292048</td>\n",
       "      <td>-0.355501</td>\n",
       "      <td>-0.613808</td>\n",
       "      <td>0.695360</td>\n",
       "    </tr>\n",
       "    <tr>\n",
       "      <th>age</th>\n",
       "      <td>0.203784</td>\n",
       "      <td>0.352734</td>\n",
       "      <td>-0.569537</td>\n",
       "      <td>0.644779</td>\n",
       "      <td>0.086518</td>\n",
       "      <td>0.731470</td>\n",
       "      <td>-0.240265</td>\n",
       "      <td>1.000000</td>\n",
       "      <td>-0.747881</td>\n",
       "      <td>0.456022</td>\n",
       "      <td>0.506456</td>\n",
       "      <td>0.261515</td>\n",
       "      <td>0.602339</td>\n",
       "      <td>-0.376955</td>\n",
       "    </tr>\n",
       "    <tr>\n",
       "      <th>dis</th>\n",
       "      <td>-0.302211</td>\n",
       "      <td>-0.379670</td>\n",
       "      <td>0.664408</td>\n",
       "      <td>-0.708027</td>\n",
       "      <td>-0.099176</td>\n",
       "      <td>-0.769230</td>\n",
       "      <td>0.205246</td>\n",
       "      <td>-0.747881</td>\n",
       "      <td>1.000000</td>\n",
       "      <td>-0.494588</td>\n",
       "      <td>-0.534432</td>\n",
       "      <td>-0.232471</td>\n",
       "      <td>-0.496996</td>\n",
       "      <td>0.249929</td>\n",
       "    </tr>\n",
       "    <tr>\n",
       "      <th>rad</th>\n",
       "      <td>0.686002</td>\n",
       "      <td>0.625505</td>\n",
       "      <td>-0.311948</td>\n",
       "      <td>0.595129</td>\n",
       "      <td>-0.007368</td>\n",
       "      <td>0.611441</td>\n",
       "      <td>-0.209847</td>\n",
       "      <td>0.456022</td>\n",
       "      <td>-0.494588</td>\n",
       "      <td>1.000000</td>\n",
       "      <td>0.910228</td>\n",
       "      <td>0.464741</td>\n",
       "      <td>0.488676</td>\n",
       "      <td>-0.381626</td>\n",
       "    </tr>\n",
       "    <tr>\n",
       "      <th>tax</th>\n",
       "      <td>0.666626</td>\n",
       "      <td>0.582764</td>\n",
       "      <td>-0.314563</td>\n",
       "      <td>0.720760</td>\n",
       "      <td>-0.035587</td>\n",
       "      <td>0.668023</td>\n",
       "      <td>-0.292048</td>\n",
       "      <td>0.506456</td>\n",
       "      <td>-0.534432</td>\n",
       "      <td>0.910228</td>\n",
       "      <td>1.000000</td>\n",
       "      <td>0.460853</td>\n",
       "      <td>0.543993</td>\n",
       "      <td>-0.468536</td>\n",
       "    </tr>\n",
       "    <tr>\n",
       "      <th>ptratio</th>\n",
       "      <td>0.291074</td>\n",
       "      <td>0.289946</td>\n",
       "      <td>-0.391679</td>\n",
       "      <td>0.383248</td>\n",
       "      <td>-0.121515</td>\n",
       "      <td>0.188933</td>\n",
       "      <td>-0.355501</td>\n",
       "      <td>0.261515</td>\n",
       "      <td>-0.232471</td>\n",
       "      <td>0.464741</td>\n",
       "      <td>0.460853</td>\n",
       "      <td>1.000000</td>\n",
       "      <td>0.374044</td>\n",
       "      <td>-0.507787</td>\n",
       "    </tr>\n",
       "    <tr>\n",
       "      <th>lstat</th>\n",
       "      <td>0.258465</td>\n",
       "      <td>0.455621</td>\n",
       "      <td>-0.412995</td>\n",
       "      <td>0.603800</td>\n",
       "      <td>-0.053929</td>\n",
       "      <td>0.590879</td>\n",
       "      <td>-0.613808</td>\n",
       "      <td>0.602339</td>\n",
       "      <td>-0.496996</td>\n",
       "      <td>0.488676</td>\n",
       "      <td>0.543993</td>\n",
       "      <td>0.374044</td>\n",
       "      <td>1.000000</td>\n",
       "      <td>-0.737663</td>\n",
       "    </tr>\n",
       "    <tr>\n",
       "      <th>medv</th>\n",
       "      <td>-0.226604</td>\n",
       "      <td>-0.388305</td>\n",
       "      <td>0.360445</td>\n",
       "      <td>-0.483725</td>\n",
       "      <td>0.175260</td>\n",
       "      <td>-0.427321</td>\n",
       "      <td>0.695360</td>\n",
       "      <td>-0.376955</td>\n",
       "      <td>0.249929</td>\n",
       "      <td>-0.381626</td>\n",
       "      <td>-0.468536</td>\n",
       "      <td>-0.507787</td>\n",
       "      <td>-0.737663</td>\n",
       "      <td>1.000000</td>\n",
       "    </tr>\n",
       "  </tbody>\n",
       "</table>\n",
       "</div>"
      ],
      "text/plain": [
       "               id      crim        zn     indus      chas       nox        rm  \\\n",
       "id       1.000000  0.407407 -0.103393  0.399439 -0.003759  0.398736 -0.079971   \n",
       "crim     0.407407  1.000000 -0.200469  0.406583 -0.055892  0.420972 -0.219247   \n",
       "zn      -0.103393 -0.200469  1.000000 -0.533828 -0.042697 -0.516604  0.311991   \n",
       "indus    0.399439  0.406583 -0.533828  1.000000  0.062938  0.763651 -0.391676   \n",
       "chas    -0.003759 -0.055892 -0.042697  0.062938  1.000000  0.091203  0.091251   \n",
       "nox      0.398736  0.420972 -0.516604  0.763651  0.091203  1.000000 -0.302188   \n",
       "rm      -0.079971 -0.219247  0.311991 -0.391676  0.091251 -0.302188  1.000000   \n",
       "age      0.203784  0.352734 -0.569537  0.644779  0.086518  0.731470 -0.240265   \n",
       "dis     -0.302211 -0.379670  0.664408 -0.708027 -0.099176 -0.769230  0.205246   \n",
       "rad      0.686002  0.625505 -0.311948  0.595129 -0.007368  0.611441 -0.209847   \n",
       "tax      0.666626  0.582764 -0.314563  0.720760 -0.035587  0.668023 -0.292048   \n",
       "ptratio  0.291074  0.289946 -0.391679  0.383248 -0.121515  0.188933 -0.355501   \n",
       "lstat    0.258465  0.455621 -0.412995  0.603800 -0.053929  0.590879 -0.613808   \n",
       "medv    -0.226604 -0.388305  0.360445 -0.483725  0.175260 -0.427321  0.695360   \n",
       "\n",
       "              age       dis       rad       tax   ptratio     lstat      medv  \n",
       "id       0.203784 -0.302211  0.686002  0.666626  0.291074  0.258465 -0.226604  \n",
       "crim     0.352734 -0.379670  0.625505  0.582764  0.289946  0.455621 -0.388305  \n",
       "zn      -0.569537  0.664408 -0.311948 -0.314563 -0.391679 -0.412995  0.360445  \n",
       "indus    0.644779 -0.708027  0.595129  0.720760  0.383248  0.603800 -0.483725  \n",
       "chas     0.086518 -0.099176 -0.007368 -0.035587 -0.121515 -0.053929  0.175260  \n",
       "nox      0.731470 -0.769230  0.611441  0.668023  0.188933  0.590879 -0.427321  \n",
       "rm      -0.240265  0.205246 -0.209847 -0.292048 -0.355501 -0.613808  0.695360  \n",
       "age      1.000000 -0.747881  0.456022  0.506456  0.261515  0.602339 -0.376955  \n",
       "dis     -0.747881  1.000000 -0.494588 -0.534432 -0.232471 -0.496996  0.249929  \n",
       "rad      0.456022 -0.494588  1.000000  0.910228  0.464741  0.488676 -0.381626  \n",
       "tax      0.506456 -0.534432  0.910228  1.000000  0.460853  0.543993 -0.468536  \n",
       "ptratio  0.261515 -0.232471  0.464741  0.460853  1.000000  0.374044 -0.507787  \n",
       "lstat    0.602339 -0.496996  0.488676  0.543993  0.374044  1.000000 -0.737663  \n",
       "medv    -0.376955  0.249929 -0.381626 -0.468536 -0.507787 -0.737663  1.000000  "
      ]
     },
     "execution_count": 9,
     "metadata": {},
     "output_type": "execute_result"
    }
   ],
   "source": [
    "boston_data.corr()"
   ]
  },
  {
   "cell_type": "markdown",
   "id": "e97936bd",
   "metadata": {},
   "source": [
    "# 15. (a) For each predictor, fit a simple linear regression model to predict the response. Describe your results. In which of the models is there a statistically significant association between the predictor and the response? Create some plots to back up your assertions."
   ]
  },
  {
   "cell_type": "markdown",
   "id": "a0719910",
   "metadata": {},
   "source": [
    "## As we know, `CRIM`(per capita crime rate) is our response variable and all the other variables are predictors."
   ]
  },
  {
   "cell_type": "markdown",
   "id": "d4712701",
   "metadata": {},
   "source": [
    "# y = `CRIM`  ; X = `ZN`"
   ]
  },
  {
   "cell_type": "code",
   "execution_count": 10,
   "id": "cf01ee18",
   "metadata": {},
   "outputs": [
    {
     "name": "stdout",
     "output_type": "stream",
     "text": [
      "Model Paramters are: \n",
      " const    4.453694\n",
      "zn      -0.073935\n",
      "dtype: float64\n",
      "Model Summary : \n",
      "                             OLS Regression Results                            \n",
      "==============================================================================\n",
      "Dep. Variable:                   crim   R-squared:                       0.040\n",
      "Model:                            OLS   Adj. R-squared:                  0.038\n",
      "Method:                 Least Squares   F-statistic:                     21.10\n",
      "Date:                Sat, 01 Oct 2022   Prob (F-statistic):           5.51e-06\n",
      "Time:                        11:28:58   Log-Likelihood:                -1796.0\n",
      "No. Observations:                 506   AIC:                             3596.\n",
      "Df Residuals:                     504   BIC:                             3604.\n",
      "Df Model:                           1                                         \n",
      "Covariance Type:            nonrobust                                         \n",
      "==============================================================================\n",
      "                 coef    std err          t      P>|t|      [0.025      0.975]\n",
      "------------------------------------------------------------------------------\n",
      "const          4.4537      0.417     10.675      0.000       3.634       5.273\n",
      "zn            -0.0739      0.016     -4.594      0.000      -0.106      -0.042\n",
      "==============================================================================\n",
      "Omnibus:                      567.443   Durbin-Watson:                   0.857\n",
      "Prob(Omnibus):                  0.000   Jarque-Bera (JB):            32753.004\n",
      "Skew:                           5.257   Prob(JB):                         0.00\n",
      "Kurtosis:                      40.986   Cond. No.                         28.8\n",
      "==============================================================================\n",
      "\n",
      "Notes:\n",
      "[1] Standard Errors assume that the covariance matrix of the errors is correctly specified.\n"
     ]
    }
   ],
   "source": [
    "X = boston_data[['zn']]\n",
    "X = sm.add_constant(X)\n",
    "y = boston_data[['crim']]\n",
    "model = sm.OLS(y,X).fit()\n",
    "print(\"Model Paramters are: \\n\",model.params)\n",
    "print(\"Model Summary : \\n\",model.summary())"
   ]
  },
  {
   "cell_type": "markdown",
   "id": "03064722",
   "metadata": {},
   "source": [
    "__The R-squared value for above model is 0.040 which means we can only predict 4% of Crime variance based on the ZN (proportion of residential land zoned for lots over 25000 sq. ft.) and p-value is close to 0 but the model doesn't look significant.__"
   ]
  },
  {
   "cell_type": "code",
   "execution_count": 11,
   "id": "456b8d36",
   "metadata": {},
   "outputs": [],
   "source": [
    "y_pred = model.predict(X)"
   ]
  },
  {
   "cell_type": "code",
   "execution_count": 12,
   "id": "8d97187b",
   "metadata": {},
   "outputs": [],
   "source": [
    "y_pred = pd.DataFrame({'crim' : y_pred})"
   ]
  },
  {
   "cell_type": "code",
   "execution_count": 13,
   "id": "7668ea18",
   "metadata": {},
   "outputs": [],
   "source": [
    "y_residual = y.subtract(y_pred)"
   ]
  },
  {
   "cell_type": "code",
   "execution_count": 14,
   "id": "e68f57a6",
   "metadata": {},
   "outputs": [
    {
     "name": "stderr",
     "output_type": "stream",
     "text": [
      "E:\\Anaconda\\lib\\site-packages\\seaborn\\distributions.py:2619: FutureWarning: `distplot` is a deprecated function and will be removed in a future version. Please adapt your code to use either `displot` (a figure-level function with similar flexibility) or `histplot` (an axes-level function for histograms).\n",
      "  warnings.warn(msg, FutureWarning)\n"
     ]
    },
    {
     "data": {
      "image/png": "[encoded data removed]",
      "text/plain": [
       "<Figure size 576x432 with 1 Axes>"
      ]
     },
     "metadata": {},
     "output_type": "display_data"
    }
   ],
   "source": [
    "sns.set(rc={'figure.figsize':(8,6)})\n",
    "sns.distplot(y_residual, color='red', bins = 50)\n",
    "plt.title(\"Distribution of Residual\")\n",
    "plt.show();"
   ]
  },
  {
   "cell_type": "markdown",
   "id": "0d572157",
   "metadata": {},
   "source": [
    "__We can also observe from Distribution of Residuals that this model is less significant as residuals do not even follow path of Normal Distribution.__"
   ]
  },
  {
   "cell_type": "markdown",
   "id": "ad0c2a6f",
   "metadata": {},
   "source": [
    "_______________________________________________"
   ]
  },
  {
   "cell_type": "markdown",
   "id": "8d58455e",
   "metadata": {},
   "source": [
    "# y = `CRIM`  ; X = `INDUS`"
   ]
  },
  {
   "cell_type": "code",
   "execution_count": 15,
   "id": "9ae806f4",
   "metadata": {},
   "outputs": [
    {
     "name": "stdout",
     "output_type": "stream",
     "text": [
      "Model Paramters are: \n",
      " const   -2.063743\n",
      "indus    0.509776\n",
      "dtype: float64\n",
      "Model Summary : \n",
      "                             OLS Regression Results                            \n",
      "==============================================================================\n",
      "Dep. Variable:                   crim   R-squared:                       0.165\n",
      "Model:                            OLS   Adj. R-squared:                  0.164\n",
      "Method:                 Least Squares   F-statistic:                     99.82\n",
      "Date:                Sat, 01 Oct 2022   Prob (F-statistic):           1.45e-21\n",
      "Time:                        11:28:58   Log-Likelihood:                -1760.6\n",
      "No. Observations:                 506   AIC:                             3525.\n",
      "Df Residuals:                     504   BIC:                             3534.\n",
      "Df Model:                           1                                         \n",
      "Covariance Type:            nonrobust                                         \n",
      "==============================================================================\n",
      "                 coef    std err          t      P>|t|      [0.025      0.975]\n",
      "------------------------------------------------------------------------------\n",
      "const         -2.0637      0.667     -3.093      0.002      -3.375      -0.753\n",
      "indus          0.5098      0.051      9.991      0.000       0.410       0.610\n",
      "==============================================================================\n",
      "Omnibus:                      585.118   Durbin-Watson:                   0.986\n",
      "Prob(Omnibus):                  0.000   Jarque-Bera (JB):            41418.938\n",
      "Skew:                           5.449   Prob(JB):                         0.00\n",
      "Kurtosis:                      45.962   Cond. No.                         25.1\n",
      "==============================================================================\n",
      "\n",
      "Notes:\n",
      "[1] Standard Errors assume that the covariance matrix of the errors is correctly specified.\n"
     ]
    }
   ],
   "source": [
    "X = boston_data[['indus']]\n",
    "X = sm.add_constant(X)\n",
    "y = boston_data[['crim']]\n",
    "model = sm.OLS(y,X).fit()\n",
    "print(\"Model Paramters are: \\n\",model.params)\n",
    "print(\"Model Summary : \\n\",model.summary())"
   ]
  },
  {
   "cell_type": "markdown",
   "id": "cf47c1ad",
   "metadata": {},
   "source": [
    "__The R-squared value for the above model is 0.165 which means we can only predict 16.5% of Crime variance based on the `INDUS` and the p-value is close to 0 but the model doesn't look significant.__"
   ]
  },
  {
   "cell_type": "code",
   "execution_count": 16,
   "id": "b1a1fd5f",
   "metadata": {},
   "outputs": [],
   "source": [
    "y_pred = model.predict(X)\n",
    "\n",
    "y_pred = pd.DataFrame({'crim' : y_pred})\n",
    "\n",
    "y_residual = y.subtract(y_pred)"
   ]
  },
  {
   "cell_type": "code",
   "execution_count": 17,
   "id": "0453e8dd",
   "metadata": {},
   "outputs": [
    {
     "name": "stderr",
     "output_type": "stream",
     "text": [
      "E:\\Anaconda\\lib\\site-packages\\seaborn\\distributions.py:2619: FutureWarning: `distplot` is a deprecated function and will be removed in a future version. Please adapt your code to use either `displot` (a figure-level function with similar flexibility) or `histplot` (an axes-level function for histograms).\n",
      "  warnings.warn(msg, FutureWarning)\n"
     ]
    },
    {
     "data": {
      "image/png": "[encoded data removed]",
      "text/plain": [
       "<Figure size 576x432 with 1 Axes>"
      ]
     },
     "metadata": {},
     "output_type": "display_data"
    }
   ],
   "source": [
    "sns.set(rc={'figure.figsize':(8,6)})\n",
    "sns.distplot(y_residual, color='red', bins = 50)\n",
    "plt.title(\"Distribution of Residual\")\n",
    "plt.show();"
   ]
  },
  {
   "cell_type": "markdown",
   "id": "483cd6f4",
   "metadata": {},
   "source": [
    "# y = `CRIM`  ; X = `CHAS`"
   ]
  },
  {
   "cell_type": "code",
   "execution_count": 18,
   "id": "b6313fde",
   "metadata": {},
   "outputs": [
    {
     "name": "stdout",
     "output_type": "stream",
     "text": [
      "Model Paramters are: \n",
      " const    3.744447\n",
      "chas    -1.892777\n",
      "dtype: float64\n",
      "Model Summary : \n",
      "                             OLS Regression Results                            \n",
      "==============================================================================\n",
      "Dep. Variable:                   crim   R-squared:                       0.003\n",
      "Model:                            OLS   Adj. R-squared:                  0.001\n",
      "Method:                 Least Squares   F-statistic:                     1.579\n",
      "Date:                Sat, 01 Oct 2022   Prob (F-statistic):              0.209\n",
      "Time:                        11:28:58   Log-Likelihood:                -1805.6\n",
      "No. Observations:                 506   AIC:                             3615.\n",
      "Df Residuals:                     504   BIC:                             3624.\n",
      "Df Model:                           1                                         \n",
      "Covariance Type:            nonrobust                                         \n",
      "==============================================================================\n",
      "                 coef    std err          t      P>|t|      [0.025      0.975]\n",
      "------------------------------------------------------------------------------\n",
      "const          3.7444      0.396      9.453      0.000       2.966       4.523\n",
      "chas          -1.8928      1.506     -1.257      0.209      -4.852       1.066\n",
      "==============================================================================\n",
      "Omnibus:                      561.663   Durbin-Watson:                   0.817\n",
      "Prob(Omnibus):                  0.000   Jarque-Bera (JB):            30645.429\n",
      "Skew:                           5.191   Prob(JB):                         0.00\n",
      "Kurtosis:                      39.685   Cond. No.                         3.96\n",
      "==============================================================================\n",
      "\n",
      "Notes:\n",
      "[1] Standard Errors assume that the covariance matrix of the errors is correctly specified.\n"
     ]
    }
   ],
   "source": [
    "X = boston_data[['chas']]\n",
    "X = sm.add_constant(X)\n",
    "y = boston_data[['crim']]\n",
    "model = sm.OLS(y,X).fit()\n",
    "print(\"Model Paramters are: \\n\",model.params)\n",
    "print(\"Model Summary : \\n\",model.summary())"
   ]
  },
  {
   "cell_type": "markdown",
   "id": "7abe1c85",
   "metadata": {},
   "source": [
    "__The R-squared value for the above model is 0.003 which means we can only predict 0.3 % of Crime variance based on the `CHAS` and the p-value is close to 0 for the model but for individual variable p-value is more than 0.05 which make this variable insignificant.__"
   ]
  },
  {
   "cell_type": "code",
   "execution_count": 19,
   "id": "ea85bee8",
   "metadata": {},
   "outputs": [],
   "source": [
    "y_pred = model.predict(X)\n",
    "\n",
    "y_pred = pd.DataFrame({'crim' : y_pred})\n",
    "\n",
    "y_residual = y.subtract(y_pred)"
   ]
  },
  {
   "cell_type": "code",
   "execution_count": 20,
   "id": "2ca88007",
   "metadata": {},
   "outputs": [
    {
     "name": "stderr",
     "output_type": "stream",
     "text": [
      "E:\\Anaconda\\lib\\site-packages\\seaborn\\distributions.py:2619: FutureWarning: `distplot` is a deprecated function and will be removed in a future version. Please adapt your code to use either `displot` (a figure-level function with similar flexibility) or `histplot` (an axes-level function for histograms).\n",
      "  warnings.warn(msg, FutureWarning)\n"
     ]
    },
    {
     "data": {
      "image/png": "[encoded data removed]",
      "text/plain": [
       "<Figure size 576x432 with 1 Axes>"
      ]
     },
     "metadata": {},
     "output_type": "display_data"
    }
   ],
   "source": [
    "sns.set(rc={'figure.figsize':(8,6)})\n",
    "sns.distplot(y_residual, color='red', bins = 50)\n",
    "plt.title(\"Distribution of Residual\")\n",
    "plt.show();"
   ]
  },
  {
   "cell_type": "markdown",
   "id": "aa388be6",
   "metadata": {},
   "source": [
    "__The distribution of residuals also look right skewed and clearly distribution of residuals do not follow a path of Normal Distribution.__"
   ]
  },
  {
   "cell_type": "markdown",
   "id": "4fb2ac78",
   "metadata": {},
   "source": [
    "# y = `CRIM`  ; X = `NOX`"
   ]
  },
  {
   "cell_type": "code",
   "execution_count": 21,
   "id": "997e65a8",
   "metadata": {},
   "outputs": [
    {
     "name": "stdout",
     "output_type": "stream",
     "text": [
      "Model Paramters are: \n",
      " const   -13.719882\n",
      "nox      31.248531\n",
      "dtype: float64\n",
      "Model Summary : \n",
      "                             OLS Regression Results                            \n",
      "==============================================================================\n",
      "Dep. Variable:                   crim   R-squared:                       0.177\n",
      "Model:                            OLS   Adj. R-squared:                  0.176\n",
      "Method:                 Least Squares   F-statistic:                     108.6\n",
      "Date:                Sat, 01 Oct 2022   Prob (F-statistic):           3.75e-23\n",
      "Time:                        11:28:59   Log-Likelihood:                -1757.0\n",
      "No. Observations:                 506   AIC:                             3518.\n",
      "Df Residuals:                     504   BIC:                             3526.\n",
      "Df Model:                           1                                         \n",
      "Covariance Type:            nonrobust                                         \n",
      "==============================================================================\n",
      "                 coef    std err          t      P>|t|      [0.025      0.975]\n",
      "------------------------------------------------------------------------------\n",
      "const        -13.7199      1.699     -8.073      0.000     -17.059     -10.381\n",
      "nox           31.2485      2.999     10.419      0.000      25.356      37.141\n",
      "==============================================================================\n",
      "Omnibus:                      591.712   Durbin-Watson:                   0.992\n",
      "Prob(Omnibus):                  0.000   Jarque-Bera (JB):            43138.106\n",
      "Skew:                           5.546   Prob(JB):                         0.00\n",
      "Kurtosis:                      46.852   Cond. No.                         11.3\n",
      "==============================================================================\n",
      "\n",
      "Notes:\n",
      "[1] Standard Errors assume that the covariance matrix of the errors is correctly specified.\n"
     ]
    }
   ],
   "source": [
    "X = boston_data[['nox']]\n",
    "X = sm.add_constant(X)\n",
    "y = boston_data[['crim']]\n",
    "model = sm.OLS(y,X).fit()\n",
    "print(\"Model Paramters are: \\n\",model.params)\n",
    "print(\"Model Summary : \\n\",model.summary())"
   ]
  },
  {
   "cell_type": "markdown",
   "id": "d66b753b",
   "metadata": {},
   "source": [
    "__The R-squared value for the above model is 0.177 which means we can only predict 17.7% of Crime variance based on the `NOX` and the p-value is close to 0 but the model doesn't look significant.__\n"
   ]
  },
  {
   "cell_type": "code",
   "execution_count": 22,
   "id": "12d207dd",
   "metadata": {},
   "outputs": [],
   "source": [
    "y_pred = model.predict(X)\n",
    "\n",
    "y_pred = pd.DataFrame({'crim' : y_pred})\n",
    "\n",
    "y_residual = y.subtract(y_pred)"
   ]
  },
  {
   "cell_type": "code",
   "execution_count": 23,
   "id": "0faafb93",
   "metadata": {},
   "outputs": [
    {
     "name": "stderr",
     "output_type": "stream",
     "text": [
      "E:\\Anaconda\\lib\\site-packages\\seaborn\\distributions.py:2619: FutureWarning: `distplot` is a deprecated function and will be removed in a future version. Please adapt your code to use either `displot` (a figure-level function with similar flexibility) or `histplot` (an axes-level function for histograms).\n",
      "  warnings.warn(msg, FutureWarning)\n"
     ]
    },
    {
     "data": {
      "image/png": "[encoded data removed]",
      "text/plain": [
       "<Figure size 576x432 with 1 Axes>"
      ]
     },
     "metadata": {},
     "output_type": "display_data"
    }
   ],
   "source": [
    "sns.set(rc={'figure.figsize':(8,6)})\n",
    "sns.distplot(y_residual, color='red', bins = 50)\n",
    "plt.title(\"Distribution of Residual\")\n",
    "plt.show();"
   ]
  },
  {
   "cell_type": "markdown",
   "id": "e6185023",
   "metadata": {},
   "source": [
    "__The distribution of residuals also look right skewed and clearly distribution of residuals do not follow a path of Normal Distribution.__"
   ]
  },
  {
   "cell_type": "markdown",
   "id": "14ef7f5d",
   "metadata": {},
   "source": [
    "# y = CRIM ; X = RM"
   ]
  },
  {
   "cell_type": "code",
   "execution_count": 24,
   "id": "63ff7c78",
   "metadata": {},
   "outputs": [
    {
     "name": "stdout",
     "output_type": "stream",
     "text": [
      "Model Paramters are: \n",
      " const    20.481804\n",
      "rm       -2.684051\n",
      "dtype: float64\n",
      "Model Summary : \n",
      "                             OLS Regression Results                            \n",
      "==============================================================================\n",
      "Dep. Variable:                   crim   R-squared:                       0.048\n",
      "Model:                            OLS   Adj. R-squared:                  0.046\n",
      "Method:                 Least Squares   F-statistic:                     25.45\n",
      "Date:                Sat, 01 Oct 2022   Prob (F-statistic):           6.35e-07\n",
      "Time:                        11:28:59   Log-Likelihood:                -1793.9\n",
      "No. Observations:                 506   AIC:                             3592.\n",
      "Df Residuals:                     504   BIC:                             3600.\n",
      "Df Model:                           1                                         \n",
      "Covariance Type:            nonrobust                                         \n",
      "==============================================================================\n",
      "                 coef    std err          t      P>|t|      [0.025      0.975]\n",
      "------------------------------------------------------------------------------\n",
      "const         20.4818      3.364      6.088      0.000      13.872      27.092\n",
      "rm            -2.6841      0.532     -5.045      0.000      -3.729      -1.639\n",
      "==============================================================================\n",
      "Omnibus:                      575.717   Durbin-Watson:                   0.879\n",
      "Prob(Omnibus):                  0.000   Jarque-Bera (JB):            36658.093\n",
      "Skew:                           5.345   Prob(JB):                         0.00\n",
      "Kurtosis:                      43.305   Cond. No.                         58.4\n",
      "==============================================================================\n",
      "\n",
      "Notes:\n",
      "[1] Standard Errors assume that the covariance matrix of the errors is correctly specified.\n"
     ]
    }
   ],
   "source": [
    "X = boston_data[['rm']]\n",
    "X = sm.add_constant(X)\n",
    "y = boston_data[['crim']]\n",
    "model = sm.OLS(y,X).fit()\n",
    "print(\"Model Paramters are: \\n\",model.params)\n",
    "print(\"Model Summary : \\n\",model.summary())"
   ]
  },
  {
   "cell_type": "markdown",
   "id": "01059026",
   "metadata": {},
   "source": [
    "__The R-squared value for the above model is 0.048 which means we can only predict 4.8 % of Crime variance based on the `RM` and the p-value is close to 0 but the model doesn't look significant.__"
   ]
  },
  {
   "cell_type": "code",
   "execution_count": 25,
   "id": "92e65af9",
   "metadata": {},
   "outputs": [],
   "source": [
    "y_pred = model.predict(X)\n",
    "\n",
    "y_pred = pd.DataFrame({'crim' : y_pred})\n",
    "\n",
    "y_residual = y.subtract(y_pred)"
   ]
  },
  {
   "cell_type": "code",
   "execution_count": 26,
   "id": "7fab3f1c",
   "metadata": {},
   "outputs": [
    {
     "name": "stderr",
     "output_type": "stream",
     "text": [
      "E:\\Anaconda\\lib\\site-packages\\seaborn\\distributions.py:2619: FutureWarning: `distplot` is a deprecated function and will be removed in a future version. Please adapt your code to use either `displot` (a figure-level function with similar flexibility) or `histplot` (an axes-level function for histograms).\n",
      "  warnings.warn(msg, FutureWarning)\n"
     ]
    },
    {
     "data": {
      "image/png": "[encoded data removed]",
      "text/plain": [
       "<Figure size 576x432 with 1 Axes>"
      ]
     },
     "metadata": {},
     "output_type": "display_data"
    }
   ],
   "source": [
    "sns.set(rc={'figure.figsize':(8,6)})\n",
    "sns.distplot(y_residual, color='red', bins = 50)\n",
    "plt.title(\"Distribution of Residual\")\n",
    "plt.show();"
   ]
  },
  {
   "cell_type": "markdown",
   "id": "2a283e97",
   "metadata": {},
   "source": [
    "__The distribution of residuals also look right skewed and clearly distribution of residuals do not follow a path of Normal Distribution.__"
   ]
  },
  {
   "cell_type": "markdown",
   "id": "6da428da",
   "metadata": {},
   "source": [
    "# y = CRIM ; X = AGE"
   ]
  },
  {
   "cell_type": "code",
   "execution_count": 27,
   "id": "a68ddce3",
   "metadata": {},
   "outputs": [
    {
     "name": "stdout",
     "output_type": "stream",
     "text": [
      "Model Paramters are: \n",
      " const   -3.777906\n",
      "age      0.107786\n",
      "dtype: float64\n",
      "Model Summary : \n",
      "                             OLS Regression Results                            \n",
      "==============================================================================\n",
      "Dep. Variable:                   crim   R-squared:                       0.124\n",
      "Model:                            OLS   Adj. R-squared:                  0.123\n",
      "Method:                 Least Squares   F-statistic:                     71.62\n",
      "Date:                Sat, 01 Oct 2022   Prob (F-statistic):           2.85e-16\n",
      "Time:                        11:28:59   Log-Likelihood:                -1772.7\n",
      "No. Observations:                 506   AIC:                             3549.\n",
      "Df Residuals:                     504   BIC:                             3558.\n",
      "Df Model:                           1                                         \n",
      "Covariance Type:            nonrobust                                         \n",
      "==============================================================================\n",
      "                 coef    std err          t      P>|t|      [0.025      0.975]\n",
      "------------------------------------------------------------------------------\n",
      "const         -3.7779      0.944     -4.002      0.000      -5.633      -1.923\n",
      "age            0.1078      0.013      8.463      0.000       0.083       0.133\n",
      "==============================================================================\n",
      "Omnibus:                      574.509   Durbin-Watson:                   0.956\n",
      "Prob(Omnibus):                  0.000   Jarque-Bera (JB):            36741.903\n",
      "Skew:                           5.322   Prob(JB):                         0.00\n",
      "Kurtosis:                      43.366   Cond. No.                         195.\n",
      "==============================================================================\n",
      "\n",
      "Notes:\n",
      "[1] Standard Errors assume that the covariance matrix of the errors is correctly specified.\n"
     ]
    }
   ],
   "source": [
    "X = boston_data[['age']]\n",
    "X = sm.add_constant(X)\n",
    "y = boston_data[['crim']]\n",
    "model = sm.OLS(y,X).fit()\n",
    "print(\"Model Paramters are: \\n\",model.params)\n",
    "print(\"Model Summary : \\n\",model.summary())"
   ]
  },
  {
   "cell_type": "markdown",
   "id": "582bbb90",
   "metadata": {},
   "source": [
    "__The R-squared value for the above model is 0.124 which means we can only predict 12.4% of Crime variance based on the `AGE` and the p-value is close to 0 but the model doesn't look significant.__"
   ]
  },
  {
   "cell_type": "code",
   "execution_count": 28,
   "id": "ed02052e",
   "metadata": {},
   "outputs": [],
   "source": [
    "y_pred = model.predict(X)\n",
    "\n",
    "y_pred = pd.DataFrame({'crim' : y_pred})\n",
    "\n",
    "y_residual = y.subtract(y_pred)"
   ]
  },
  {
   "cell_type": "code",
   "execution_count": 29,
   "id": "4e98a4ce",
   "metadata": {},
   "outputs": [
    {
     "name": "stderr",
     "output_type": "stream",
     "text": [
      "E:\\Anaconda\\lib\\site-packages\\seaborn\\distributions.py:2619: FutureWarning: `distplot` is a deprecated function and will be removed in a future version. Please adapt your code to use either `displot` (a figure-level function with similar flexibility) or `histplot` (an axes-level function for histograms).\n",
      "  warnings.warn(msg, FutureWarning)\n"
     ]
    },
    {
     "data": {
      "image/png": "[encoded data removed]",
      "text/plain": [
       "<Figure size 576x432 with 1 Axes>"
      ]
     },
     "metadata": {},
     "output_type": "display_data"
    }
   ],
   "source": [
    "sns.set(rc={'figure.figsize':(8,6)})\n",
    "sns.distplot(y_residual, color='red', bins = 50)\n",
    "plt.title(\"Distribution of Residual\")\n",
    "plt.show();"
   ]
  },
  {
   "cell_type": "markdown",
   "id": "89fce265",
   "metadata": {},
   "source": [
    "__The distribution of residuals also look right skewed and clearly distribution of residuals do not follow a path of Normal Distribution.__"
   ]
  },
  {
   "cell_type": "markdown",
   "id": "fed75333",
   "metadata": {},
   "source": [
    "# y = CRIM ; X = DIS"
   ]
  },
  {
   "cell_type": "code",
   "execution_count": 30,
   "id": "1a64352c",
   "metadata": {},
   "outputs": [
    {
     "name": "stdout",
     "output_type": "stream",
     "text": [
      "Model Paramters are: \n",
      " const    9.499262\n",
      "dis     -1.550902\n",
      "dtype: float64\n",
      "Model Summary : \n",
      "                             OLS Regression Results                            \n",
      "==============================================================================\n",
      "Dep. Variable:                   crim   R-squared:                       0.144\n",
      "Model:                            OLS   Adj. R-squared:                  0.142\n",
      "Method:                 Least Squares   F-statistic:                     84.89\n",
      "Date:                Sat, 01 Oct 2022   Prob (F-statistic):           8.52e-19\n",
      "Time:                        11:28:59   Log-Likelihood:                -1767.0\n",
      "No. Observations:                 506   AIC:                             3538.\n",
      "Df Residuals:                     504   BIC:                             3546.\n",
      "Df Model:                           1                                         \n",
      "Covariance Type:            nonrobust                                         \n",
      "==============================================================================\n",
      "                 coef    std err          t      P>|t|      [0.025      0.975]\n",
      "------------------------------------------------------------------------------\n",
      "const          9.4993      0.730     13.006      0.000       8.064      10.934\n",
      "dis           -1.5509      0.168     -9.213      0.000      -1.882      -1.220\n",
      "==============================================================================\n",
      "Omnibus:                      576.519   Durbin-Watson:                   0.952\n",
      "Prob(Omnibus):                  0.000   Jarque-Bera (JB):            37426.729\n",
      "Skew:                           5.348   Prob(JB):                         0.00\n",
      "Kurtosis:                      43.753   Cond. No.                         9.32\n",
      "==============================================================================\n",
      "\n",
      "Notes:\n",
      "[1] Standard Errors assume that the covariance matrix of the errors is correctly specified.\n"
     ]
    }
   ],
   "source": [
    "X = boston_data[['dis']]\n",
    "X = sm.add_constant(X)\n",
    "y = boston_data[['crim']]\n",
    "model = sm.OLS(y,X).fit()\n",
    "print(\"Model Paramters are: \\n\",model.params)\n",
    "print(\"Model Summary : \\n\",model.summary())"
   ]
  },
  {
   "cell_type": "markdown",
   "id": "c3b2654a",
   "metadata": {},
   "source": [
    "__The R-squared value for the above model is 0.144 which means we can only predict 14.4% of Crime variance based on the `DIS` and the p-value is close to 0 but the model doesn't look significant.__"
   ]
  },
  {
   "cell_type": "code",
   "execution_count": 31,
   "id": "4e25ed2e",
   "metadata": {},
   "outputs": [],
   "source": [
    "y_pred = model.predict(X)\n",
    "\n",
    "y_pred = pd.DataFrame({'crim' : y_pred})\n",
    "\n",
    "y_residual = y.subtract(y_pred)"
   ]
  },
  {
   "cell_type": "code",
   "execution_count": 32,
   "id": "02cdde5a",
   "metadata": {},
   "outputs": [
    {
     "name": "stderr",
     "output_type": "stream",
     "text": [
      "E:\\Anaconda\\lib\\site-packages\\seaborn\\distributions.py:2619: FutureWarning: `distplot` is a deprecated function and will be removed in a future version. Please adapt your code to use either `displot` (a figure-level function with similar flexibility) or `histplot` (an axes-level function for histograms).\n",
      "  warnings.warn(msg, FutureWarning)\n"
     ]
    },
    {
     "data": {
      "image/png": "[encoded data removed]",
      "text/plain": [
       "<Figure size 576x432 with 1 Axes>"
      ]
     },
     "metadata": {},
     "output_type": "display_data"
    }
   ],
   "source": [
    "sns.set(rc={'figure.figsize':(8,6)})\n",
    "sns.distplot(y_residual, color='red', bins = 50)\n",
    "plt.title(\"Distribution of Residual\")\n",
    "plt.show();"
   ]
  },
  {
   "cell_type": "markdown",
   "id": "ff62cd13",
   "metadata": {},
   "source": [
    "__The distribution of residuals also look right skewed and clearly distribution of residuals do not follow a path of Normal Distribution.__"
   ]
  },
  {
   "cell_type": "markdown",
   "id": "2c57ab81",
   "metadata": {},
   "source": [
    "# y = CRIM ; X = RAD"
   ]
  },
  {
   "cell_type": "code",
   "execution_count": 33,
   "id": "b12a9ec1",
   "metadata": {
    "scrolled": false
   },
   "outputs": [
    {
     "name": "stdout",
     "output_type": "stream",
     "text": [
      "Model Paramters are: \n",
      " const   -2.287159\n",
      "rad      0.617911\n",
      "dtype: float64\n",
      "Model Summary : \n",
      "                             OLS Regression Results                            \n",
      "==============================================================================\n",
      "Dep. Variable:                   crim   R-squared:                       0.391\n",
      "Model:                            OLS   Adj. R-squared:                  0.390\n",
      "Method:                 Least Squares   F-statistic:                     323.9\n",
      "Date:                Sat, 01 Oct 2022   Prob (F-statistic):           2.69e-56\n",
      "Time:                        11:28:59   Log-Likelihood:                -1680.8\n",
      "No. Observations:                 506   AIC:                             3366.\n",
      "Df Residuals:                     504   BIC:                             3374.\n",
      "Df Model:                           1                                         \n",
      "Covariance Type:            nonrobust                                         \n",
      "==============================================================================\n",
      "                 coef    std err          t      P>|t|      [0.025      0.975]\n",
      "------------------------------------------------------------------------------\n",
      "const         -2.2872      0.443     -5.157      0.000      -3.158      -1.416\n",
      "rad            0.6179      0.034     17.998      0.000       0.550       0.685\n",
      "==============================================================================\n",
      "Omnibus:                      656.459   Durbin-Watson:                   1.337\n",
      "Prob(Omnibus):                  0.000   Jarque-Bera (JB):            75417.007\n",
      "Skew:                           6.478   Prob(JB):                         0.00\n",
      "Kurtosis:                      61.389   Cond. No.                         19.2\n",
      "==============================================================================\n",
      "\n",
      "Notes:\n",
      "[1] Standard Errors assume that the covariance matrix of the errors is correctly specified.\n"
     ]
    }
   ],
   "source": [
    "X = boston_data[['rad']]\n",
    "X = sm.add_constant(X)\n",
    "y = boston_data[['crim']]\n",
    "model = sm.OLS(y,X).fit()\n",
    "print(\"Model Paramters are: \\n\",model.params)\n",
    "print(\"Model Summary : \\n\",model.summary())"
   ]
  },
  {
   "cell_type": "markdown",
   "id": "3ac849a0",
   "metadata": {},
   "source": [
    "__The R-squared value for the above model is 0.391 which means we can only predict 39.1% of Crime variance based on the `RAD` (index of accessibility to radial highways) which is way more than what we have seen in the previous variables and the p-value is close to 0.__"
   ]
  },
  {
   "cell_type": "code",
   "execution_count": 34,
   "id": "1eb834e1",
   "metadata": {},
   "outputs": [],
   "source": [
    "y_pred = model.predict(X)\n",
    "\n",
    "y_pred = pd.DataFrame({'crim' : y_pred})\n",
    "\n",
    "y_residual = y.subtract(y_pred)"
   ]
  },
  {
   "cell_type": "code",
   "execution_count": 35,
   "id": "f2c7d545",
   "metadata": {},
   "outputs": [
    {
     "name": "stderr",
     "output_type": "stream",
     "text": [
      "E:\\Anaconda\\lib\\site-packages\\seaborn\\distributions.py:2619: FutureWarning: `distplot` is a deprecated function and will be removed in a future version. Please adapt your code to use either `displot` (a figure-level function with similar flexibility) or `histplot` (an axes-level function for histograms).\n",
      "  warnings.warn(msg, FutureWarning)\n"
     ]
    },
    {
     "data": {
      "image/png": "[encoded data removed]",
      "text/plain": [
       "<Figure size 576x432 with 1 Axes>"
      ]
     },
     "metadata": {},
     "output_type": "display_data"
    }
   ],
   "source": [
    "sns.set(rc={'figure.figsize':(8,6)})\n",
    "sns.distplot(y_residual, color='red', bins = 50)\n",
    "plt.title(\"Distribution of Residual\")\n",
    "plt.show();"
   ]
  },
  {
   "cell_type": "markdown",
   "id": "54099fb6",
   "metadata": {},
   "source": [
    "__The distribution of residuals also look right skewed and clearly distribution of residuals do not follow a path of Normal Distribution.__"
   ]
  },
  {
   "cell_type": "markdown",
   "id": "41a22442",
   "metadata": {},
   "source": [
    "# y = CRIM ; X = TAX"
   ]
  },
  {
   "cell_type": "code",
   "execution_count": 36,
   "id": "6621251e",
   "metadata": {},
   "outputs": [
    {
     "name": "stdout",
     "output_type": "stream",
     "text": [
      "Model Paramters are: \n",
      " const   -8.528369\n",
      "tax      0.029742\n",
      "dtype: float64\n",
      "Model Summary : \n",
      "                             OLS Regression Results                            \n",
      "==============================================================================\n",
      "Dep. Variable:                   crim   R-squared:                       0.340\n",
      "Model:                            OLS   Adj. R-squared:                  0.338\n",
      "Method:                 Least Squares   F-statistic:                     259.2\n",
      "Date:                Sat, 01 Oct 2022   Prob (F-statistic):           2.36e-47\n",
      "Time:                        11:29:00   Log-Likelihood:                -1701.4\n",
      "No. Observations:                 506   AIC:                             3407.\n",
      "Df Residuals:                     504   BIC:                             3415.\n",
      "Df Model:                           1                                         \n",
      "Covariance Type:            nonrobust                                         \n",
      "==============================================================================\n",
      "                 coef    std err          t      P>|t|      [0.025      0.975]\n",
      "------------------------------------------------------------------------------\n",
      "const         -8.5284      0.816    -10.454      0.000     -10.131      -6.926\n",
      "tax            0.0297      0.002     16.099      0.000       0.026       0.033\n",
      "==============================================================================\n",
      "Omnibus:                      635.377   Durbin-Watson:                   1.252\n",
      "Prob(Omnibus):                  0.000   Jarque-Bera (JB):            63763.835\n",
      "Skew:                           6.156   Prob(JB):                         0.00\n",
      "Kurtosis:                      56.599   Cond. No.                     1.16e+03\n",
      "==============================================================================\n",
      "\n",
      "Notes:\n",
      "[1] Standard Errors assume that the covariance matrix of the errors is correctly specified.\n",
      "[2] The condition number is large, 1.16e+03. This might indicate that there are\n",
      "strong multicollinearity or other numerical problems.\n"
     ]
    }
   ],
   "source": [
    "X = boston_data[['tax']]\n",
    "X = sm.add_constant(X)\n",
    "y = boston_data[['crim']]\n",
    "model = sm.OLS(y,X).fit()\n",
    "print(\"Model Paramters are: \\n\",model.params)\n",
    "print(\"Model Summary : \\n\",model.summary())"
   ]
  },
  {
   "cell_type": "markdown",
   "id": "06ec0746",
   "metadata": {},
   "source": [
    "__The R-squared value for the above model is 0.340 which means we can only predict 34% of Crime variance based on the `TAX` and the p-value is close to \n",
    "0.__"
   ]
  },
  {
   "cell_type": "code",
   "execution_count": 37,
   "id": "5f5a17b7",
   "metadata": {},
   "outputs": [],
   "source": [
    "y_pred = model.predict(X)\n",
    "\n",
    "y_pred = pd.DataFrame({'crim' : y_pred})\n",
    "\n",
    "y_residual = y.subtract(y_pred)"
   ]
  },
  {
   "cell_type": "code",
   "execution_count": 38,
   "id": "5ce7e6a0",
   "metadata": {},
   "outputs": [
    {
     "name": "stderr",
     "output_type": "stream",
     "text": [
      "E:\\Anaconda\\lib\\site-packages\\seaborn\\distributions.py:2619: FutureWarning: `distplot` is a deprecated function and will be removed in a future version. Please adapt your code to use either `displot` (a figure-level function with similar flexibility) or `histplot` (an axes-level function for histograms).\n",
      "  warnings.warn(msg, FutureWarning)\n"
     ]
    },
    {
     "data": {
      "image/png": "[encoded data removed]",
      "text/plain": [
       "<Figure size 576x432 with 1 Axes>"
      ]
     },
     "metadata": {},
     "output_type": "display_data"
    }
   ],
   "source": [
    "sns.set(rc={'figure.figsize':(8,6)})\n",
    "sns.distplot(y_residual, color='red', bins = 50)\n",
    "plt.title(\"Distribution of Residual\")\n",
    "plt.show();"
   ]
  },
  {
   "cell_type": "markdown",
   "id": "0d01a4b1",
   "metadata": {},
   "source": [
    "__The distribution of residuals also look right skewed and clearly distribution of residuals do not follow a path of Normal Distribution.__"
   ]
  },
  {
   "cell_type": "markdown",
   "id": "c7b7b123",
   "metadata": {},
   "source": [
    "# y = CRIM ; X = PTRATIO"
   ]
  },
  {
   "cell_type": "code",
   "execution_count": 39,
   "id": "252ce0e8",
   "metadata": {},
   "outputs": [
    {
     "name": "stdout",
     "output_type": "stream",
     "text": [
      "Model Paramters are: \n",
      " const     -17.646933\n",
      "ptratio     1.151983\n",
      "dtype: float64\n",
      "Model Summary : \n",
      "                             OLS Regression Results                            \n",
      "==============================================================================\n",
      "Dep. Variable:                   crim   R-squared:                       0.084\n",
      "Model:                            OLS   Adj. R-squared:                  0.082\n",
      "Method:                 Least Squares   F-statistic:                     46.26\n",
      "Date:                Sat, 01 Oct 2022   Prob (F-statistic):           2.94e-11\n",
      "Time:                        11:29:00   Log-Likelihood:                -1784.1\n",
      "No. Observations:                 506   AIC:                             3572.\n",
      "Df Residuals:                     504   BIC:                             3581.\n",
      "Df Model:                           1                                         \n",
      "Covariance Type:            nonrobust                                         \n",
      "==============================================================================\n",
      "                 coef    std err          t      P>|t|      [0.025      0.975]\n",
      "------------------------------------------------------------------------------\n",
      "const        -17.6469      3.147     -5.607      0.000     -23.830     -11.464\n",
      "ptratio        1.1520      0.169      6.801      0.000       0.819       1.485\n",
      "==============================================================================\n",
      "Omnibus:                      568.053   Durbin-Watson:                   0.905\n",
      "Prob(Omnibus):                  0.000   Jarque-Bera (JB):            34221.853\n",
      "Skew:                           5.245   Prob(JB):                         0.00\n",
      "Kurtosis:                      41.899   Cond. No.                         160.\n",
      "==============================================================================\n",
      "\n",
      "Notes:\n",
      "[1] Standard Errors assume that the covariance matrix of the errors is correctly specified.\n"
     ]
    }
   ],
   "source": [
    "X = boston_data[['ptratio']]\n",
    "X = sm.add_constant(X)\n",
    "y = boston_data[['crim']]\n",
    "model = sm.OLS(y,X).fit()\n",
    "print(\"Model Paramters are: \\n\",model.params)\n",
    "print(\"Model Summary : \\n\",model.summary())"
   ]
  },
  {
   "cell_type": "markdown",
   "id": "bbba338f",
   "metadata": {},
   "source": [
    "__The R-squared value for the above model is 0.084 which means we can only predict 8.4 % of Crime variance based on the `PTRATIO` and the p-value is close to 0.__"
   ]
  },
  {
   "cell_type": "code",
   "execution_count": 40,
   "id": "e2bd6a12",
   "metadata": {},
   "outputs": [],
   "source": [
    "y_pred = model.predict(X)\n",
    "\n",
    "y_pred = pd.DataFrame({'crim' : y_pred})\n",
    "\n",
    "y_residual = y.subtract(y_pred)"
   ]
  },
  {
   "cell_type": "code",
   "execution_count": 41,
   "id": "80b3b532",
   "metadata": {},
   "outputs": [
    {
     "name": "stderr",
     "output_type": "stream",
     "text": [
      "E:\\Anaconda\\lib\\site-packages\\seaborn\\distributions.py:2619: FutureWarning: `distplot` is a deprecated function and will be removed in a future version. Please adapt your code to use either `displot` (a figure-level function with similar flexibility) or `histplot` (an axes-level function for histograms).\n",
      "  warnings.warn(msg, FutureWarning)\n"
     ]
    },
    {
     "data": {
      "image/png": "[encoded data removed]",
      "text/plain": [
       "<Figure size 576x432 with 1 Axes>"
      ]
     },
     "metadata": {},
     "output_type": "display_data"
    }
   ],
   "source": [
    "sns.set(rc={'figure.figsize':(8,6)})\n",
    "sns.distplot(y_residual, color='red', bins = 50)\n",
    "plt.title(\"Distribution of Residual\")\n",
    "plt.show();"
   ]
  },
  {
   "cell_type": "markdown",
   "id": "ee3b90b5",
   "metadata": {},
   "source": [
    "__The distribution of residuals also look right skewed and clearly distribution of residuals do not follow a path of Normal Distribution.__"
   ]
  },
  {
   "cell_type": "markdown",
   "id": "bbee1967",
   "metadata": {},
   "source": [
    "# y = CRIM ; X = LSTAT"
   ]
  },
  {
   "cell_type": "code",
   "execution_count": 42,
   "id": "34ab9721",
   "metadata": {},
   "outputs": [
    {
     "name": "stdout",
     "output_type": "stream",
     "text": [
      "Model Paramters are: \n",
      " const   -3.330538\n",
      "lstat    0.548805\n",
      "dtype: float64\n",
      "Model Summary : \n",
      "                             OLS Regression Results                            \n",
      "==============================================================================\n",
      "Dep. Variable:                   crim   R-squared:                       0.208\n",
      "Model:                            OLS   Adj. R-squared:                  0.206\n",
      "Method:                 Least Squares   F-statistic:                     132.0\n",
      "Date:                Sat, 01 Oct 2022   Prob (F-statistic):           2.65e-27\n",
      "Time:                        11:29:00   Log-Likelihood:                -1747.5\n",
      "No. Observations:                 506   AIC:                             3499.\n",
      "Df Residuals:                     504   BIC:                             3507.\n",
      "Df Model:                           1                                         \n",
      "Covariance Type:            nonrobust                                         \n",
      "==============================================================================\n",
      "                 coef    std err          t      P>|t|      [0.025      0.975]\n",
      "------------------------------------------------------------------------------\n",
      "const         -3.3305      0.694     -4.801      0.000      -4.694      -1.968\n",
      "lstat          0.5488      0.048     11.491      0.000       0.455       0.643\n",
      "==============================================================================\n",
      "Omnibus:                      601.306   Durbin-Watson:                   1.182\n",
      "Prob(Omnibus):                  0.000   Jarque-Bera (JB):            49918.826\n",
      "Skew:                           5.645   Prob(JB):                         0.00\n",
      "Kurtosis:                      50.331   Cond. No.                         29.7\n",
      "==============================================================================\n",
      "\n",
      "Notes:\n",
      "[1] Standard Errors assume that the covariance matrix of the errors is correctly specified.\n"
     ]
    }
   ],
   "source": [
    "X = boston_data[['lstat']]\n",
    "X = sm.add_constant(X)\n",
    "y = boston_data[['crim']]\n",
    "model = sm.OLS(y,X).fit()\n",
    "print(\"Model Paramters are: \\n\",model.params)\n",
    "print(\"Model Summary : \\n\",model.summary())"
   ]
  },
  {
   "cell_type": "markdown",
   "id": "c27dee9a",
   "metadata": {},
   "source": [
    "__The R-squared value for the above model is 0.208 which means we can only predict 20.8 % of Crime variance based on the `LSTAT` and the p-value is close to 0.__"
   ]
  },
  {
   "cell_type": "code",
   "execution_count": 43,
   "id": "aac375e7",
   "metadata": {},
   "outputs": [],
   "source": [
    "y_pred = model.predict(X)\n",
    "\n",
    "y_pred = pd.DataFrame({'crim' : y_pred})\n",
    "\n",
    "y_residual = y.subtract(y_pred)"
   ]
  },
  {
   "cell_type": "code",
   "execution_count": 44,
   "id": "99a7a660",
   "metadata": {},
   "outputs": [
    {
     "name": "stderr",
     "output_type": "stream",
     "text": [
      "E:\\Anaconda\\lib\\site-packages\\seaborn\\distributions.py:2619: FutureWarning: `distplot` is a deprecated function and will be removed in a future version. Please adapt your code to use either `displot` (a figure-level function with similar flexibility) or `histplot` (an axes-level function for histograms).\n",
      "  warnings.warn(msg, FutureWarning)\n"
     ]
    },
    {
     "data": {
      "image/png": "[encoded data removed]",
      "text/plain": [
       "<Figure size 576x432 with 1 Axes>"
      ]
     },
     "metadata": {},
     "output_type": "display_data"
    }
   ],
   "source": [
    "sns.set(rc={'figure.figsize':(8,6)})\n",
    "sns.distplot(y_residual, color='red', bins = 50)\n",
    "plt.title(\"Distribution of Residual\")\n",
    "plt.show();"
   ]
  },
  {
   "cell_type": "markdown",
   "id": "626e9a61",
   "metadata": {},
   "source": [
    "__The distribution of residuals also look right skewed and clearly distribution of residuals do not follow a path of Normal Distribution.__"
   ]
  },
  {
   "cell_type": "markdown",
   "id": "df52bdf5",
   "metadata": {},
   "source": [
    "# y = CRIM ; X = MEDV"
   ]
  },
  {
   "cell_type": "code",
   "execution_count": 45,
   "id": "7e739449",
   "metadata": {},
   "outputs": [
    {
     "name": "stdout",
     "output_type": "stream",
     "text": [
      "Model Paramters are: \n",
      " const    11.796536\n",
      "medv     -0.363160\n",
      "dtype: float64\n",
      "Model Summary : \n",
      "                             OLS Regression Results                            \n",
      "==============================================================================\n",
      "Dep. Variable:                   crim   R-squared:                       0.151\n",
      "Model:                            OLS   Adj. R-squared:                  0.149\n",
      "Method:                 Least Squares   F-statistic:                     89.49\n",
      "Date:                Sat, 01 Oct 2022   Prob (F-statistic):           1.17e-19\n",
      "Time:                        11:29:00   Log-Likelihood:                -1765.0\n",
      "No. Observations:                 506   AIC:                             3534.\n",
      "Df Residuals:                     504   BIC:                             3542.\n",
      "Df Model:                           1                                         \n",
      "Covariance Type:            nonrobust                                         \n",
      "==============================================================================\n",
      "                 coef    std err          t      P>|t|      [0.025      0.975]\n",
      "------------------------------------------------------------------------------\n",
      "const         11.7965      0.934     12.628      0.000       9.961      13.632\n",
      "medv          -0.3632      0.038     -9.460      0.000      -0.439      -0.288\n",
      "==============================================================================\n",
      "Omnibus:                      558.880   Durbin-Watson:                   0.996\n",
      "Prob(Omnibus):                  0.000   Jarque-Bera (JB):            32740.044\n",
      "Skew:                           5.108   Prob(JB):                         0.00\n",
      "Kurtosis:                      41.059   Cond. No.                         64.5\n",
      "==============================================================================\n",
      "\n",
      "Notes:\n",
      "[1] Standard Errors assume that the covariance matrix of the errors is correctly specified.\n"
     ]
    }
   ],
   "source": [
    "X = boston_data[['medv']]\n",
    "X = sm.add_constant(X)\n",
    "y = boston_data[['crim']]\n",
    "model = sm.OLS(y,X).fit()\n",
    "print(\"Model Paramters are: \\n\",model.params)\n",
    "print(\"Model Summary : \\n\",model.summary())"
   ]
  },
  {
   "cell_type": "markdown",
   "id": "14e3702c",
   "metadata": {},
   "source": [
    "__The R-squared value for the above model is 0.151 which means we can only predict 15.1 % of Crime variance based on the `MEDV` and the p-value is close to 0.__"
   ]
  },
  {
   "cell_type": "code",
   "execution_count": 46,
   "id": "94e26740",
   "metadata": {},
   "outputs": [],
   "source": [
    "y_pred = model.predict(X)\n",
    "\n",
    "y_pred = pd.DataFrame({'crim' : y_pred})\n",
    "\n",
    "y_residual = y.subtract(y_pred)"
   ]
  },
  {
   "cell_type": "code",
   "execution_count": 47,
   "id": "799ce77a",
   "metadata": {},
   "outputs": [
    {
     "name": "stderr",
     "output_type": "stream",
     "text": [
      "E:\\Anaconda\\lib\\site-packages\\seaborn\\distributions.py:2619: FutureWarning: `distplot` is a deprecated function and will be removed in a future version. Please adapt your code to use either `displot` (a figure-level function with similar flexibility) or `histplot` (an axes-level function for histograms).\n",
      "  warnings.warn(msg, FutureWarning)\n"
     ]
    },
    {
     "data": {
      "image/png": "[encoded data removed]",
      "text/plain": [
       "<Figure size 576x432 with 1 Axes>"
      ]
     },
     "metadata": {},
     "output_type": "display_data"
    }
   ],
   "source": [
    "sns.set(rc={'figure.figsize':(8,6)})\n",
    "sns.distplot(y_residual, color='red', bins = 50)\n",
    "plt.title(\"Distribution of Residual\")\n",
    "plt.show();"
   ]
  },
  {
   "cell_type": "markdown",
   "id": "21147683",
   "metadata": {},
   "source": [
    "__The distribution of residuals also look right skewed and clearly distribution of residuals do not follow a path of Normal Distribution.__"
   ]
  },
  {
   "cell_type": "markdown",
   "id": "a8733200",
   "metadata": {},
   "source": [
    "# Pairplot of `CRIME` vs other variables `ZN`, `INDUS`, `CHAS`, `NOX`, `RM`, `AGE`, `DIS`, `RAD`, `TAX`, `PTRATIO`, `LSTAT`, `MEDV`"
   ]
  },
  {
   "cell_type": "code",
   "execution_count": 48,
   "id": "0619af48",
   "metadata": {},
   "outputs": [
    {
     "data": {
      "text/plain": [
       "<seaborn.axisgrid.PairGrid at 0x2e10627af70>"
      ]
     },
     "execution_count": 48,
     "metadata": {},
     "output_type": "execute_result"
    },
    {
     "data": {
      "image/png": "[encoded data removed]",
      "text/plain": [
       "<Figure size 900x180 with 5 Axes>"
      ]
     },
     "metadata": {},
     "output_type": "display_data"
    }
   ],
   "source": [
    "sns.pairplot(boston_data,y_vars='crim',x_vars=['zn', 'indus', 'chas', 'nox', 'rm'])  #'lstat', 'medv']);"
   ]
  },
  {
   "cell_type": "code",
   "execution_count": 49,
   "id": "a6d6ff8d",
   "metadata": {},
   "outputs": [
    {
     "data": {
      "image/png": "[encoded data removed]",
      "text/plain": [
       "<Figure size 900x180 with 5 Axes>"
      ]
     },
     "metadata": {},
     "output_type": "display_data"
    }
   ],
   "source": [
    "sns.pairplot(boston_data,y_vars='crim',x_vars=['age','dis', 'rad', 'tax', 'ptratio']);"
   ]
  },
  {
   "cell_type": "code",
   "execution_count": 50,
   "id": "074a3207",
   "metadata": {},
   "outputs": [
    {
     "data": {
      "image/png": "[encoded data removed]",
      "text/plain": [
       "<Figure size 360x180 with 2 Axes>"
      ]
     },
     "metadata": {},
     "output_type": "display_data"
    }
   ],
   "source": [
    "sns.pairplot(boston_data,y_vars='crim',x_vars=['lstat', 'medv']);"
   ]
  },
  {
   "cell_type": "markdown",
   "id": "6b539b05",
   "metadata": {},
   "source": [
    "__1. If we consider p-Value of individual variable then all the variables are significant except CHAS (Charles River dummy variable (1 if tract bounds river; 0 otherwise).__\n",
    "\n",
    "__2. Although, when we look at R-squared value none of the variables were able to predict y more than 40%. RAD has a R-squared value of 39.1%, TAX has a R-squared value of 34.1 %, LSTAT has a R-squared value of 20.8%, NOX has a R-squared value of 17.7 %, INDUS has a R-squared value of 16.5 %, MEDV has a R-squared value of 15.1% and AGE has a R-squared value of 12.4 % except these variables all other variables have R-squared value below 10%.__ \n"
   ]
  },
  {
   "cell_type": "markdown",
   "id": "c2858879",
   "metadata": {},
   "source": [
    "___________________________________________________________________________________________________________________________"
   ]
  },
  {
   "cell_type": "markdown",
   "id": "168337e4",
   "metadata": {},
   "source": [
    "# Question 15. (b) Fit a multiple regression model to predict the response using all of the predictors. Describe your results. For which predictors can we reject the null hypothesis H0 : βj = 0?"
   ]
  },
  {
   "cell_type": "code",
   "execution_count": 52,
   "id": "7c82c203",
   "metadata": {},
   "outputs": [],
   "source": [
    "import statsmodels.api as sm"
   ]
  },
  {
   "cell_type": "code",
   "execution_count": 54,
   "id": "a01de1ce",
   "metadata": {},
   "outputs": [],
   "source": [
    "X = boston_data[['zn', 'indus', 'chas', 'nox', 'rm', 'age','dis', 'rad', 'tax', 'ptratio','lstat', 'medv']]\n",
    "y = boston_data['crim']"
   ]
  },
  {
   "cell_type": "code",
   "execution_count": 55,
   "id": "9059a0ef",
   "metadata": {},
   "outputs": [
    {
     "data": {
      "text/html": [
       "<div>\n",
       "<style scoped>\n",
       "    .dataframe tbody tr th:only-of-type {\n",
       "        vertical-align: middle;\n",
       "    }\n",
       "\n",
       "    .dataframe tbody tr th {\n",
       "        vertical-align: top;\n",
       "    }\n",
       "\n",
       "    .dataframe thead th {\n",
       "        text-align: right;\n",
       "    }\n",
       "</style>\n",
       "<table border=\"1\" class=\"dataframe\">\n",
       "  <thead>\n",
       "    <tr style=\"text-align: right;\">\n",
       "      <th></th>\n",
       "      <th>zn</th>\n",
       "      <th>indus</th>\n",
       "      <th>chas</th>\n",
       "      <th>nox</th>\n",
       "      <th>rm</th>\n",
       "      <th>age</th>\n",
       "      <th>dis</th>\n",
       "      <th>rad</th>\n",
       "      <th>tax</th>\n",
       "      <th>ptratio</th>\n",
       "      <th>lstat</th>\n",
       "      <th>medv</th>\n",
       "    </tr>\n",
       "  </thead>\n",
       "  <tbody>\n",
       "    <tr>\n",
       "      <th>0</th>\n",
       "      <td>18.0</td>\n",
       "      <td>2.31</td>\n",
       "      <td>0</td>\n",
       "      <td>0.538</td>\n",
       "      <td>6.575</td>\n",
       "      <td>65.2</td>\n",
       "      <td>4.0900</td>\n",
       "      <td>1</td>\n",
       "      <td>296</td>\n",
       "      <td>15.3</td>\n",
       "      <td>4.98</td>\n",
       "      <td>24.0</td>\n",
       "    </tr>\n",
       "    <tr>\n",
       "      <th>1</th>\n",
       "      <td>0.0</td>\n",
       "      <td>7.07</td>\n",
       "      <td>0</td>\n",
       "      <td>0.469</td>\n",
       "      <td>6.421</td>\n",
       "      <td>78.9</td>\n",
       "      <td>4.9671</td>\n",
       "      <td>2</td>\n",
       "      <td>242</td>\n",
       "      <td>17.8</td>\n",
       "      <td>9.14</td>\n",
       "      <td>21.6</td>\n",
       "    </tr>\n",
       "    <tr>\n",
       "      <th>2</th>\n",
       "      <td>0.0</td>\n",
       "      <td>7.07</td>\n",
       "      <td>0</td>\n",
       "      <td>0.469</td>\n",
       "      <td>7.185</td>\n",
       "      <td>61.1</td>\n",
       "      <td>4.9671</td>\n",
       "      <td>2</td>\n",
       "      <td>242</td>\n",
       "      <td>17.8</td>\n",
       "      <td>4.03</td>\n",
       "      <td>34.7</td>\n",
       "    </tr>\n",
       "    <tr>\n",
       "      <th>3</th>\n",
       "      <td>0.0</td>\n",
       "      <td>2.18</td>\n",
       "      <td>0</td>\n",
       "      <td>0.458</td>\n",
       "      <td>6.998</td>\n",
       "      <td>45.8</td>\n",
       "      <td>6.0622</td>\n",
       "      <td>3</td>\n",
       "      <td>222</td>\n",
       "      <td>18.7</td>\n",
       "      <td>2.94</td>\n",
       "      <td>33.4</td>\n",
       "    </tr>\n",
       "    <tr>\n",
       "      <th>4</th>\n",
       "      <td>0.0</td>\n",
       "      <td>2.18</td>\n",
       "      <td>0</td>\n",
       "      <td>0.458</td>\n",
       "      <td>7.147</td>\n",
       "      <td>54.2</td>\n",
       "      <td>6.0622</td>\n",
       "      <td>3</td>\n",
       "      <td>222</td>\n",
       "      <td>18.7</td>\n",
       "      <td>5.33</td>\n",
       "      <td>36.2</td>\n",
       "    </tr>\n",
       "  </tbody>\n",
       "</table>\n",
       "</div>"
      ],
      "text/plain": [
       "     zn  indus  chas    nox     rm   age     dis  rad  tax  ptratio  lstat  \\\n",
       "0  18.0   2.31     0  0.538  6.575  65.2  4.0900    1  296     15.3   4.98   \n",
       "1   0.0   7.07     0  0.469  6.421  78.9  4.9671    2  242     17.8   9.14   \n",
       "2   0.0   7.07     0  0.469  7.185  61.1  4.9671    2  242     17.8   4.03   \n",
       "3   0.0   2.18     0  0.458  6.998  45.8  6.0622    3  222     18.7   2.94   \n",
       "4   0.0   2.18     0  0.458  7.147  54.2  6.0622    3  222     18.7   5.33   \n",
       "\n",
       "   medv  \n",
       "0  24.0  \n",
       "1  21.6  \n",
       "2  34.7  \n",
       "3  33.4  \n",
       "4  36.2  "
      ]
     },
     "execution_count": 55,
     "metadata": {},
     "output_type": "execute_result"
    }
   ],
   "source": [
    "X.head()"
   ]
  },
  {
   "cell_type": "code",
   "execution_count": 56,
   "id": "eb1b6517",
   "metadata": {},
   "outputs": [
    {
     "data": {
      "text/plain": [
       "0    0.00632\n",
       "1    0.02731\n",
       "2    0.02729\n",
       "3    0.03237\n",
       "4    0.06905\n",
       "Name: crim, dtype: float64"
      ]
     },
     "execution_count": 56,
     "metadata": {},
     "output_type": "execute_result"
    }
   ],
   "source": [
    "y.head()"
   ]
  },
  {
   "cell_type": "markdown",
   "id": "79ed359e",
   "metadata": {},
   "source": [
    "## adding a constant to X"
   ]
  },
  {
   "cell_type": "code",
   "execution_count": 57,
   "id": "51f45f9e",
   "metadata": {},
   "outputs": [],
   "source": [
    "X = sm.add_constant(X)"
   ]
  },
  {
   "cell_type": "markdown",
   "id": "1b93e4c8",
   "metadata": {},
   "source": [
    "## Fitting the Model using OLS(Ordinary Least Square) method present in the statsmodels.api"
   ]
  },
  {
   "cell_type": "code",
   "execution_count": 58,
   "id": "56e5391d",
   "metadata": {},
   "outputs": [],
   "source": [
    "model = sm.OLS(y,X).fit()"
   ]
  },
  {
   "cell_type": "markdown",
   "id": "9e9cd2e1",
   "metadata": {},
   "source": [
    "## Model Parameters to get the value of Intercept and Slope"
   ]
  },
  {
   "cell_type": "code",
   "execution_count": 59,
   "id": "5aa2d43d",
   "metadata": {},
   "outputs": [
    {
     "data": {
      "text/plain": [
       "const      13.778394\n",
       "zn          0.045710\n",
       "indus      -0.058350\n",
       "chas       -0.825378\n",
       "nox        -9.957587\n",
       "rm          0.628911\n",
       "age        -0.000848\n",
       "dis        -1.012247\n",
       "rad         0.612465\n",
       "tax        -0.003776\n",
       "ptratio    -0.304073\n",
       "lstat       0.138801\n",
       "medv       -0.220056\n",
       "dtype: float64"
      ]
     },
     "execution_count": 59,
     "metadata": {},
     "output_type": "execute_result"
    }
   ],
   "source": [
    "model.params"
   ]
  },
  {
   "cell_type": "code",
   "execution_count": 60,
   "id": "6bebfbbc",
   "metadata": {},
   "outputs": [
    {
     "data": {
      "text/plain": [
       "const      13.7784\n",
       "zn          0.0457\n",
       "indus      -0.0584\n",
       "chas       -0.8254\n",
       "nox        -9.9576\n",
       "rm          0.6289\n",
       "age        -0.0008\n",
       "dis        -1.0122\n",
       "rad         0.6125\n",
       "tax        -0.0038\n",
       "ptratio    -0.3041\n",
       "lstat       0.1388\n",
       "medv       -0.2201\n",
       "dtype: float64"
      ]
     },
     "execution_count": 60,
     "metadata": {},
     "output_type": "execute_result"
    }
   ],
   "source": [
    "round(model.params,4)"
   ]
  },
  {
   "cell_type": "markdown",
   "id": "f1636281",
   "metadata": {},
   "source": [
    "## The y-intercept value is 13.7784\n",
    "## Here Equation of Multiple Linear Regression model becomes:\n",
    "__y = 13.7784 + (0.0457 * ZN) + (-0.0584 * INDUS) + (-0.8254 * CHAS) + (-9.9576 * NOX) + (0.6289 * RM) + (-0.0008 * age) + (-1.0122 * DIS) + (0.6125 * RAD) + (-0.0038 * TAX) + (-0.3041 * PTRATIO) + (0.1388 * LSTAT) + (-0.2201 * MEDV)__\n"
   ]
  },
  {
   "cell_type": "markdown",
   "id": "c2bc105d",
   "metadata": {},
   "source": [
    "# Model Summary"
   ]
  },
  {
   "cell_type": "code",
   "execution_count": 62,
   "id": "29f0af5e",
   "metadata": {},
   "outputs": [
    {
     "name": "stdout",
     "output_type": "stream",
     "text": [
      "Model Summary:                              OLS Regression Results                            \n",
      "==============================================================================\n",
      "Dep. Variable:                   crim   R-squared:                       0.449\n",
      "Model:                            OLS   Adj. R-squared:                  0.436\n",
      "Method:                 Least Squares   F-statistic:                     33.52\n",
      "Date:                Sat, 01 Oct 2022   Prob (F-statistic):           2.03e-56\n",
      "Time:                        11:43:35   Log-Likelihood:                -1655.4\n",
      "No. Observations:                 506   AIC:                             3337.\n",
      "Df Residuals:                     493   BIC:                             3392.\n",
      "Df Model:                          12                                         \n",
      "Covariance Type:            nonrobust                                         \n",
      "==============================================================================\n",
      "                 coef    std err          t      P>|t|      [0.025      0.975]\n",
      "------------------------------------------------------------------------------\n",
      "const         13.7784      7.082      1.946      0.052      -0.136      27.693\n",
      "zn             0.0457      0.019      2.433      0.015       0.009       0.083\n",
      "indus         -0.0584      0.084     -0.698      0.486      -0.223       0.106\n",
      "chas          -0.8254      1.183     -0.697      0.486      -3.150       1.500\n",
      "nox           -9.9576      5.290     -1.882      0.060     -20.351       0.436\n",
      "rm             0.6289      0.607      1.036      0.301      -0.564       1.822\n",
      "age           -0.0008      0.018     -0.047      0.962      -0.036       0.034\n",
      "dis           -1.0122      0.282     -3.584      0.000      -1.567      -0.457\n",
      "rad            0.6125      0.088      6.997      0.000       0.440       0.784\n",
      "tax           -0.0038      0.005     -0.730      0.466      -0.014       0.006\n",
      "ptratio       -0.3041      0.186     -1.632      0.103      -0.670       0.062\n",
      "lstat          0.1388      0.076      1.833      0.067      -0.010       0.288\n",
      "medv          -0.2201      0.060     -3.678      0.000      -0.338      -0.103\n",
      "==============================================================================\n",
      "Omnibus:                      663.436   Durbin-Watson:                   1.516\n",
      "Prob(Omnibus):                  0.000   Jarque-Bera (JB):            80856.852\n",
      "Skew:                           6.579   Prob(JB):                         0.00\n",
      "Kurtosis:                      63.514   Cond. No.                     1.24e+04\n",
      "==============================================================================\n",
      "\n",
      "Notes:\n",
      "[1] Standard Errors assume that the covariance matrix of the errors is correctly specified.\n",
      "[2] The condition number is large, 1.24e+04. This might indicate that there are\n",
      "strong multicollinearity or other numerical problems.\n"
     ]
    }
   ],
   "source": [
    "print(\"Model Summary: \",model.summary())"
   ]
  },
  {
   "cell_type": "markdown",
   "id": "9e9f4e26",
   "metadata": {},
   "source": [
    "## The R-squared Value of the model is 0.449 which means that this model is capable of predicting 44.9% variance of CRIME based on the other variables available.\n",
    "\n",
    "## The p-Value of a model is 0.052 which is borderline value to satisfy the condition p-value < |0.05|."
   ]
  },
  {
   "cell_type": "markdown",
   "id": "2cbd5e71",
   "metadata": {},
   "source": [
    "## Based on p-Value of all the variables, We can reject the NULL HYPOTHESIS of ZN, DIS, RAD and MEDV."
   ]
  },
  {
   "cell_type": "markdown",
   "id": "ae7b9a85",
   "metadata": {},
   "source": [
    "# Question 15. (c) How do your results from (a) compare to your results from (b)? Create a plot displaying the univariate regression coefficients from (a) on the x-axis, and the multiple regression coefficients from (b) on the y-axis. That is, each predictor is displayed as a single point in the plot. Its coefficient in a simple linear regression model is shown on the x-axis, and its coefficient estimate in the multiple linear regression model is shown on the y-axis."
   ]
  },
  {
   "cell_type": "markdown",
   "id": "19a719d6",
   "metadata": {},
   "source": [
    "# Answers"
   ]
  },
  {
   "cell_type": "markdown",
   "id": "0c70237c",
   "metadata": {},
   "source": [
    "# The result of individual variable as Simple Linear Regression and Result of Multiple Linear Regression have not been impressive as a whole but to compare I would definite go with Multiple Linear regression as it gives a R-squared value of 0.449 which means we can predict 44.9 % CRIME variance based on other variables, and also the R-squared value of Individual variable has been really low. We can also improve the accuracy of our Model in Multiple Linear Regression."
   ]
  },
  {
   "cell_type": "code",
   "execution_count": 91,
   "id": "20060606",
   "metadata": {},
   "outputs": [],
   "source": [
    "multiple_data = {'Name' : ['zn','indus','chas','nox','rm','age','dis','rad','tax','ptratio','lstat','medv'],\n",
    "       'Values' : [0.0457,-0.0584,-0.8254,-9.9576,0.6289,0.0008,-1.0122,0.6125,-0.0038,-0.3041,0.1388,-0.2201]}"
   ]
  },
  {
   "cell_type": "code",
   "execution_count": 71,
   "id": "76b7eb08",
   "metadata": {},
   "outputs": [],
   "source": [
    "individual_data = {'Name' : ['zn','indus','chas','nox','rm','age','dis','rad','tax','ptratio','lstat','medv'],\n",
    "       'Values' : [-0.073935,0.509776,-1.892777,31.248531,-2.684051,0.107786,-1.550902,0.617911,0.029742,1.151983,0.548805,-0.363160]}"
   ]
  },
  {
   "cell_type": "code",
   "execution_count": 101,
   "id": "a79fb06a",
   "metadata": {},
   "outputs": [],
   "source": [
    "m_result = pd.DataFrame(multiple_data)"
   ]
  },
  {
   "cell_type": "code",
   "execution_count": 103,
   "id": "958a7739",
   "metadata": {},
   "outputs": [],
   "source": [
    "i_result = pd.DataFrame(individual_data)"
   ]
  },
  {
   "cell_type": "code",
   "execution_count": 106,
   "id": "ad9a493b",
   "metadata": {},
   "outputs": [
    {
     "data": {
      "text/html": [
       "<div>\n",
       "<style scoped>\n",
       "    .dataframe tbody tr th:only-of-type {\n",
       "        vertical-align: middle;\n",
       "    }\n",
       "\n",
       "    .dataframe tbody tr th {\n",
       "        vertical-align: top;\n",
       "    }\n",
       "\n",
       "    .dataframe thead th {\n",
       "        text-align: right;\n",
       "    }\n",
       "</style>\n",
       "<table border=\"1\" class=\"dataframe\">\n",
       "  <thead>\n",
       "    <tr style=\"text-align: right;\">\n",
       "      <th></th>\n",
       "      <th>Name</th>\n",
       "      <th>Values</th>\n",
       "    </tr>\n",
       "  </thead>\n",
       "  <tbody>\n",
       "    <tr>\n",
       "      <th>0</th>\n",
       "      <td>zn</td>\n",
       "      <td>0.0457</td>\n",
       "    </tr>\n",
       "    <tr>\n",
       "      <th>1</th>\n",
       "      <td>indus</td>\n",
       "      <td>-0.0584</td>\n",
       "    </tr>\n",
       "    <tr>\n",
       "      <th>2</th>\n",
       "      <td>chas</td>\n",
       "      <td>-0.8254</td>\n",
       "    </tr>\n",
       "    <tr>\n",
       "      <th>3</th>\n",
       "      <td>nox</td>\n",
       "      <td>-9.9576</td>\n",
       "    </tr>\n",
       "    <tr>\n",
       "      <th>4</th>\n",
       "      <td>rm</td>\n",
       "      <td>0.6289</td>\n",
       "    </tr>\n",
       "  </tbody>\n",
       "</table>\n",
       "</div>"
      ],
      "text/plain": [
       "    Name  Values\n",
       "0     zn  0.0457\n",
       "1  indus -0.0584\n",
       "2   chas -0.8254\n",
       "3    nox -9.9576\n",
       "4     rm  0.6289"
      ]
     },
     "execution_count": 106,
     "metadata": {},
     "output_type": "execute_result"
    }
   ],
   "source": [
    "m_result.head()"
   ]
  },
  {
   "cell_type": "code",
   "execution_count": 107,
   "id": "90b00b3f",
   "metadata": {},
   "outputs": [
    {
     "data": {
      "text/html": [
       "<div>\n",
       "<style scoped>\n",
       "    .dataframe tbody tr th:only-of-type {\n",
       "        vertical-align: middle;\n",
       "    }\n",
       "\n",
       "    .dataframe tbody tr th {\n",
       "        vertical-align: top;\n",
       "    }\n",
       "\n",
       "    .dataframe thead th {\n",
       "        text-align: right;\n",
       "    }\n",
       "</style>\n",
       "<table border=\"1\" class=\"dataframe\">\n",
       "  <thead>\n",
       "    <tr style=\"text-align: right;\">\n",
       "      <th></th>\n",
       "      <th>Name</th>\n",
       "      <th>Values</th>\n",
       "    </tr>\n",
       "  </thead>\n",
       "  <tbody>\n",
       "    <tr>\n",
       "      <th>0</th>\n",
       "      <td>zn</td>\n",
       "      <td>-0.073935</td>\n",
       "    </tr>\n",
       "    <tr>\n",
       "      <th>1</th>\n",
       "      <td>indus</td>\n",
       "      <td>0.509776</td>\n",
       "    </tr>\n",
       "    <tr>\n",
       "      <th>2</th>\n",
       "      <td>chas</td>\n",
       "      <td>-1.892777</td>\n",
       "    </tr>\n",
       "    <tr>\n",
       "      <th>3</th>\n",
       "      <td>nox</td>\n",
       "      <td>31.248531</td>\n",
       "    </tr>\n",
       "    <tr>\n",
       "      <th>4</th>\n",
       "      <td>rm</td>\n",
       "      <td>-2.684051</td>\n",
       "    </tr>\n",
       "  </tbody>\n",
       "</table>\n",
       "</div>"
      ],
      "text/plain": [
       "    Name     Values\n",
       "0     zn  -0.073935\n",
       "1  indus   0.509776\n",
       "2   chas  -1.892777\n",
       "3    nox  31.248531\n",
       "4     rm  -2.684051"
      ]
     },
     "execution_count": 107,
     "metadata": {},
     "output_type": "execute_result"
    }
   ],
   "source": [
    "i_result.head()"
   ]
  },
  {
   "cell_type": "code",
   "execution_count": 112,
   "id": "f42db2e7",
   "metadata": {},
   "outputs": [
    {
     "data": {
      "image/png": "[encoded data removed]",
      "text/plain": [
       "<Figure size 576x432 with 1 Axes>"
      ]
     },
     "metadata": {},
     "output_type": "display_data"
    }
   ],
   "source": [
    "sns.scatterplot(x=i_result['Values'], y = m_result['Values'],color='red')\n",
    "plt.xlabel(\"Individual Coeffcient Value\")\n",
    "plt.ylabel(\"Multiple Coefficient Value\")\n",
    "plt.title(\"Scatterplot of Coeeficients\")\n",
    "plt.show();"
   ]
  },
  {
   "cell_type": "code",
   "execution_count": null,
   "id": "2c3dd42e",
   "metadata": {},
   "outputs": [],
   "source": []
  }
 ],
 "metadata": {
  "kernelspec": {
   "display_name": "Python 3 (ipykernel)",
   "language": "python",
   "name": "python3"
  },
  "language_info": {
   "codemirror_mode": {
    "name": "ipython",
    "version": 3
   },
   "file_extension": ".py",
   "mimetype": "text/x-python",
   "name": "python",
   "nbconvert_exporter": "python",
   "pygments_lexer": "ipython3",
   "version": "3.9.7"
  }
 },
 "nbformat": 4,
 "nbformat_minor": 5
}
