{
 "cells": [
  {
   "cell_type": "markdown",
   "id": "7a5ae4dd",
   "metadata": {},
   "source": [
    "# Question 2"
   ]
  },
  {
   "cell_type": "markdown",
   "id": "340375a7",
   "metadata": {},
   "source": [
    "# Exercise 9, p. 57: prediction using automobile data. [Book](https://hastie.su.domains/ISLR2/ISLRv2_website.pdf)"
   ]
  },
  {
   "cell_type": "markdown",
   "id": "ac5912b5",
   "metadata": {},
   "source": [
    "### Exercise 9\n",
    "### This exercise involves the Auto data set studied in the lab. Make sure that the missing values have been removed from the data.\n",
    "1. Which of the predictors are quantitative, and which are qualitative?\n",
    "2. What is the range of each quantitative predictor? You can answer this using the range() function.\n",
    "3. What is the mean and standard deviation of each quantitative predictor?\n",
    "4. Now remove the 10th through 85th observations. What is the range, mean, and standard deviation of each predictor in the subset of the data that remains?\n",
    "5. Using the full data set, investigate the predictors graphically, using scatterplots or other tools of your choice. Create some plots highlighting the relationships among the predictors. Comment on your findings.\n",
    "6. Suppose that we wish to predict gas mileage (mpg) on the basis of the other variables. Do your plots suggest that any of the other variables might be useful in predicting mpg? Justify your answer."
   ]
  },
  {
   "cell_type": "markdown",
   "id": "1b6897cd",
   "metadata": {},
   "source": [
    "# Load the Dataset"
   ]
  },
  {
   "cell_type": "code",
   "execution_count": 1,
   "id": "ffc9def9",
   "metadata": {},
   "outputs": [],
   "source": [
    "df <- read.csv('Auto.csv')"
   ]
  },
  {
   "cell_type": "markdown",
   "id": "fdbcd7b1",
   "metadata": {},
   "source": [
    "# Top 5 Values in the Dataset"
   ]
  },
  {
   "cell_type": "code",
   "execution_count": 2,
   "id": "f83c0488",
   "metadata": {},
   "outputs": [
    {
     "data": {
      "text/html": [
       "<table>\n",
       "<thead><tr><th scope=col>mpg</th><th scope=col>cylinders</th><th scope=col>displacement</th><th scope=col>horsepower</th><th scope=col>weight</th><th scope=col>acceleration</th><th scope=col>year</th><th scope=col>origin</th><th scope=col>name</th></tr></thead>\n",
       "<tbody>\n",
       "\t<tr><td>18                       </td><td>8                        </td><td>307                      </td><td>130                      </td><td>3504                     </td><td>12.0                     </td><td>70                       </td><td>1                        </td><td>chevrolet chevelle malibu</td></tr>\n",
       "\t<tr><td>15                       </td><td>8                        </td><td>350                      </td><td>165                      </td><td>3693                     </td><td>11.5                     </td><td>70                       </td><td>1                        </td><td>buick skylark 320        </td></tr>\n",
       "\t<tr><td>18                       </td><td>8                        </td><td>318                      </td><td>150                      </td><td>3436                     </td><td>11.0                     </td><td>70                       </td><td>1                        </td><td>plymouth satellite       </td></tr>\n",
       "\t<tr><td>16                       </td><td>8                        </td><td>304                      </td><td>150                      </td><td>3433                     </td><td>12.0                     </td><td>70                       </td><td>1                        </td><td>amc rebel sst            </td></tr>\n",
       "\t<tr><td>17                       </td><td>8                        </td><td>302                      </td><td>140                      </td><td>3449                     </td><td>10.5                     </td><td>70                       </td><td>1                        </td><td>ford torino              </td></tr>\n",
       "</tbody>\n",
       "</table>\n"
      ],
      "text/latex": [
       "\\begin{tabular}{r|lllllllll}\n",
       " mpg & cylinders & displacement & horsepower & weight & acceleration & year & origin & name\\\\\n",
       "\\hline\n",
       "\t 18                        & 8                         & 307                       & 130                       & 3504                      & 12.0                      & 70                        & 1                         & chevrolet chevelle malibu\\\\\n",
       "\t 15                        & 8                         & 350                       & 165                       & 3693                      & 11.5                      & 70                        & 1                         & buick skylark 320        \\\\\n",
       "\t 18                        & 8                         & 318                       & 150                       & 3436                      & 11.0                      & 70                        & 1                         & plymouth satellite       \\\\\n",
       "\t 16                        & 8                         & 304                       & 150                       & 3433                      & 12.0                      & 70                        & 1                         & amc rebel sst            \\\\\n",
       "\t 17                        & 8                         & 302                       & 140                       & 3449                      & 10.5                      & 70                        & 1                         & ford torino              \\\\\n",
       "\\end{tabular}\n"
      ],
      "text/markdown": [
       "\n",
       "| mpg | cylinders | displacement | horsepower | weight | acceleration | year | origin | name |\n",
       "|---|---|---|---|---|---|---|---|---|\n",
       "| 18                        | 8                         | 307                       | 130                       | 3504                      | 12.0                      | 70                        | 1                         | chevrolet chevelle malibu |\n",
       "| 15                        | 8                         | 350                       | 165                       | 3693                      | 11.5                      | 70                        | 1                         | buick skylark 320         |\n",
       "| 18                        | 8                         | 318                       | 150                       | 3436                      | 11.0                      | 70                        | 1                         | plymouth satellite        |\n",
       "| 16                        | 8                         | 304                       | 150                       | 3433                      | 12.0                      | 70                        | 1                         | amc rebel sst             |\n",
       "| 17                        | 8                         | 302                       | 140                       | 3449                      | 10.5                      | 70                        | 1                         | ford torino               |\n",
       "\n"
      ],
      "text/plain": [
       "  mpg cylinders displacement horsepower weight acceleration year origin\n",
       "1 18  8         307          130        3504   12.0         70   1     \n",
       "2 15  8         350          165        3693   11.5         70   1     \n",
       "3 18  8         318          150        3436   11.0         70   1     \n",
       "4 16  8         304          150        3433   12.0         70   1     \n",
       "5 17  8         302          140        3449   10.5         70   1     \n",
       "  name                     \n",
       "1 chevrolet chevelle malibu\n",
       "2 buick skylark 320        \n",
       "3 plymouth satellite       \n",
       "4 amc rebel sst            \n",
       "5 ford torino              "
      ]
     },
     "metadata": {},
     "output_type": "display_data"
    }
   ],
   "source": [
    "head(df,5)"
   ]
  },
  {
   "cell_type": "markdown",
   "id": "ced1ee71",
   "metadata": {},
   "source": [
    "# Understand the Structure of the data.\n",
    "It will help us observe the different predictors available to us"
   ]
  },
  {
   "cell_type": "code",
   "execution_count": 3,
   "id": "ec0ddf30",
   "metadata": {},
   "outputs": [
    {
     "name": "stdout",
     "output_type": "stream",
     "text": [
      "'data.frame':\t397 obs. of  9 variables:\n",
      " $ mpg         : num  18 15 18 16 17 15 14 14 14 15 ...\n",
      " $ cylinders   : int  8 8 8 8 8 8 8 8 8 8 ...\n",
      " $ displacement: num  307 350 318 304 302 429 454 440 455 390 ...\n",
      " $ horsepower  : int  130 165 150 150 140 198 220 215 225 190 ...\n",
      " $ weight      : int  3504 3693 3436 3433 3449 4341 4354 4312 4425 3850 ...\n",
      " $ acceleration: num  12 11.5 11 12 10.5 10 9 8.5 10 8.5 ...\n",
      " $ year        : int  70 70 70 70 70 70 70 70 70 70 ...\n",
      " $ origin      : int  1 1 1 1 1 1 1 1 1 1 ...\n",
      " $ name        : Factor w/ 304 levels \"amc ambassador brougham\",..: 49 36 231 14 161 141 54 223 241 2 ...\n"
     ]
    }
   ],
   "source": [
    "str(df)"
   ]
  },
  {
   "cell_type": "markdown",
   "id": "1ff6d65f",
   "metadata": {},
   "source": [
    "### If we observe the above output then we can notice that we have in Horsepower we have some values as '?' , 4 INTEGER values __(cylinders, weight, year, origin)__ and 3 NUMERICAL values __(mpg, displacement , acceleration)__ and name contains the Name of Cars."
   ]
  },
  {
   "cell_type": "markdown",
   "id": "4093214a",
   "metadata": {},
   "source": [
    "# Check for missing values and Count all the missing values in entire dataframe."
   ]
  },
  {
   "cell_type": "code",
   "execution_count": 4,
   "id": "7b947b9d",
   "metadata": {},
   "outputs": [
    {
     "data": {
      "text/plain": [
       "$mpg\n",
       "\n",
       "FALSE \n",
       "  397 \n",
       "\n",
       "$cylinders\n",
       "\n",
       "FALSE \n",
       "  397 \n",
       "\n",
       "$displacement\n",
       "\n",
       "FALSE \n",
       "  397 \n",
       "\n",
       "$horsepower\n",
       "\n",
       "FALSE  TRUE \n",
       "  392     5 \n",
       "\n",
       "$weight\n",
       "\n",
       "FALSE \n",
       "  397 \n",
       "\n",
       "$acceleration\n",
       "\n",
       "FALSE \n",
       "  397 \n",
       "\n",
       "$year\n",
       "\n",
       "FALSE \n",
       "  397 \n",
       "\n",
       "$origin\n",
       "\n",
       "FALSE \n",
       "  397 \n",
       "\n",
       "$name\n",
       "\n",
       "FALSE \n",
       "  397 \n"
      ]
     },
     "metadata": {},
     "output_type": "display_data"
    }
   ],
   "source": [
    "lapply(lapply(df, is.na), table)"
   ]
  },
  {
   "cell_type": "markdown",
   "id": "c4fbe687",
   "metadata": {},
   "source": [
    "### We can observe from the above output that <i>HorsePower</i> has 5 missing values.\n",
    "\n",
    "### As we are dealing with Car data therefore we can replace missing values with mean value.\n",
    "\n",
    "# Replacing missing values in the Horsepower column"
   ]
  },
  {
   "cell_type": "code",
   "execution_count": 5,
   "id": "6d138482",
   "metadata": {},
   "outputs": [],
   "source": [
    "df$horsepower[is.na(df$horsepower)] = mean(df$horsepower, na.rm=TRUE)"
   ]
  },
  {
   "cell_type": "code",
   "execution_count": 6,
   "id": "8a5d1e10",
   "metadata": {},
   "outputs": [
    {
     "data": {
      "text/plain": [
       "$mpg\n",
       "\n",
       "FALSE \n",
       "  397 \n",
       "\n",
       "$cylinders\n",
       "\n",
       "FALSE \n",
       "  397 \n",
       "\n",
       "$displacement\n",
       "\n",
       "FALSE \n",
       "  397 \n",
       "\n",
       "$horsepower\n",
       "\n",
       "FALSE \n",
       "  397 \n",
       "\n",
       "$weight\n",
       "\n",
       "FALSE \n",
       "  397 \n",
       "\n",
       "$acceleration\n",
       "\n",
       "FALSE \n",
       "  397 \n",
       "\n",
       "$year\n",
       "\n",
       "FALSE \n",
       "  397 \n",
       "\n",
       "$origin\n",
       "\n",
       "FALSE \n",
       "  397 \n",
       "\n",
       "$name\n",
       "\n",
       "FALSE \n",
       "  397 \n"
      ]
     },
     "metadata": {},
     "output_type": "display_data"
    }
   ],
   "source": [
    "lapply(lapply(df, is.na), table)"
   ]
  },
  {
   "cell_type": "code",
   "execution_count": 7,
   "id": "57e72111",
   "metadata": {},
   "outputs": [
    {
     "data": {
      "text/html": [
       "<table>\n",
       "<thead><tr><th scope=col>mpg</th><th scope=col>cylinders</th><th scope=col>displacement</th><th scope=col>horsepower</th><th scope=col>weight</th><th scope=col>acceleration</th><th scope=col>year</th><th scope=col>origin</th><th scope=col>name</th></tr></thead>\n",
       "<tbody>\n",
       "\t<tr><td>18                       </td><td>8                        </td><td>307                      </td><td>130                      </td><td>3504                     </td><td>12.0                     </td><td>70                       </td><td>1                        </td><td>chevrolet chevelle malibu</td></tr>\n",
       "\t<tr><td>15                       </td><td>8                        </td><td>350                      </td><td>165                      </td><td>3693                     </td><td>11.5                     </td><td>70                       </td><td>1                        </td><td>buick skylark 320        </td></tr>\n",
       "\t<tr><td>18                       </td><td>8                        </td><td>318                      </td><td>150                      </td><td>3436                     </td><td>11.0                     </td><td>70                       </td><td>1                        </td><td>plymouth satellite       </td></tr>\n",
       "\t<tr><td>16                       </td><td>8                        </td><td>304                      </td><td>150                      </td><td>3433                     </td><td>12.0                     </td><td>70                       </td><td>1                        </td><td>amc rebel sst            </td></tr>\n",
       "\t<tr><td>17                       </td><td>8                        </td><td>302                      </td><td>140                      </td><td>3449                     </td><td>10.5                     </td><td>70                       </td><td>1                        </td><td>ford torino              </td></tr>\n",
       "\t<tr><td>15                       </td><td>8                        </td><td>429                      </td><td>198                      </td><td>4341                     </td><td>10.0                     </td><td>70                       </td><td>1                        </td><td>ford galaxie 500         </td></tr>\n",
       "</tbody>\n",
       "</table>\n"
      ],
      "text/latex": [
       "\\begin{tabular}{r|lllllllll}\n",
       " mpg & cylinders & displacement & horsepower & weight & acceleration & year & origin & name\\\\\n",
       "\\hline\n",
       "\t 18                        & 8                         & 307                       & 130                       & 3504                      & 12.0                      & 70                        & 1                         & chevrolet chevelle malibu\\\\\n",
       "\t 15                        & 8                         & 350                       & 165                       & 3693                      & 11.5                      & 70                        & 1                         & buick skylark 320        \\\\\n",
       "\t 18                        & 8                         & 318                       & 150                       & 3436                      & 11.0                      & 70                        & 1                         & plymouth satellite       \\\\\n",
       "\t 16                        & 8                         & 304                       & 150                       & 3433                      & 12.0                      & 70                        & 1                         & amc rebel sst            \\\\\n",
       "\t 17                        & 8                         & 302                       & 140                       & 3449                      & 10.5                      & 70                        & 1                         & ford torino              \\\\\n",
       "\t 15                        & 8                         & 429                       & 198                       & 4341                      & 10.0                      & 70                        & 1                         & ford galaxie 500         \\\\\n",
       "\\end{tabular}\n"
      ],
      "text/markdown": [
       "\n",
       "| mpg | cylinders | displacement | horsepower | weight | acceleration | year | origin | name |\n",
       "|---|---|---|---|---|---|---|---|---|\n",
       "| 18                        | 8                         | 307                       | 130                       | 3504                      | 12.0                      | 70                        | 1                         | chevrolet chevelle malibu |\n",
       "| 15                        | 8                         | 350                       | 165                       | 3693                      | 11.5                      | 70                        | 1                         | buick skylark 320         |\n",
       "| 18                        | 8                         | 318                       | 150                       | 3436                      | 11.0                      | 70                        | 1                         | plymouth satellite        |\n",
       "| 16                        | 8                         | 304                       | 150                       | 3433                      | 12.0                      | 70                        | 1                         | amc rebel sst             |\n",
       "| 17                        | 8                         | 302                       | 140                       | 3449                      | 10.5                      | 70                        | 1                         | ford torino               |\n",
       "| 15                        | 8                         | 429                       | 198                       | 4341                      | 10.0                      | 70                        | 1                         | ford galaxie 500          |\n",
       "\n"
      ],
      "text/plain": [
       "  mpg cylinders displacement horsepower weight acceleration year origin\n",
       "1 18  8         307          130        3504   12.0         70   1     \n",
       "2 15  8         350          165        3693   11.5         70   1     \n",
       "3 18  8         318          150        3436   11.0         70   1     \n",
       "4 16  8         304          150        3433   12.0         70   1     \n",
       "5 17  8         302          140        3449   10.5         70   1     \n",
       "6 15  8         429          198        4341   10.0         70   1     \n",
       "  name                     \n",
       "1 chevrolet chevelle malibu\n",
       "2 buick skylark 320        \n",
       "3 plymouth satellite       \n",
       "4 amc rebel sst            \n",
       "5 ford torino              \n",
       "6 ford galaxie 500         "
      ]
     },
     "metadata": {},
     "output_type": "display_data"
    }
   ],
   "source": [
    "head(df)"
   ]
  },
  {
   "cell_type": "markdown",
   "id": "ef8285d4",
   "metadata": {},
   "source": [
    "# Shifting `name` column to the at the first"
   ]
  },
  {
   "cell_type": "code",
   "execution_count": 8,
   "id": "a3209036",
   "metadata": {},
   "outputs": [],
   "source": [
    "df<-df[,c(9, 1:8)]"
   ]
  },
  {
   "cell_type": "code",
   "execution_count": 9,
   "id": "fbf7cd68",
   "metadata": {},
   "outputs": [
    {
     "data": {
      "text/html": [
       "<table>\n",
       "<thead><tr><th scope=col>name</th><th scope=col>mpg</th><th scope=col>cylinders</th><th scope=col>displacement</th><th scope=col>horsepower</th><th scope=col>weight</th><th scope=col>acceleration</th><th scope=col>year</th><th scope=col>origin</th></tr></thead>\n",
       "<tbody>\n",
       "\t<tr><td>chevrolet chevelle malibu</td><td>18                       </td><td>8                        </td><td>307                      </td><td>130                      </td><td>3504                     </td><td>12.0                     </td><td>70                       </td><td>1                        </td></tr>\n",
       "\t<tr><td>buick skylark 320        </td><td>15                       </td><td>8                        </td><td>350                      </td><td>165                      </td><td>3693                     </td><td>11.5                     </td><td>70                       </td><td>1                        </td></tr>\n",
       "\t<tr><td>plymouth satellite       </td><td>18                       </td><td>8                        </td><td>318                      </td><td>150                      </td><td>3436                     </td><td>11.0                     </td><td>70                       </td><td>1                        </td></tr>\n",
       "\t<tr><td>amc rebel sst            </td><td>16                       </td><td>8                        </td><td>304                      </td><td>150                      </td><td>3433                     </td><td>12.0                     </td><td>70                       </td><td>1                        </td></tr>\n",
       "\t<tr><td>ford torino              </td><td>17                       </td><td>8                        </td><td>302                      </td><td>140                      </td><td>3449                     </td><td>10.5                     </td><td>70                       </td><td>1                        </td></tr>\n",
       "\t<tr><td>ford galaxie 500         </td><td>15                       </td><td>8                        </td><td>429                      </td><td>198                      </td><td>4341                     </td><td>10.0                     </td><td>70                       </td><td>1                        </td></tr>\n",
       "</tbody>\n",
       "</table>\n"
      ],
      "text/latex": [
       "\\begin{tabular}{r|lllllllll}\n",
       " name & mpg & cylinders & displacement & horsepower & weight & acceleration & year & origin\\\\\n",
       "\\hline\n",
       "\t chevrolet chevelle malibu & 18                        & 8                         & 307                       & 130                       & 3504                      & 12.0                      & 70                        & 1                        \\\\\n",
       "\t buick skylark 320         & 15                        & 8                         & 350                       & 165                       & 3693                      & 11.5                      & 70                        & 1                        \\\\\n",
       "\t plymouth satellite        & 18                        & 8                         & 318                       & 150                       & 3436                      & 11.0                      & 70                        & 1                        \\\\\n",
       "\t amc rebel sst             & 16                        & 8                         & 304                       & 150                       & 3433                      & 12.0                      & 70                        & 1                        \\\\\n",
       "\t ford torino               & 17                        & 8                         & 302                       & 140                       & 3449                      & 10.5                      & 70                        & 1                        \\\\\n",
       "\t ford galaxie 500          & 15                        & 8                         & 429                       & 198                       & 4341                      & 10.0                      & 70                        & 1                        \\\\\n",
       "\\end{tabular}\n"
      ],
      "text/markdown": [
       "\n",
       "| name | mpg | cylinders | displacement | horsepower | weight | acceleration | year | origin |\n",
       "|---|---|---|---|---|---|---|---|---|\n",
       "| chevrolet chevelle malibu | 18                        | 8                         | 307                       | 130                       | 3504                      | 12.0                      | 70                        | 1                         |\n",
       "| buick skylark 320         | 15                        | 8                         | 350                       | 165                       | 3693                      | 11.5                      | 70                        | 1                         |\n",
       "| plymouth satellite        | 18                        | 8                         | 318                       | 150                       | 3436                      | 11.0                      | 70                        | 1                         |\n",
       "| amc rebel sst             | 16                        | 8                         | 304                       | 150                       | 3433                      | 12.0                      | 70                        | 1                         |\n",
       "| ford torino               | 17                        | 8                         | 302                       | 140                       | 3449                      | 10.5                      | 70                        | 1                         |\n",
       "| ford galaxie 500          | 15                        | 8                         | 429                       | 198                       | 4341                      | 10.0                      | 70                        | 1                         |\n",
       "\n"
      ],
      "text/plain": [
       "  name                      mpg cylinders displacement horsepower weight\n",
       "1 chevrolet chevelle malibu 18  8         307          130        3504  \n",
       "2 buick skylark 320         15  8         350          165        3693  \n",
       "3 plymouth satellite        18  8         318          150        3436  \n",
       "4 amc rebel sst             16  8         304          150        3433  \n",
       "5 ford torino               17  8         302          140        3449  \n",
       "6 ford galaxie 500          15  8         429          198        4341  \n",
       "  acceleration year origin\n",
       "1 12.0         70   1     \n",
       "2 11.5         70   1     \n",
       "3 11.0         70   1     \n",
       "4 12.0         70   1     \n",
       "5 10.5         70   1     \n",
       "6 10.0         70   1     "
      ]
     },
     "metadata": {},
     "output_type": "display_data"
    }
   ],
   "source": [
    "head(df)"
   ]
  },
  {
   "cell_type": "markdown",
   "id": "d940f81f",
   "metadata": {},
   "source": [
    "# Summary of the data"
   ]
  },
  {
   "cell_type": "code",
   "execution_count": 10,
   "id": "f01167d6",
   "metadata": {},
   "outputs": [
    {
     "data": {
      "text/plain": [
       "             name          mpg          cylinders      displacement  \n",
       " ford pinto    :  6   Min.   : 9.00   Min.   :3.000   Min.   : 68.0  \n",
       " amc matador   :  5   1st Qu.:17.50   1st Qu.:4.000   1st Qu.:104.0  \n",
       " ford maverick :  5   Median :23.00   Median :4.000   Median :146.0  \n",
       " toyota corolla:  5   Mean   :23.52   Mean   :5.458   Mean   :193.5  \n",
       " amc gremlin   :  4   3rd Qu.:29.00   3rd Qu.:8.000   3rd Qu.:262.0  \n",
       " amc hornet    :  4   Max.   :46.60   Max.   :8.000   Max.   :455.0  \n",
       " (Other)       :368                                                  \n",
       "   horsepower        weight      acceleration        year           origin     \n",
       " Min.   : 46.0   Min.   :1613   Min.   : 8.00   Min.   :70.00   Min.   :1.000  \n",
       " 1st Qu.: 76.0   1st Qu.:2223   1st Qu.:13.80   1st Qu.:73.00   1st Qu.:1.000  \n",
       " Median : 95.0   Median :2800   Median :15.50   Median :76.00   Median :1.000  \n",
       " Mean   :104.5   Mean   :2970   Mean   :15.56   Mean   :75.99   Mean   :1.574  \n",
       " 3rd Qu.:125.0   3rd Qu.:3609   3rd Qu.:17.10   3rd Qu.:79.00   3rd Qu.:2.000  \n",
       " Max.   :230.0   Max.   :5140   Max.   :24.80   Max.   :82.00   Max.   :3.000  \n",
       "                                                                               "
      ]
     },
     "metadata": {},
     "output_type": "display_data"
    }
   ],
   "source": [
    "summary(df)"
   ]
  },
  {
   "cell_type": "markdown",
   "id": "cede4c63",
   "metadata": {},
   "source": [
    "# Question 1. Which of the predictors are quantitative, and which are qualitative?"
   ]
  },
  {
   "cell_type": "markdown",
   "id": "0041eb6a",
   "metadata": {},
   "source": [
    "### Answers - The Quantitative and Qualitative predictors are :\n"
   ]
  },
  {
   "cell_type": "code",
   "execution_count": 11,
   "id": "270f3be3",
   "metadata": {},
   "outputs": [
    {
     "name": "stdout",
     "output_type": "stream",
     "text": [
      "'data.frame':\t397 obs. of  9 variables:\n",
      " $ name        : Factor w/ 304 levels \"amc ambassador brougham\",..: 49 36 231 14 161 141 54 223 241 2 ...\n",
      " $ mpg         : num  18 15 18 16 17 15 14 14 14 15 ...\n",
      " $ cylinders   : int  8 8 8 8 8 8 8 8 8 8 ...\n",
      " $ displacement: num  307 350 318 304 302 429 454 440 455 390 ...\n",
      " $ horsepower  : num  130 165 150 150 140 198 220 215 225 190 ...\n",
      " $ weight      : int  3504 3693 3436 3433 3449 4341 4354 4312 4425 3850 ...\n",
      " $ acceleration: num  12 11.5 11 12 10.5 10 9 8.5 10 8.5 ...\n",
      " $ year        : int  70 70 70 70 70 70 70 70 70 70 ...\n",
      " $ origin      : int  1 1 1 1 1 1 1 1 1 1 ...\n"
     ]
    }
   ],
   "source": [
    "str(df)"
   ]
  },
  {
   "cell_type": "markdown",
   "id": "789bf12d",
   "metadata": {},
   "source": [
    "<b>Quantitative : `mpg` , `cylinders` , `displacement` , `horsepower` , `weight` , `acceleration` , `year` , `origin`</b>\n",
    "\n",
    "<b>Qualitative : `name`</b>"
   ]
  },
  {
   "cell_type": "markdown",
   "id": "fb1f2152",
   "metadata": {},
   "source": [
    "# Question 2. What is the range of each quantitative predictor? You can answer this using the range() function.\n",
    "\n",
    "<b>Answer - Range canbe defined as the difference between Highest Value and Lowest Value.</b>\n",
    "\n",
    "<b>We can answer this question using two methods :</b>\n",
    "    \n",
    "* 1. Subtracting <i>minimum value</i> from <i>maximum value</i>.\n",
    "* 2. Calculating range using <i>range()</i> function. \n",
    "\n",
    "#### Quantitative : mpg , cylinders , displacement , horsepower , weight , acceleration , year , origin"
   ]
  },
  {
   "cell_type": "markdown",
   "id": "3523f1ba",
   "metadata": {},
   "source": [
    "# mpg - range"
   ]
  },
  {
   "cell_type": "code",
   "execution_count": 12,
   "id": "debfde9b",
   "metadata": {},
   "outputs": [
    {
     "name": "stdout",
     "output_type": "stream",
     "text": [
      "[1] \"using range function\"\n",
      "[1]  9.0 46.6\n",
      "[1] \"Difference between Maximum and minimum value\"\n",
      "[1] 37.6\n"
     ]
    }
   ],
   "source": [
    "print(\"using range function\")\n",
    "print(range(df$mpg))\n",
    "\n",
    "range_mpg <- (max(df$mpg) - min(df$mpg))\n",
    "print('Difference between Maximum and minimum value')\n",
    "print(range_mpg)"
   ]
  },
  {
   "cell_type": "markdown",
   "id": "dcc550a0",
   "metadata": {},
   "source": [
    "# cylinders - range"
   ]
  },
  {
   "cell_type": "code",
   "execution_count": 13,
   "id": "fae4a99a",
   "metadata": {},
   "outputs": [
    {
     "name": "stdout",
     "output_type": "stream",
     "text": [
      "[1] \"using range function\"\n",
      "[1] 3 8\n",
      "[1] \"Difference between Maximum and minimum value\"\n",
      "[1] 5\n"
     ]
    }
   ],
   "source": [
    "print(\"using range function\")\n",
    "print(range(df$cylinders))\n",
    "\n",
    "range_cylinders <- (max(df$cylinders) - min(df$cylinders))\n",
    "print('Difference between Maximum and minimum value')\n",
    "print(range_cylinders)"
   ]
  },
  {
   "cell_type": "markdown",
   "id": "b9d14a72",
   "metadata": {},
   "source": [
    "# displacement - range"
   ]
  },
  {
   "cell_type": "code",
   "execution_count": 14,
   "id": "9c76e4af",
   "metadata": {},
   "outputs": [
    {
     "name": "stdout",
     "output_type": "stream",
     "text": [
      "[1] \"using range function\"\n",
      "[1]  68 455\n",
      "[1] \"Difference between Maximum and minimum value\"\n",
      "[1] 387\n"
     ]
    }
   ],
   "source": [
    "print(\"using range function\")\n",
    "print(range(df$displacement))\n",
    "\n",
    "range_displacement <- (max(df$displacement) - min(df$displacement))\n",
    "print('Difference between Maximum and minimum value')\n",
    "print(range_displacement)"
   ]
  },
  {
   "cell_type": "markdown",
   "id": "b7cb8a4a",
   "metadata": {},
   "source": [
    "# horsepower - range"
   ]
  },
  {
   "cell_type": "code",
   "execution_count": 15,
   "id": "ae8de6ae",
   "metadata": {},
   "outputs": [
    {
     "name": "stdout",
     "output_type": "stream",
     "text": [
      "[1] \"using range function\"\n",
      "[1]  46 230\n",
      "[1] \"Difference between Maximum and minimum value\"\n",
      "[1] 184\n"
     ]
    }
   ],
   "source": [
    "print(\"using range function\")\n",
    "print(range(df$horsepower))\n",
    "\n",
    "range_horsepower <- (max(df$horsepower) - min(df$horsepower))\n",
    "print('Difference between Maximum and minimum value')\n",
    "print(range_horsepower)"
   ]
  },
  {
   "cell_type": "markdown",
   "id": "b1b4656b",
   "metadata": {},
   "source": [
    "# weight - range"
   ]
  },
  {
   "cell_type": "code",
   "execution_count": 16,
   "id": "dfd90c28",
   "metadata": {},
   "outputs": [
    {
     "name": "stdout",
     "output_type": "stream",
     "text": [
      "[1] \"using range function\"\n",
      "[1] 1613 5140\n",
      "[1] \"Difference between Maximum and minimum value\"\n",
      "[1] 3527\n"
     ]
    }
   ],
   "source": [
    "print(\"using range function\")\n",
    "print(range(df$weight))\n",
    "\n",
    "range_weight <- (max(df$weight) - min(df$weight))\n",
    "print('Difference between Maximum and minimum value')\n",
    "print(range_weight)"
   ]
  },
  {
   "cell_type": "markdown",
   "id": "7bdcf09a",
   "metadata": {},
   "source": [
    "# acceleration - range"
   ]
  },
  {
   "cell_type": "code",
   "execution_count": 17,
   "id": "16b8e1bf",
   "metadata": {},
   "outputs": [
    {
     "name": "stdout",
     "output_type": "stream",
     "text": [
      "[1] \"using range function\"\n",
      "[1]  8.0 24.8\n",
      "[1] \"Difference between Maximum and minimum value\"\n",
      "[1] 16.8\n"
     ]
    }
   ],
   "source": [
    "print(\"using range function\")\n",
    "print(range(df$acceleration))\n",
    "\n",
    "range_acceleration <- (max(df$acceleration) - min(df$acceleration))\n",
    "print('Difference between Maximum and minimum value')\n",
    "print(range_acceleration)"
   ]
  },
  {
   "cell_type": "markdown",
   "id": "9cce98f1",
   "metadata": {},
   "source": [
    "# year - range"
   ]
  },
  {
   "cell_type": "code",
   "execution_count": 18,
   "id": "50fc7d63",
   "metadata": {},
   "outputs": [
    {
     "name": "stdout",
     "output_type": "stream",
     "text": [
      "[1] \"using range function\"\n",
      "[1] 70 82\n",
      "[1] \"Difference between Maximum and minimum value\"\n",
      "[1] 12\n"
     ]
    }
   ],
   "source": [
    "print(\"using range function\")\n",
    "print(range(df$year))\n",
    "\n",
    "range_year <- (max(df$year) - min(df$year))\n",
    "print('Difference between Maximum and minimum value')\n",
    "print(range_year)"
   ]
  },
  {
   "cell_type": "markdown",
   "id": "c19df36b",
   "metadata": {},
   "source": [
    "# origin - range"
   ]
  },
  {
   "cell_type": "code",
   "execution_count": 19,
   "id": "3f863788",
   "metadata": {},
   "outputs": [
    {
     "name": "stdout",
     "output_type": "stream",
     "text": [
      "[1] \"using range function\"\n",
      "[1] 1 3\n",
      "[1] \"Difference between Maximum and minimum value\"\n",
      "[1] 2\n"
     ]
    }
   ],
   "source": [
    "print(\"using range function\")\n",
    "print(range(df$origin))\n",
    "\n",
    "range_origin <- (max(df$origin) - min(df$origin))\n",
    "print('Difference between Maximum and minimum value')\n",
    "print(range_origin)"
   ]
  },
  {
   "cell_type": "markdown",
   "id": "ab391e5a",
   "metadata": {},
   "source": [
    "# Question 3. What is the mean and standard deviation of each quantitative predictor?"
   ]
  },
  {
   "cell_type": "markdown",
   "id": "cfd6504e",
   "metadata": {},
   "source": [
    "# mpg"
   ]
  },
  {
   "cell_type": "code",
   "execution_count": 20,
   "id": "14418eee",
   "metadata": {},
   "outputs": [
    {
     "name": "stdout",
     "output_type": "stream",
     "text": [
      "[1] \"mean\"\n",
      "[1] 23.51587\n",
      "[1] \"Standard Deviation\"\n",
      "[1] 7.825804\n"
     ]
    }
   ],
   "source": [
    "print(\"mean\")\n",
    "print(mean(df$mpg))\n",
    "\n",
    "print(\"Standard Deviation\")\n",
    "print(sd(df$mpg))"
   ]
  },
  {
   "cell_type": "markdown",
   "id": "405919d9",
   "metadata": {},
   "source": [
    "# cylinders"
   ]
  },
  {
   "cell_type": "code",
   "execution_count": 21,
   "id": "995c90b6",
   "metadata": {},
   "outputs": [
    {
     "name": "stdout",
     "output_type": "stream",
     "text": [
      "[1] \"mean\"\n",
      "[1] 5.458438\n",
      "[1] \"Standard Deviation\"\n",
      "[1] 1.701577\n"
     ]
    }
   ],
   "source": [
    "print(\"mean\")\n",
    "print(mean(df$cylinders))\n",
    "\n",
    "print(\"Standard Deviation\")\n",
    "print(sd(df$cylinders))"
   ]
  },
  {
   "cell_type": "markdown",
   "id": "c51819ae",
   "metadata": {},
   "source": [
    "# displacement"
   ]
  },
  {
   "cell_type": "code",
   "execution_count": 22,
   "id": "c8a7d650",
   "metadata": {},
   "outputs": [
    {
     "name": "stdout",
     "output_type": "stream",
     "text": [
      "[1] \"mean\"\n",
      "[1] 193.5327\n",
      "[1] \"Standard Deviation\"\n",
      "[1] 104.3796\n"
     ]
    }
   ],
   "source": [
    "print(\"mean\")\n",
    "print(mean(df$displacement))\n",
    "\n",
    "print(\"Standard Deviation\")\n",
    "print(sd(df$displacement))"
   ]
  },
  {
   "cell_type": "markdown",
   "id": "961e636f",
   "metadata": {},
   "source": [
    "# horsepower"
   ]
  },
  {
   "cell_type": "code",
   "execution_count": 23,
   "id": "69dca8b8",
   "metadata": {},
   "outputs": [
    {
     "name": "stdout",
     "output_type": "stream",
     "text": [
      "[1] \"mean\"\n",
      "[1] 104.4694\n",
      "[1] \"Standard Deviation\"\n",
      "[1] 38.24739\n"
     ]
    }
   ],
   "source": [
    "print(\"mean\")\n",
    "print(mean(df$horsepower))\n",
    "\n",
    "print(\"Standard Deviation\")\n",
    "print(sd(df$horsepower))"
   ]
  },
  {
   "cell_type": "markdown",
   "id": "e06ef016",
   "metadata": {},
   "source": [
    "# weight"
   ]
  },
  {
   "cell_type": "code",
   "execution_count": 24,
   "id": "f7ff4360",
   "metadata": {},
   "outputs": [
    {
     "name": "stdout",
     "output_type": "stream",
     "text": [
      "[1] \"mean\"\n",
      "[1] 2970.262\n",
      "[1] \"Standard Deviation\"\n",
      "[1] 847.9041\n"
     ]
    }
   ],
   "source": [
    "print(\"mean\")\n",
    "print(mean(df$weight))\n",
    "\n",
    "print(\"Standard Deviation\")\n",
    "print(sd(df$weight))"
   ]
  },
  {
   "cell_type": "markdown",
   "id": "1683139d",
   "metadata": {},
   "source": [
    "# acceleration"
   ]
  },
  {
   "cell_type": "code",
   "execution_count": 25,
   "id": "dcfdd19e",
   "metadata": {},
   "outputs": [
    {
     "name": "stdout",
     "output_type": "stream",
     "text": [
      "[1] \"mean\"\n",
      "[1] 15.55567\n",
      "[1] \"Standard Deviation\"\n",
      "[1] 2.749995\n"
     ]
    }
   ],
   "source": [
    "print(\"mean\")\n",
    "print(mean(df$acceleration))\n",
    "\n",
    "print(\"Standard Deviation\")\n",
    "print(sd(df$acceleration))"
   ]
  },
  {
   "cell_type": "markdown",
   "id": "f46fe278",
   "metadata": {},
   "source": [
    "# year"
   ]
  },
  {
   "cell_type": "code",
   "execution_count": 26,
   "id": "4f8b7e2f",
   "metadata": {},
   "outputs": [
    {
     "name": "stdout",
     "output_type": "stream",
     "text": [
      "[1] \"mean\"\n",
      "[1] 75.99496\n",
      "[1] \"Standard Deviation\"\n",
      "[1] 3.690005\n"
     ]
    }
   ],
   "source": [
    "print(\"mean\")\n",
    "print(mean(df$year))\n",
    "\n",
    "print(\"Standard Deviation\")\n",
    "print(sd(df$year))"
   ]
  },
  {
   "cell_type": "markdown",
   "id": "6c0d188c",
   "metadata": {},
   "source": [
    "# Origin"
   ]
  },
  {
   "cell_type": "code",
   "execution_count": 27,
   "id": "f9e6da3f",
   "metadata": {},
   "outputs": [
    {
     "name": "stdout",
     "output_type": "stream",
     "text": [
      "[1] \"mean\"\n",
      "[1] 1.574307\n",
      "[1] \"Standard Deviation\"\n",
      "[1] 0.8025495\n"
     ]
    }
   ],
   "source": [
    "print(\"mean\")\n",
    "print(mean(df$origin))\n",
    "\n",
    "print(\"Standard Deviation\")\n",
    "print(sd(df$origin))"
   ]
  },
  {
   "cell_type": "markdown",
   "id": "d5e68d31",
   "metadata": {},
   "source": [
    "# Question 4. Now remove the 10th through 85th observations. What is the range, mean, and standard deviation of each predictor in the subset of the data that remains?"
   ]
  },
  {
   "cell_type": "code",
   "execution_count": 28,
   "id": "50dcf0d2",
   "metadata": {},
   "outputs": [],
   "source": [
    "new_df <- df[-c(10:85),] "
   ]
  },
  {
   "cell_type": "code",
   "execution_count": 29,
   "id": "20936ec3",
   "metadata": {},
   "outputs": [
    {
     "data": {
      "text/html": [
       "<table>\n",
       "<thead><tr><th></th><th scope=col>name</th><th scope=col>mpg</th><th scope=col>cylinders</th><th scope=col>displacement</th><th scope=col>horsepower</th><th scope=col>weight</th><th scope=col>acceleration</th><th scope=col>year</th><th scope=col>origin</th></tr></thead>\n",
       "<tbody>\n",
       "\t<tr><th scope=row>1</th><td>chevrolet chevelle malibu</td><td>18                       </td><td>8                        </td><td>307                      </td><td>130                      </td><td>3504                     </td><td>12.0                     </td><td>70                       </td><td>1                        </td></tr>\n",
       "\t<tr><th scope=row>2</th><td>buick skylark 320        </td><td>15                       </td><td>8                        </td><td>350                      </td><td>165                      </td><td>3693                     </td><td>11.5                     </td><td>70                       </td><td>1                        </td></tr>\n",
       "\t<tr><th scope=row>3</th><td>plymouth satellite       </td><td>18                       </td><td>8                        </td><td>318                      </td><td>150                      </td><td>3436                     </td><td>11.0                     </td><td>70                       </td><td>1                        </td></tr>\n",
       "\t<tr><th scope=row>4</th><td>amc rebel sst            </td><td>16                       </td><td>8                        </td><td>304                      </td><td>150                      </td><td>3433                     </td><td>12.0                     </td><td>70                       </td><td>1                        </td></tr>\n",
       "\t<tr><th scope=row>5</th><td>ford torino              </td><td>17                       </td><td>8                        </td><td>302                      </td><td>140                      </td><td>3449                     </td><td>10.5                     </td><td>70                       </td><td>1                        </td></tr>\n",
       "\t<tr><th scope=row>6</th><td>ford galaxie 500         </td><td>15                       </td><td>8                        </td><td>429                      </td><td>198                      </td><td>4341                     </td><td>10.0                     </td><td>70                       </td><td>1                        </td></tr>\n",
       "\t<tr><th scope=row>7</th><td>chevrolet impala         </td><td>14                       </td><td>8                        </td><td>454                      </td><td>220                      </td><td>4354                     </td><td> 9.0                     </td><td>70                       </td><td>1                        </td></tr>\n",
       "\t<tr><th scope=row>8</th><td>plymouth fury iii        </td><td>14                       </td><td>8                        </td><td>440                      </td><td>215                      </td><td>4312                     </td><td> 8.5                     </td><td>70                       </td><td>1                        </td></tr>\n",
       "\t<tr><th scope=row>9</th><td>pontiac catalina         </td><td>14                       </td><td>8                        </td><td>455                      </td><td>225                      </td><td>4425                     </td><td>10.0                     </td><td>70                       </td><td>1                        </td></tr>\n",
       "\t<tr><th scope=row>86</th><td>buick century 350        </td><td>13                       </td><td>8                        </td><td>350                      </td><td>175                      </td><td>4100                     </td><td>13.0                     </td><td>73                       </td><td>1                        </td></tr>\n",
       "\t<tr><th scope=row>87</th><td>amc matador              </td><td>14                       </td><td>8                        </td><td>304                      </td><td>150                      </td><td>3672                     </td><td>11.5                     </td><td>73                       </td><td>1                        </td></tr>\n",
       "\t<tr><th scope=row>88</th><td>chevrolet malibu         </td><td>13                       </td><td>8                        </td><td>350                      </td><td>145                      </td><td>3988                     </td><td>13.0                     </td><td>73                       </td><td>1                        </td></tr>\n",
       "\t<tr><th scope=row>89</th><td>ford gran torino         </td><td>14                       </td><td>8                        </td><td>302                      </td><td>137                      </td><td>4042                     </td><td>14.5                     </td><td>73                       </td><td>1                        </td></tr>\n",
       "\t<tr><th scope=row>90</th><td>dodge coronet custom     </td><td>15                       </td><td>8                        </td><td>318                      </td><td>150                      </td><td>3777                     </td><td>12.5                     </td><td>73                       </td><td>1                        </td></tr>\n",
       "\t<tr><th scope=row>91</th><td>mercury marquis brougham </td><td>12                       </td><td>8                        </td><td>429                      </td><td>198                      </td><td>4952                     </td><td>11.5                     </td><td>73                       </td><td>1                        </td></tr>\n",
       "</tbody>\n",
       "</table>\n"
      ],
      "text/latex": [
       "\\begin{tabular}{r|lllllllll}\n",
       "  & name & mpg & cylinders & displacement & horsepower & weight & acceleration & year & origin\\\\\n",
       "\\hline\n",
       "\t1 & chevrolet chevelle malibu & 18                        & 8                         & 307                       & 130                       & 3504                      & 12.0                      & 70                        & 1                        \\\\\n",
       "\t2 & buick skylark 320         & 15                        & 8                         & 350                       & 165                       & 3693                      & 11.5                      & 70                        & 1                        \\\\\n",
       "\t3 & plymouth satellite        & 18                        & 8                         & 318                       & 150                       & 3436                      & 11.0                      & 70                        & 1                        \\\\\n",
       "\t4 & amc rebel sst             & 16                        & 8                         & 304                       & 150                       & 3433                      & 12.0                      & 70                        & 1                        \\\\\n",
       "\t5 & ford torino               & 17                        & 8                         & 302                       & 140                       & 3449                      & 10.5                      & 70                        & 1                        \\\\\n",
       "\t6 & ford galaxie 500          & 15                        & 8                         & 429                       & 198                       & 4341                      & 10.0                      & 70                        & 1                        \\\\\n",
       "\t7 & chevrolet impala          & 14                        & 8                         & 454                       & 220                       & 4354                      &  9.0                      & 70                        & 1                        \\\\\n",
       "\t8 & plymouth fury iii         & 14                        & 8                         & 440                       & 215                       & 4312                      &  8.5                      & 70                        & 1                        \\\\\n",
       "\t9 & pontiac catalina          & 14                        & 8                         & 455                       & 225                       & 4425                      & 10.0                      & 70                        & 1                        \\\\\n",
       "\t86 & buick century 350         & 13                        & 8                         & 350                       & 175                       & 4100                      & 13.0                      & 73                        & 1                        \\\\\n",
       "\t87 & amc matador               & 14                        & 8                         & 304                       & 150                       & 3672                      & 11.5                      & 73                        & 1                        \\\\\n",
       "\t88 & chevrolet malibu          & 13                        & 8                         & 350                       & 145                       & 3988                      & 13.0                      & 73                        & 1                        \\\\\n",
       "\t89 & ford gran torino          & 14                        & 8                         & 302                       & 137                       & 4042                      & 14.5                      & 73                        & 1                        \\\\\n",
       "\t90 & dodge coronet custom      & 15                        & 8                         & 318                       & 150                       & 3777                      & 12.5                      & 73                        & 1                        \\\\\n",
       "\t91 & mercury marquis brougham  & 12                        & 8                         & 429                       & 198                       & 4952                      & 11.5                      & 73                        & 1                        \\\\\n",
       "\\end{tabular}\n"
      ],
      "text/markdown": [
       "\n",
       "| <!--/--> | name | mpg | cylinders | displacement | horsepower | weight | acceleration | year | origin |\n",
       "|---|---|---|---|---|---|---|---|---|---|\n",
       "| 1 | chevrolet chevelle malibu | 18                        | 8                         | 307                       | 130                       | 3504                      | 12.0                      | 70                        | 1                         |\n",
       "| 2 | buick skylark 320         | 15                        | 8                         | 350                       | 165                       | 3693                      | 11.5                      | 70                        | 1                         |\n",
       "| 3 | plymouth satellite        | 18                        | 8                         | 318                       | 150                       | 3436                      | 11.0                      | 70                        | 1                         |\n",
       "| 4 | amc rebel sst             | 16                        | 8                         | 304                       | 150                       | 3433                      | 12.0                      | 70                        | 1                         |\n",
       "| 5 | ford torino               | 17                        | 8                         | 302                       | 140                       | 3449                      | 10.5                      | 70                        | 1                         |\n",
       "| 6 | ford galaxie 500          | 15                        | 8                         | 429                       | 198                       | 4341                      | 10.0                      | 70                        | 1                         |\n",
       "| 7 | chevrolet impala          | 14                        | 8                         | 454                       | 220                       | 4354                      |  9.0                      | 70                        | 1                         |\n",
       "| 8 | plymouth fury iii         | 14                        | 8                         | 440                       | 215                       | 4312                      |  8.5                      | 70                        | 1                         |\n",
       "| 9 | pontiac catalina          | 14                        | 8                         | 455                       | 225                       | 4425                      | 10.0                      | 70                        | 1                         |\n",
       "| 86 | buick century 350         | 13                        | 8                         | 350                       | 175                       | 4100                      | 13.0                      | 73                        | 1                         |\n",
       "| 87 | amc matador               | 14                        | 8                         | 304                       | 150                       | 3672                      | 11.5                      | 73                        | 1                         |\n",
       "| 88 | chevrolet malibu          | 13                        | 8                         | 350                       | 145                       | 3988                      | 13.0                      | 73                        | 1                         |\n",
       "| 89 | ford gran torino          | 14                        | 8                         | 302                       | 137                       | 4042                      | 14.5                      | 73                        | 1                         |\n",
       "| 90 | dodge coronet custom      | 15                        | 8                         | 318                       | 150                       | 3777                      | 12.5                      | 73                        | 1                         |\n",
       "| 91 | mercury marquis brougham  | 12                        | 8                         | 429                       | 198                       | 4952                      | 11.5                      | 73                        | 1                         |\n",
       "\n"
      ],
      "text/plain": [
       "   name                      mpg cylinders displacement horsepower weight\n",
       "1  chevrolet chevelle malibu 18  8         307          130        3504  \n",
       "2  buick skylark 320         15  8         350          165        3693  \n",
       "3  plymouth satellite        18  8         318          150        3436  \n",
       "4  amc rebel sst             16  8         304          150        3433  \n",
       "5  ford torino               17  8         302          140        3449  \n",
       "6  ford galaxie 500          15  8         429          198        4341  \n",
       "7  chevrolet impala          14  8         454          220        4354  \n",
       "8  plymouth fury iii         14  8         440          215        4312  \n",
       "9  pontiac catalina          14  8         455          225        4425  \n",
       "86 buick century 350         13  8         350          175        4100  \n",
       "87 amc matador               14  8         304          150        3672  \n",
       "88 chevrolet malibu          13  8         350          145        3988  \n",
       "89 ford gran torino          14  8         302          137        4042  \n",
       "90 dodge coronet custom      15  8         318          150        3777  \n",
       "91 mercury marquis brougham  12  8         429          198        4952  \n",
       "   acceleration year origin\n",
       "1  12.0         70   1     \n",
       "2  11.5         70   1     \n",
       "3  11.0         70   1     \n",
       "4  12.0         70   1     \n",
       "5  10.5         70   1     \n",
       "6  10.0         70   1     \n",
       "7   9.0         70   1     \n",
       "8   8.5         70   1     \n",
       "9  10.0         70   1     \n",
       "86 13.0         73   1     \n",
       "87 11.5         73   1     \n",
       "88 13.0         73   1     \n",
       "89 14.5         73   1     \n",
       "90 12.5         73   1     \n",
       "91 11.5         73   1     "
      ]
     },
     "metadata": {},
     "output_type": "display_data"
    }
   ],
   "source": [
    "head(new_df,15)"
   ]
  },
  {
   "cell_type": "markdown",
   "id": "aabaec5a",
   "metadata": {},
   "source": [
    "# mpg"
   ]
  },
  {
   "cell_type": "code",
   "execution_count": 30,
   "id": "be5bb423",
   "metadata": {},
   "outputs": [
    {
     "name": "stdout",
     "output_type": "stream",
     "text": [
      "[1] \"using range function\"\n",
      "[1] 11.0 46.6\n",
      "[1] \"Difference between Maximum and minimum value\"\n",
      "[1] 35.6\n",
      "[1] \"mean\"\n",
      "[1] 24.43863\n",
      "[1] \"Standard Deviation\"\n",
      "[1] 7.908184\n"
     ]
    }
   ],
   "source": [
    "print(\"using range function\")\n",
    "print(range(new_df$mpg))\n",
    "\n",
    "range_mpg <- (max(new_df$mpg) - min(new_df$mpg))\n",
    "print('Difference between Maximum and minimum value')\n",
    "print(range_mpg)\n",
    "\n",
    "print(\"mean\")\n",
    "print(mean(new_df$mpg))\n",
    "\n",
    "print(\"Standard Deviation\")\n",
    "print(sd(new_df$mpg))"
   ]
  },
  {
   "cell_type": "markdown",
   "id": "7de2408d",
   "metadata": {},
   "source": [
    "# cylinders"
   ]
  },
  {
   "cell_type": "code",
   "execution_count": 31,
   "id": "f9a24e0c",
   "metadata": {},
   "outputs": [
    {
     "name": "stdout",
     "output_type": "stream",
     "text": [
      "[1] \"using range function\"\n",
      "[1] 3 8\n",
      "[1] \"Difference between Maximum and minimum value\"\n",
      "[1] 5\n",
      "[1] \"mean\"\n",
      "[1] 5.370717\n",
      "[1] \"Standard Deviation\"\n",
      "[1] 1.653486\n"
     ]
    }
   ],
   "source": [
    "print(\"using range function\")\n",
    "print(range(new_df$cylinders))\n",
    "\n",
    "range_cylinders <- (max(new_df$cylinders) - min(new_df$cylinders))\n",
    "print('Difference between Maximum and minimum value')\n",
    "print(range_cylinders)\n",
    "\n",
    "print(\"mean\")\n",
    "print(mean(new_df$cylinders))\n",
    "\n",
    "print(\"Standard Deviation\")\n",
    "print(sd(new_df$cylinders))"
   ]
  },
  {
   "cell_type": "markdown",
   "id": "a0415464",
   "metadata": {},
   "source": [
    "# Displacement"
   ]
  },
  {
   "cell_type": "code",
   "execution_count": 32,
   "id": "9843e647",
   "metadata": {},
   "outputs": [
    {
     "name": "stdout",
     "output_type": "stream",
     "text": [
      "[1] \"using range function\"\n",
      "[1]  68 455\n",
      "[1] \"Difference between Maximum and minimum value\"\n",
      "[1] 387\n",
      "[1] \"mean\"\n",
      "[1] 187.0498\n",
      "[1] \"Standard Deviation\"\n",
      "[1] 99.63539\n"
     ]
    }
   ],
   "source": [
    "print(\"using range function\")\n",
    "print(range(new_df$displacement))\n",
    "\n",
    "range_displacement <- (max(new_df$displacement) - min(new_df$displacement))\n",
    "print('Difference between Maximum and minimum value')\n",
    "print(range_displacement)\n",
    "\n",
    "print(\"mean\")\n",
    "print(mean(new_df$displacement))\n",
    "\n",
    "print(\"Standard Deviation\")\n",
    "print(sd(new_df$displacement))"
   ]
  },
  {
   "cell_type": "markdown",
   "id": "63a9d6e1",
   "metadata": {},
   "source": [
    "# Horsepower"
   ]
  },
  {
   "cell_type": "code",
   "execution_count": 33,
   "id": "f1d7a0d7",
   "metadata": {},
   "outputs": [
    {
     "name": "stdout",
     "output_type": "stream",
     "text": [
      "[1] \"using range function\"\n",
      "[1]  46 230\n",
      "[1] \"Difference between Maximum and minimum value\"\n",
      "[1] 184\n",
      "[1] \"mean\"\n",
      "[1] 100.9996\n",
      "[1] \"Standard Deviation\"\n",
      "[1] 35.67265\n"
     ]
    }
   ],
   "source": [
    "print(\"using range function\")\n",
    "print(range(new_df$horsepower))\n",
    "\n",
    "range_horsepower <- (max(new_df$horsepower) - min(new_df$horsepower))\n",
    "print('Difference between Maximum and minimum value')\n",
    "print(range_horsepower)\n",
    "\n",
    "print(\"mean\")\n",
    "print(mean(new_df$horsepower))\n",
    "\n",
    "print(\"Standard Deviation\")\n",
    "print(sd(new_df$horsepower))"
   ]
  },
  {
   "cell_type": "markdown",
   "id": "51eed15d",
   "metadata": {},
   "source": [
    "# Weight"
   ]
  },
  {
   "cell_type": "code",
   "execution_count": 34,
   "id": "bc88e315",
   "metadata": {},
   "outputs": [
    {
     "name": "stdout",
     "output_type": "stream",
     "text": [
      "[1] \"using range function\"\n",
      "[1] 1649 4997\n",
      "[1] \"Difference between Maximum and minimum value\"\n",
      "[1] 3348\n",
      "[1] \"mean\"\n",
      "[1] 2933.963\n",
      "[1] \"Standard Deviation\"\n",
      "[1] 810.6429\n"
     ]
    }
   ],
   "source": [
    "print(\"using range function\")\n",
    "print(range(new_df$weight))\n",
    "\n",
    "range_weight <- (max(new_df$weight) - min(new_df$weight))\n",
    "print('Difference between Maximum and minimum value')\n",
    "print(range_weight)\n",
    "\n",
    "print(\"mean\")\n",
    "print(mean(new_df$weight))\n",
    "\n",
    "print(\"Standard Deviation\")\n",
    "print(sd(new_df$weight))"
   ]
  },
  {
   "cell_type": "markdown",
   "id": "e2266993",
   "metadata": {},
   "source": [
    "# Acceleration"
   ]
  },
  {
   "cell_type": "code",
   "execution_count": 35,
   "id": "e473fef0",
   "metadata": {},
   "outputs": [
    {
     "name": "stdout",
     "output_type": "stream",
     "text": [
      "[1] \"using range function\"\n",
      "[1] 70 82\n",
      "[1] \"Difference between Maximum and minimum value\"\n",
      "[1] 16.3\n",
      "[1] \"mean\"\n",
      "[1] 15.72305\n",
      "[1] \"Standard Deviation\"\n",
      "[1] 2.680514\n"
     ]
    }
   ],
   "source": [
    "print(\"using range function\")\n",
    "print(range(new_df$year))\n",
    "\n",
    "range_acceleration <- (max(new_df$acceleration) - min(new_df$acceleration))\n",
    "print('Difference between Maximum and minimum value')\n",
    "print(range_acceleration)\n",
    "\n",
    "print(\"mean\")\n",
    "print(mean(new_df$acceleration))\n",
    "\n",
    "print(\"Standard Deviation\")\n",
    "print(sd(new_df$acceleration))"
   ]
  },
  {
   "cell_type": "markdown",
   "id": "115951c5",
   "metadata": {},
   "source": [
    "# Year"
   ]
  },
  {
   "cell_type": "code",
   "execution_count": 36,
   "id": "06c7d83b",
   "metadata": {},
   "outputs": [
    {
     "name": "stdout",
     "output_type": "stream",
     "text": [
      "[1] \"using range function\"\n",
      "[1] 70 82\n",
      "[1] \"Difference between Maximum and minimum value\"\n",
      "[1] 12\n",
      "[1] \"mean\"\n",
      "[1] 77.15265\n",
      "[1] \"Standard Deviation\"\n",
      "[1] 3.11123\n"
     ]
    }
   ],
   "source": [
    "print(\"using range function\")\n",
    "print(range(new_df$year))\n",
    "\n",
    "range_year <- (max(new_df$year) - min(new_df$year))\n",
    "print('Difference between Maximum and minimum value')\n",
    "print(range_year)\n",
    "\n",
    "print(\"mean\")\n",
    "print(mean(new_df$year))\n",
    "\n",
    "print(\"Standard Deviation\")\n",
    "print(sd(new_df$year))"
   ]
  },
  {
   "cell_type": "markdown",
   "id": "e2924c90",
   "metadata": {},
   "source": [
    "# Origin"
   ]
  },
  {
   "cell_type": "code",
   "execution_count": 37,
   "id": "97ab0c99",
   "metadata": {},
   "outputs": [
    {
     "name": "stdout",
     "output_type": "stream",
     "text": [
      "[1] \"using range function\"\n",
      "[1] 1 3\n",
      "[1] \"Difference between Maximum and minimum value\"\n",
      "[1] 2\n",
      "[1] \"mean\"\n",
      "[1] 1.598131\n",
      "[1] \"Standard Deviation\"\n",
      "[1] 0.8161627\n"
     ]
    }
   ],
   "source": [
    "print(\"using range function\")\n",
    "print(range(new_df$origin))\n",
    "\n",
    "range_origin <- (max(new_df$origin) - min(new_df$origin))\n",
    "print('Difference between Maximum and minimum value')\n",
    "print(range_origin)\n",
    "\n",
    "print(\"mean\")\n",
    "print(mean(new_df$origin))\n",
    "\n",
    "print(\"Standard Deviation\")\n",
    "print(sd(new_df$origin))"
   ]
  },
  {
   "cell_type": "markdown",
   "id": "ec777603",
   "metadata": {},
   "source": [
    "# Question 5. Using the full data set, investigate the predictors graphically, using scatterplots or other tools of your choice. Create some plots highlighting the relationships among the predictors. Comment on your findings."
   ]
  },
  {
   "cell_type": "markdown",
   "id": "2d935976",
   "metadata": {},
   "source": [
    "# Answer\n",
    "### To Observe all our variables together, Let's add a **id** column to our dataset. \n",
    "### We will try to visualize all our variables together and then we can visualize them separately based on the trends we observe."
   ]
  },
  {
   "cell_type": "code",
   "execution_count": 38,
   "id": "f631e70d",
   "metadata": {},
   "outputs": [],
   "source": [
    "df$id <- seq.int(nrow(df))"
   ]
  },
  {
   "cell_type": "code",
   "execution_count": 39,
   "id": "5fe7f627",
   "metadata": {},
   "outputs": [
    {
     "data": {
      "text/html": [
       "<table>\n",
       "<thead><tr><th scope=col>name</th><th scope=col>mpg</th><th scope=col>cylinders</th><th scope=col>displacement</th><th scope=col>horsepower</th><th scope=col>weight</th><th scope=col>acceleration</th><th scope=col>year</th><th scope=col>origin</th><th scope=col>id</th></tr></thead>\n",
       "<tbody>\n",
       "\t<tr><td>chevrolet chevelle malibu</td><td>18                       </td><td>8                        </td><td>307                      </td><td>130                      </td><td>3504                     </td><td>12.0                     </td><td>70                       </td><td>1                        </td><td>1                        </td></tr>\n",
       "\t<tr><td>buick skylark 320        </td><td>15                       </td><td>8                        </td><td>350                      </td><td>165                      </td><td>3693                     </td><td>11.5                     </td><td>70                       </td><td>1                        </td><td>2                        </td></tr>\n",
       "\t<tr><td>plymouth satellite       </td><td>18                       </td><td>8                        </td><td>318                      </td><td>150                      </td><td>3436                     </td><td>11.0                     </td><td>70                       </td><td>1                        </td><td>3                        </td></tr>\n",
       "\t<tr><td>amc rebel sst            </td><td>16                       </td><td>8                        </td><td>304                      </td><td>150                      </td><td>3433                     </td><td>12.0                     </td><td>70                       </td><td>1                        </td><td>4                        </td></tr>\n",
       "\t<tr><td>ford torino              </td><td>17                       </td><td>8                        </td><td>302                      </td><td>140                      </td><td>3449                     </td><td>10.5                     </td><td>70                       </td><td>1                        </td><td>5                        </td></tr>\n",
       "\t<tr><td>ford galaxie 500         </td><td>15                       </td><td>8                        </td><td>429                      </td><td>198                      </td><td>4341                     </td><td>10.0                     </td><td>70                       </td><td>1                        </td><td>6                        </td></tr>\n",
       "</tbody>\n",
       "</table>\n"
      ],
      "text/latex": [
       "\\begin{tabular}{r|llllllllll}\n",
       " name & mpg & cylinders & displacement & horsepower & weight & acceleration & year & origin & id\\\\\n",
       "\\hline\n",
       "\t chevrolet chevelle malibu & 18                        & 8                         & 307                       & 130                       & 3504                      & 12.0                      & 70                        & 1                         & 1                        \\\\\n",
       "\t buick skylark 320         & 15                        & 8                         & 350                       & 165                       & 3693                      & 11.5                      & 70                        & 1                         & 2                        \\\\\n",
       "\t plymouth satellite        & 18                        & 8                         & 318                       & 150                       & 3436                      & 11.0                      & 70                        & 1                         & 3                        \\\\\n",
       "\t amc rebel sst             & 16                        & 8                         & 304                       & 150                       & 3433                      & 12.0                      & 70                        & 1                         & 4                        \\\\\n",
       "\t ford torino               & 17                        & 8                         & 302                       & 140                       & 3449                      & 10.5                      & 70                        & 1                         & 5                        \\\\\n",
       "\t ford galaxie 500          & 15                        & 8                         & 429                       & 198                       & 4341                      & 10.0                      & 70                        & 1                         & 6                        \\\\\n",
       "\\end{tabular}\n"
      ],
      "text/markdown": [
       "\n",
       "| name | mpg | cylinders | displacement | horsepower | weight | acceleration | year | origin | id |\n",
       "|---|---|---|---|---|---|---|---|---|---|\n",
       "| chevrolet chevelle malibu | 18                        | 8                         | 307                       | 130                       | 3504                      | 12.0                      | 70                        | 1                         | 1                         |\n",
       "| buick skylark 320         | 15                        | 8                         | 350                       | 165                       | 3693                      | 11.5                      | 70                        | 1                         | 2                         |\n",
       "| plymouth satellite        | 18                        | 8                         | 318                       | 150                       | 3436                      | 11.0                      | 70                        | 1                         | 3                         |\n",
       "| amc rebel sst             | 16                        | 8                         | 304                       | 150                       | 3433                      | 12.0                      | 70                        | 1                         | 4                         |\n",
       "| ford torino               | 17                        | 8                         | 302                       | 140                       | 3449                      | 10.5                      | 70                        | 1                         | 5                         |\n",
       "| ford galaxie 500          | 15                        | 8                         | 429                       | 198                       | 4341                      | 10.0                      | 70                        | 1                         | 6                         |\n",
       "\n"
      ],
      "text/plain": [
       "  name                      mpg cylinders displacement horsepower weight\n",
       "1 chevrolet chevelle malibu 18  8         307          130        3504  \n",
       "2 buick skylark 320         15  8         350          165        3693  \n",
       "3 plymouth satellite        18  8         318          150        3436  \n",
       "4 amc rebel sst             16  8         304          150        3433  \n",
       "5 ford torino               17  8         302          140        3449  \n",
       "6 ford galaxie 500          15  8         429          198        4341  \n",
       "  acceleration year origin id\n",
       "1 12.0         70   1      1 \n",
       "2 11.5         70   1      2 \n",
       "3 11.0         70   1      3 \n",
       "4 12.0         70   1      4 \n",
       "5 10.5         70   1      5 \n",
       "6 10.0         70   1      6 "
      ]
     },
     "metadata": {},
     "output_type": "display_data"
    }
   ],
   "source": [
    "head(df)"
   ]
  },
  {
   "cell_type": "markdown",
   "id": "0a48e94f",
   "metadata": {},
   "source": [
    "# Let's observe the relationship of mpg with other variables."
   ]
  },
  {
   "cell_type": "code",
   "execution_count": 40,
   "id": "b6badeb6",
   "metadata": {},
   "outputs": [
    {
     "data": {
      "image/png": "[encoded data removed]",
      "text/plain": [
       "Plot with title \"Scatterplot of mpg vs horsepower\""
      ]
     },
     "metadata": {},
     "output_type": "display_data"
    }
   ],
   "source": [
    "options(repr.plot.width = 10, repr.plot.height = 8)\n",
    "df1 <- df #to avoid warnings\n",
    "attach(df1) #To use variables of this dataset\n",
    "par(mfrow=c(2,2)) #Creating 2 rows and 2 columns\n",
    "plot(x=mpg , y=cylinders, main=\"Scatterplot of mpg vs cylinders\")\n",
    "plot(x=mpg , y=acceleration, main=\"Scatterplot of mpg vs acceleration\")\n",
    "plot(x=mpg , y=displacement, main=\"Scatterplot of mpg vs displacement\")\n",
    "plot(x=mpg , y=horsepower, main=\"Scatterplot of mpg vs horsepower\")"
   ]
  },
  {
   "cell_type": "markdown",
   "id": "4e95961f",
   "metadata": {},
   "source": [
    "Now if we observe the above graph we can see that:\n",
    "* **mpg vs cylinders** has **no correlation** with each other.\n",
    "* **mpg vs acceleration** has a **weak positive correlation**.\n",
    "* **mpg vs displacement** and **mpg vs horsepower** has a **Strong Negative Correlation**."
   ]
  },
  {
   "cell_type": "markdown",
   "id": "3adaed06",
   "metadata": {},
   "source": [
    "# Let's observe the Relationship of horsepower against other variables"
   ]
  },
  {
   "cell_type": "code",
   "execution_count": 41,
   "id": "2ca4b54e",
   "metadata": {},
   "outputs": [
    {
     "data": {
      "image/png": "[encoded data removed]",
      "text/plain": [
       "Plot with title \"Scatterplot of horsepower vs displacement\""
      ]
     },
     "metadata": {},
     "output_type": "display_data"
    }
   ],
   "source": [
    "options(repr.plot.width = 10, repr.plot.height = 8)\n",
    "detach(df1)  #To avoid the warnings occurring because of the masked objects\n",
    "df2 <- df #to avoid warnings\n",
    "attach(df2) #To use variables of this dataset\n",
    "par(mfrow=c(2,2)) #Creating 2 rows and 2 columns\n",
    "plot(x=horsepower , y=cylinders, main=\"Scatterplot of horsepower vs cylinders\")\n",
    "plot(x=horsepower , y=acceleration, main=\"Scatterplot of horsepower vs acceleration\")\n",
    "plot(x=horsepower , y=weight, main=\"Scatterplot of horsepower vs weight\")\n",
    "plot(x=horsepower , y=displacement, main=\"Scatterplot of horsepower vs displacement\")"
   ]
  },
  {
   "cell_type": "markdown",
   "id": "675aeb49",
   "metadata": {},
   "source": [
    "Now if we observe the above graph we can see that:\n",
    "* **Horsepower vs cylinders** has **no correlation** with each other.\n",
    "* **Horsepower vs acceleration** has a **Low Negative correlation**.\n",
    "* **Horsepower vs weight** has a **Strong Positive Correlation**.\n",
    "* **Horsepower vs displacement** has a **Positive Corelation** "
   ]
  },
  {
   "cell_type": "markdown",
   "id": "895db73b",
   "metadata": {},
   "source": [
    "# Let's plot cylinders to find out number of cylinders present in cars\n",
    "\n",
    "### This will tell Number of cylinders present in most of the cars"
   ]
  },
  {
   "cell_type": "code",
   "execution_count": 47,
   "id": "ad17bb34",
   "metadata": {},
   "outputs": [],
   "source": [
    "# Calling tidyverse library and suppressing warings coz we are using jupyter notebook\n",
    "\n",
    "suppressWarnings({library(tidyverse)})"
   ]
  },
  {
   "cell_type": "code",
   "execution_count": 43,
   "id": "f38c8cce",
   "metadata": {},
   "outputs": [
    {
     "data": {
      "image/png": "[encoded data removed]",
      "text/plain": [
       "plot without title"
      ]
     },
     "metadata": {},
     "output_type": "display_data"
    }
   ],
   "source": [
    "options(repr.plot.width = 10, repr.plot.height = 4) # Setting R environment for Plot height, width and resolution\n",
    "p1 <- ggplot(df, aes(x = cylinders)) +\n",
    "      geom_bar(fill=\"steelblue\", width = 0.50) +\n",
    "      labs(x=\"Cylinders\",y=\"Number of cars\")\n",
    "\n",
    "p1"
   ]
  },
  {
   "cell_type": "markdown",
   "id": "0be3eacd",
   "metadata": {},
   "source": [
    "# Let's plot cylinders and Horsepower to see if there's any intresting relationship"
   ]
  },
  {
   "cell_type": "code",
   "execution_count": 44,
   "id": "3865fba1",
   "metadata": {},
   "outputs": [
    {
     "data": {
      "image/png": "[encoded data removed]",
      "text/plain": [
       "plot without title"
      ]
     },
     "metadata": {},
     "output_type": "display_data"
    }
   ],
   "source": [
    "options(repr.plot.width = 10, repr.plot.height = 4)\n",
    "ggplot(df1,aes(x=cylinders,y=horsepower, group=cylinders))+\n",
    "labs(x=\"Cylinders\",y=\"Horsepower\") +\n",
    "geom_point(aes(color=cylinders)) +\n",
    "theme_minimal()"
   ]
  },
  {
   "cell_type": "markdown",
   "id": "6167c00b",
   "metadata": {},
   "source": [
    "### Now if we closely observe the above graph, we can notice that the more the number of cylinders present in the car, the more horsepower the car can generate. We can say horsepower is somewhat dependent on the number of cylinders present in the car."
   ]
  },
  {
   "cell_type": "markdown",
   "id": "214a019c",
   "metadata": {},
   "source": [
    "# Question 6. Suppose that we wish to predict gas mileage (mpg) on the basis of the other variables. Do your plots suggest that any of the other variables might be useful in predicting mpg? Justify your answer."
   ]
  },
  {
   "cell_type": "code",
   "execution_count": 45,
   "id": "677c1758",
   "metadata": {},
   "outputs": [
    {
     "name": "stderr",
     "output_type": "stream",
     "text": [
      "The following object is masked from package:ggplot2:\n",
      "\n",
      "    mpg\n",
      "\n"
     ]
    },
    {
     "data": {
      "image/png": "[encoded data removed]",
      "text/plain": [
       "Plot with title \"Scatterplot of mpg vs origin\""
      ]
     },
     "metadata": {},
     "output_type": "display_data"
    }
   ],
   "source": [
    "options(repr.plot.width = 10, repr.plot.height = 8)\n",
    "df3 <- df #to avoid warnings\n",
    "#detach(df1)\n",
    "detach(df2)\n",
    "attach(df3) #To use variables of this dataset\n",
    "par(mfrow=c(3,3)) #Creating 2 rows and 2 columns\n",
    "plot(x=mpg , y=cylinders, main=\"Scatterplot of mpg vs cylinders\")\n",
    "plot(x=mpg , y=acceleration, main=\"Scatterplot of mpg vs acceleration\")\n",
    "plot(x=mpg , y=displacement, main=\"Scatterplot of mpg vs displacement\")\n",
    "plot(x=mpg , y=horsepower, main=\"Scatterplot of mpg vs horsepower\")\n",
    "plot(x=mpg , y=weight, main=\"Scatterplot of mpg vs weight\")\n",
    "plot(x=mpg , y=year, main=\"Scatterplot of mpg vs origin\")"
   ]
  },
  {
   "cell_type": "markdown",
   "id": "f47bcbd8",
   "metadata": {},
   "source": [
    "# So on the basis of above Scatter Plots, we can make few observations \n",
    "### <i>mpg(Gas mileage)</i> has <i>Strong Negative Correlation</i> with <i>Displacement, Horsepower and Weight</i> which basically means <i>mpg</i> tends to move in oppossite direction based on the values of <i>Displacement, Horsepower and Weight</i>.\n",
    "\n",
    "### Hence, we can use these variables <i>Displacement, Horsepower and Weight</i> to predict the values of <i>mpg</i>.\n",
    "\n",
    "### <i>mpg</i> also has low positive correlation with acceleration which might not be so useful in predicting the values of <i>mpg</i>."
   ]
  },
  {
   "cell_type": "markdown",
   "id": "f7629962",
   "metadata": {},
   "source": [
    "# **We can also test our above assumptions using a correlation function and directly calculating a value for it.**"
   ]
  },
  {
   "cell_type": "code",
   "execution_count": 46,
   "id": "2a725d76",
   "metadata": {},
   "outputs": [
    {
     "data": {
      "text/html": [
       "<table>\n",
       "<thead><tr><th></th><th scope=col>mpg</th><th scope=col>cylinders</th><th scope=col>displacement</th><th scope=col>horsepower</th><th scope=col>weight</th><th scope=col>acceleration</th><th scope=col>year</th><th scope=col>origin</th></tr></thead>\n",
       "<tbody>\n",
       "\t<tr><th scope=row>mpg</th><td> 1.0000000</td><td>-0.7762599</td><td>-0.8044430</td><td>-0.7714414</td><td>-0.8317389</td><td> 0.4222974</td><td> 0.5814695</td><td> 0.5636979</td></tr>\n",
       "\t<tr><th scope=row>cylinders</th><td>-0.7762599</td><td> 1.0000000</td><td> 0.9509199</td><td> 0.8397152</td><td> 0.8970169</td><td>-0.5040606</td><td>-0.3467172</td><td>-0.5649716</td></tr>\n",
       "\t<tr><th scope=row>displacement</th><td>-0.8044430</td><td> 0.9509199</td><td> 1.0000000</td><td> 0.8938331</td><td> 0.9331044</td><td>-0.5441618</td><td>-0.3698041</td><td>-0.6106643</td></tr>\n",
       "\t<tr><th scope=row>horsepower</th><td>-0.7714414</td><td> 0.8397152</td><td> 0.8938331</td><td> 1.0000000</td><td> 0.8605806</td><td>-0.6870393</td><td>-0.4130218</td><td>-0.4539618</td></tr>\n",
       "\t<tr><th scope=row>weight</th><td>-0.8317389</td><td> 0.8970169</td><td> 0.9331044</td><td> 0.8605806</td><td> 1.0000000</td><td>-0.4195023</td><td>-0.3079004</td><td>-0.5812652</td></tr>\n",
       "\t<tr><th scope=row>acceleration</th><td> 0.4222974</td><td>-0.5040606</td><td>-0.5441618</td><td>-0.6870393</td><td>-0.4195023</td><td> 1.0000000</td><td> 0.2829009</td><td> 0.2100836</td></tr>\n",
       "\t<tr><th scope=row>year</th><td> 0.5814695</td><td>-0.3467172</td><td>-0.3698041</td><td>-0.4130218</td><td>-0.3079004</td><td> 0.2829009</td><td> 1.0000000</td><td> 0.1843141</td></tr>\n",
       "\t<tr><th scope=row>origin</th><td> 0.5636979</td><td>-0.5649716</td><td>-0.6106643</td><td>-0.4539618</td><td>-0.5812652</td><td> 0.2100836</td><td> 0.1843141</td><td> 1.0000000</td></tr>\n",
       "</tbody>\n",
       "</table>\n"
      ],
      "text/latex": [
       "\\begin{tabular}{r|llllllll}\n",
       "  & mpg & cylinders & displacement & horsepower & weight & acceleration & year & origin\\\\\n",
       "\\hline\n",
       "\tmpg &  1.0000000 & -0.7762599 & -0.8044430 & -0.7714414 & -0.8317389 &  0.4222974 &  0.5814695 &  0.5636979\\\\\n",
       "\tcylinders & -0.7762599 &  1.0000000 &  0.9509199 &  0.8397152 &  0.8970169 & -0.5040606 & -0.3467172 & -0.5649716\\\\\n",
       "\tdisplacement & -0.8044430 &  0.9509199 &  1.0000000 &  0.8938331 &  0.9331044 & -0.5441618 & -0.3698041 & -0.6106643\\\\\n",
       "\thorsepower & -0.7714414 &  0.8397152 &  0.8938331 &  1.0000000 &  0.8605806 & -0.6870393 & -0.4130218 & -0.4539618\\\\\n",
       "\tweight & -0.8317389 &  0.8970169 &  0.9331044 &  0.8605806 &  1.0000000 & -0.4195023 & -0.3079004 & -0.5812652\\\\\n",
       "\tacceleration &  0.4222974 & -0.5040606 & -0.5441618 & -0.6870393 & -0.4195023 &  1.0000000 &  0.2829009 &  0.2100836\\\\\n",
       "\tyear &  0.5814695 & -0.3467172 & -0.3698041 & -0.4130218 & -0.3079004 &  0.2829009 &  1.0000000 &  0.1843141\\\\\n",
       "\torigin &  0.5636979 & -0.5649716 & -0.6106643 & -0.4539618 & -0.5812652 &  0.2100836 &  0.1843141 &  1.0000000\\\\\n",
       "\\end{tabular}\n"
      ],
      "text/markdown": [
       "\n",
       "| <!--/--> | mpg | cylinders | displacement | horsepower | weight | acceleration | year | origin |\n",
       "|---|---|---|---|---|---|---|---|---|\n",
       "| mpg |  1.0000000 | -0.7762599 | -0.8044430 | -0.7714414 | -0.8317389 |  0.4222974 |  0.5814695 |  0.5636979 |\n",
       "| cylinders | -0.7762599 |  1.0000000 |  0.9509199 |  0.8397152 |  0.8970169 | -0.5040606 | -0.3467172 | -0.5649716 |\n",
       "| displacement | -0.8044430 |  0.9509199 |  1.0000000 |  0.8938331 |  0.9331044 | -0.5441618 | -0.3698041 | -0.6106643 |\n",
       "| horsepower | -0.7714414 |  0.8397152 |  0.8938331 |  1.0000000 |  0.8605806 | -0.6870393 | -0.4130218 | -0.4539618 |\n",
       "| weight | -0.8317389 |  0.8970169 |  0.9331044 |  0.8605806 |  1.0000000 | -0.4195023 | -0.3079004 | -0.5812652 |\n",
       "| acceleration |  0.4222974 | -0.5040606 | -0.5441618 | -0.6870393 | -0.4195023 |  1.0000000 |  0.2829009 |  0.2100836 |\n",
       "| year |  0.5814695 | -0.3467172 | -0.3698041 | -0.4130218 | -0.3079004 |  0.2829009 |  1.0000000 |  0.1843141 |\n",
       "| origin |  0.5636979 | -0.5649716 | -0.6106643 | -0.4539618 | -0.5812652 |  0.2100836 |  0.1843141 |  1.0000000 |\n",
       "\n"
      ],
      "text/plain": [
       "             mpg        cylinders  displacement horsepower weight    \n",
       "mpg           1.0000000 -0.7762599 -0.8044430   -0.7714414 -0.8317389\n",
       "cylinders    -0.7762599  1.0000000  0.9509199    0.8397152  0.8970169\n",
       "displacement -0.8044430  0.9509199  1.0000000    0.8938331  0.9331044\n",
       "horsepower   -0.7714414  0.8397152  0.8938331    1.0000000  0.8605806\n",
       "weight       -0.8317389  0.8970169  0.9331044    0.8605806  1.0000000\n",
       "acceleration  0.4222974 -0.5040606 -0.5441618   -0.6870393 -0.4195023\n",
       "year          0.5814695 -0.3467172 -0.3698041   -0.4130218 -0.3079004\n",
       "origin        0.5636979 -0.5649716 -0.6106643   -0.4539618 -0.5812652\n",
       "             acceleration year       origin    \n",
       "mpg           0.4222974    0.5814695  0.5636979\n",
       "cylinders    -0.5040606   -0.3467172 -0.5649716\n",
       "displacement -0.5441618   -0.3698041 -0.6106643\n",
       "horsepower   -0.6870393   -0.4130218 -0.4539618\n",
       "weight       -0.4195023   -0.3079004 -0.5812652\n",
       "acceleration  1.0000000    0.2829009  0.2100836\n",
       "year          0.2829009    1.0000000  0.1843141\n",
       "origin        0.2100836    0.1843141  1.0000000"
      ]
     },
     "metadata": {},
     "output_type": "display_data"
    }
   ],
   "source": [
    "cor(df[2:9])"
   ]
  },
  {
   "cell_type": "markdown",
   "id": "bffc40bd",
   "metadata": {},
   "source": [
    "# After observing the values closely, we can make few assumptions.\n",
    "\n",
    "### 1. mpg is slightly correlated with acceleration. We choose to ignore relation with year and origin as we are more focussed on the features which will actually play a role in Car/Auto performance. <i>mpg</i> has Strong Negative Correlation with <i>displacement, horsepower, weight</i>.\n",
    "\n",
    "### The values of mpg against displacement, mpg against horsepower and mpg against weight are -0.804430, -0.7714414 and -0.8317389 which itself explains the Strong Negative Correlation which we are observing in the plots. Hence, we can use these variables to predict MPG."
   ]
  },
  {
   "cell_type": "code",
   "execution_count": null,
   "id": "e6971e79",
   "metadata": {},
   "outputs": [],
   "source": []
  }
 ],
 "metadata": {
  "kernelspec": {
   "display_name": "R",
   "language": "R",
   "name": "ir"
  },
  "language_info": {
   "codemirror_mode": "r",
   "file_extension": ".r",
   "mimetype": "text/x-r-source",
   "name": "R",
   "pygments_lexer": "r",
   "version": "3.6.1"
  }
 },
 "nbformat": 4,
 "nbformat_minor": 5
}
