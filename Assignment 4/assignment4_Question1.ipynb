{
 "cells": [
  {
   "cell_type": "markdown",
   "id": "a4e6c05a",
   "metadata": {},
   "source": [
    "# <center>ESTIMATING TEST ERRORS OF A LOGISTIC REGRESSION MODEL USING VALIDATION TEST APPROACH</center>"
   ]
  },
  {
   "cell_type": "markdown",
   "id": "e6ae2443",
   "metadata": {},
   "source": [
    "<h2> 5. In Chapter 4, we used logistic regression to predict the probability of default using income and balance on the Default data set. We will now estimate the test error of this logistic regression model using the validation set approach. Do not forget to set a random seed before beginning your analysis.</h2>\n",
    "\n",
    "<h3>(a) Fit a logistic regression model that uses income and balance to predict default.</h3>\n",
    "\n",
    "<h3>(b) Using the validation set approach, estimate the test error of this model. In order to do this, you must perform the following steps:</h3>\n",
    "    <li>(i.) Split the sample set into a training set and a validation set.</li>\n",
    "    <li>(ii.) Fit a multiple logistic regression model using only the training observations.</li>\n",
    "    <li>(iii.) Obtain a prediction of default status for each individual in the validation set by computing the posterior probability of default for that individual, and classifying the individual to the default category if the posterior probability is greater than 0.5.</li>\n",
    "    <li>(iv.) Compute the validation set error, which is the fraction of the observations in the validation set that are misclassified.</li>\n",
    "    \n",
    "<h3>(c) Repeat the process in (b) three times, using three different splits of the observations into a training set and a validation set. Comment on the results obtained.</h3>\n",
    "\n",
    "<h3>(d) Now consider a logistic regression model that predicts the probability of default using income, balance, and a dummy variable for student. Estimate the test error for this model using the validation set approach. Comment on whether or not including a dummy variable for student leads to a reduction in the test error rate.</h3>"
   ]
  },
  {
   "cell_type": "markdown",
   "id": "e710f31f",
   "metadata": {},
   "source": [
    "# --------------------------------------------------------------------------------------------------------\n",
    "### Default Dataset - The dataset consists of 10000 individuals and whether their credit card has defaulted or not. The main aim is to build the model using Logistic Regression and predict the accuracy of it . \n",
    "#### There are 4 attributes in the Dataset:\n",
    "* 1. Default : Yes or No (Whether defaulted or Not).\n",
    "* 2. Student : Yes or No (Whether Student or not).\n",
    "* 3. Balance : Total Balance for given credit card holder.\n",
    "* 4. Income : Gross Annual Income of credit card holder."
   ]
  },
  {
   "cell_type": "markdown",
   "id": "9b000e36",
   "metadata": {},
   "source": [
    "### 1. Importing necessary libraries"
   ]
  },
  {
   "cell_type": "code",
   "execution_count": 1,
   "id": "8f466e7b",
   "metadata": {},
   "outputs": [],
   "source": [
    "import pandas as pd\n",
    "import numpy as np\n",
    "import matplotlib.pyplot as plt\n",
    "import seaborn as sns"
   ]
  },
  {
   "cell_type": "markdown",
   "id": "bff023a2",
   "metadata": {},
   "source": [
    "### 2. Loading the Data"
   ]
  },
  {
   "cell_type": "code",
   "execution_count": 2,
   "id": "2d7f5ffb",
   "metadata": {},
   "outputs": [],
   "source": [
    "credData = pd.read_csv('Default.csv')"
   ]
  },
  {
   "cell_type": "code",
   "execution_count": 3,
   "id": "7458c09f",
   "metadata": {},
   "outputs": [
    {
     "data": {
      "text/html": [
       "<div>\n",
       "<style scoped>\n",
       "    .dataframe tbody tr th:only-of-type {\n",
       "        vertical-align: middle;\n",
       "    }\n",
       "\n",
       "    .dataframe tbody tr th {\n",
       "        vertical-align: top;\n",
       "    }\n",
       "\n",
       "    .dataframe thead th {\n",
       "        text-align: right;\n",
       "    }\n",
       "</style>\n",
       "<table border=\"1\" class=\"dataframe\">\n",
       "  <thead>\n",
       "    <tr style=\"text-align: right;\">\n",
       "      <th></th>\n",
       "      <th>default</th>\n",
       "      <th>student</th>\n",
       "      <th>balance</th>\n",
       "      <th>income</th>\n",
       "    </tr>\n",
       "  </thead>\n",
       "  <tbody>\n",
       "    <tr>\n",
       "      <th>0</th>\n",
       "      <td>No</td>\n",
       "      <td>No</td>\n",
       "      <td>729.526495</td>\n",
       "      <td>44361.625074</td>\n",
       "    </tr>\n",
       "    <tr>\n",
       "      <th>1</th>\n",
       "      <td>No</td>\n",
       "      <td>Yes</td>\n",
       "      <td>817.180407</td>\n",
       "      <td>12106.134700</td>\n",
       "    </tr>\n",
       "    <tr>\n",
       "      <th>2</th>\n",
       "      <td>No</td>\n",
       "      <td>No</td>\n",
       "      <td>1073.549164</td>\n",
       "      <td>31767.138947</td>\n",
       "    </tr>\n",
       "    <tr>\n",
       "      <th>3</th>\n",
       "      <td>No</td>\n",
       "      <td>No</td>\n",
       "      <td>529.250605</td>\n",
       "      <td>35704.493935</td>\n",
       "    </tr>\n",
       "    <tr>\n",
       "      <th>4</th>\n",
       "      <td>No</td>\n",
       "      <td>No</td>\n",
       "      <td>785.655883</td>\n",
       "      <td>38463.495879</td>\n",
       "    </tr>\n",
       "  </tbody>\n",
       "</table>\n",
       "</div>"
      ],
      "text/plain": [
       "  default student      balance        income\n",
       "0      No      No   729.526495  44361.625074\n",
       "1      No     Yes   817.180407  12106.134700\n",
       "2      No      No  1073.549164  31767.138947\n",
       "3      No      No   529.250605  35704.493935\n",
       "4      No      No   785.655883  38463.495879"
      ]
     },
     "execution_count": 3,
     "metadata": {},
     "output_type": "execute_result"
    }
   ],
   "source": [
    "credData.head()"
   ]
  },
  {
   "cell_type": "markdown",
   "id": "013c7e44",
   "metadata": {},
   "source": [
    "### 3. Shape of the Data\n",
    "__Shape of the data helps us understand the number of rows and number of columns present in out dataset.__"
   ]
  },
  {
   "cell_type": "code",
   "execution_count": 4,
   "id": "65208b0c",
   "metadata": {},
   "outputs": [
    {
     "data": {
      "text/plain": [
       "(10000, 4)"
      ]
     },
     "execution_count": 4,
     "metadata": {},
     "output_type": "execute_result"
    }
   ],
   "source": [
    "credData.shape"
   ]
  },
  {
   "cell_type": "markdown",
   "id": "c9b47d61",
   "metadata": {},
   "source": [
    "### 4. Handling Missing Values\n",
    "* #### Let's see if our data has any missing values.\n",
    "* #### If it does then we will handle it by replacing it with the appropriate value based on data</bold>"
   ]
  },
  {
   "cell_type": "code",
   "execution_count": 5,
   "id": "543e858f",
   "metadata": {},
   "outputs": [
    {
     "data": {
      "text/plain": [
       "default    0\n",
       "student    0\n",
       "balance    0\n",
       "income     0\n",
       "dtype: int64"
      ]
     },
     "execution_count": 5,
     "metadata": {},
     "output_type": "execute_result"
    }
   ],
   "source": [
    "credData.isnull().sum()"
   ]
  },
  {
   "cell_type": "markdown",
   "id": "219f01d1",
   "metadata": {},
   "source": [
    "#### There are no missing values in the Dataset"
   ]
  },
  {
   "cell_type": "markdown",
   "id": "245c937c",
   "metadata": {},
   "source": [
    "### 5. Descriptive Statistics of our Dataset\n",
    "\n",
    "### 5.1 - Data type of all the variables in the Dataset"
   ]
  },
  {
   "cell_type": "code",
   "execution_count": 6,
   "id": "d223c678",
   "metadata": {},
   "outputs": [
    {
     "name": "stdout",
     "output_type": "stream",
     "text": [
      "<class 'pandas.core.frame.DataFrame'>\n",
      "RangeIndex: 10000 entries, 0 to 9999\n",
      "Data columns (total 4 columns):\n",
      " #   Column   Non-Null Count  Dtype  \n",
      "---  ------   --------------  -----  \n",
      " 0   default  10000 non-null  object \n",
      " 1   student  10000 non-null  object \n",
      " 2   balance  10000 non-null  float64\n",
      " 3   income   10000 non-null  float64\n",
      "dtypes: float64(2), object(2)\n",
      "memory usage: 312.6+ KB\n"
     ]
    }
   ],
   "source": [
    "credData.info()"
   ]
  },
  {
   "cell_type": "markdown",
   "id": "209fab18",
   "metadata": {},
   "source": [
    "__We have Two Qualitative values and Two Quantitative values.__"
   ]
  },
  {
   "cell_type": "markdown",
   "id": "d0fdc6e7",
   "metadata": {},
   "source": [
    "### 5.2 - Describe() \n",
    "* #### This funtion allows us to observe the Count, Mean, Standard Deviation, Minimum value, Maximum Value, Quantile values"
   ]
  },
  {
   "cell_type": "code",
   "execution_count": 7,
   "id": "d386ef1a",
   "metadata": {},
   "outputs": [
    {
     "data": {
      "text/html": [
       "<div>\n",
       "<style scoped>\n",
       "    .dataframe tbody tr th:only-of-type {\n",
       "        vertical-align: middle;\n",
       "    }\n",
       "\n",
       "    .dataframe tbody tr th {\n",
       "        vertical-align: top;\n",
       "    }\n",
       "\n",
       "    .dataframe thead th {\n",
       "        text-align: right;\n",
       "    }\n",
       "</style>\n",
       "<table border=\"1\" class=\"dataframe\">\n",
       "  <thead>\n",
       "    <tr style=\"text-align: right;\">\n",
       "      <th></th>\n",
       "      <th>balance</th>\n",
       "      <th>income</th>\n",
       "    </tr>\n",
       "  </thead>\n",
       "  <tbody>\n",
       "    <tr>\n",
       "      <th>count</th>\n",
       "      <td>10000.000000</td>\n",
       "      <td>10000.000000</td>\n",
       "    </tr>\n",
       "    <tr>\n",
       "      <th>mean</th>\n",
       "      <td>835.374886</td>\n",
       "      <td>33516.981876</td>\n",
       "    </tr>\n",
       "    <tr>\n",
       "      <th>std</th>\n",
       "      <td>483.714985</td>\n",
       "      <td>13336.639563</td>\n",
       "    </tr>\n",
       "    <tr>\n",
       "      <th>min</th>\n",
       "      <td>0.000000</td>\n",
       "      <td>771.967729</td>\n",
       "    </tr>\n",
       "    <tr>\n",
       "      <th>25%</th>\n",
       "      <td>481.731105</td>\n",
       "      <td>21340.462903</td>\n",
       "    </tr>\n",
       "    <tr>\n",
       "      <th>50%</th>\n",
       "      <td>823.636973</td>\n",
       "      <td>34552.644802</td>\n",
       "    </tr>\n",
       "    <tr>\n",
       "      <th>75%</th>\n",
       "      <td>1166.308386</td>\n",
       "      <td>43807.729272</td>\n",
       "    </tr>\n",
       "    <tr>\n",
       "      <th>max</th>\n",
       "      <td>2654.322576</td>\n",
       "      <td>73554.233495</td>\n",
       "    </tr>\n",
       "  </tbody>\n",
       "</table>\n",
       "</div>"
      ],
      "text/plain": [
       "            balance        income\n",
       "count  10000.000000  10000.000000\n",
       "mean     835.374886  33516.981876\n",
       "std      483.714985  13336.639563\n",
       "min        0.000000    771.967729\n",
       "25%      481.731105  21340.462903\n",
       "50%      823.636973  34552.644802\n",
       "75%     1166.308386  43807.729272\n",
       "max     2654.322576  73554.233495"
      ]
     },
     "execution_count": 7,
     "metadata": {},
     "output_type": "execute_result"
    }
   ],
   "source": [
    "credData.describe()"
   ]
  },
  {
   "cell_type": "markdown",
   "id": "5a523920",
   "metadata": {},
   "source": [
    "* #### The mean of Balance is 835.374886 and mean of Income is 33516.981876.\n",
    "* #### Standard Deviation of Balance and Income is 483.714985 and 13336.639563 respectively.\n",
    "* #### Minimum balance is 0 and Minimum income 771.96\n",
    "* #### Maximum balance is 2654.322576 and Maximum income is 73554.233495."
   ]
  },
  {
   "cell_type": "markdown",
   "id": "4555eec9",
   "metadata": {},
   "source": [
    "### 6. Correlation in Dataset"
   ]
  },
  {
   "cell_type": "code",
   "execution_count": 8,
   "id": "4888d58e",
   "metadata": {},
   "outputs": [
    {
     "data": {
      "text/html": [
       "<div>\n",
       "<style scoped>\n",
       "    .dataframe tbody tr th:only-of-type {\n",
       "        vertical-align: middle;\n",
       "    }\n",
       "\n",
       "    .dataframe tbody tr th {\n",
       "        vertical-align: top;\n",
       "    }\n",
       "\n",
       "    .dataframe thead th {\n",
       "        text-align: right;\n",
       "    }\n",
       "</style>\n",
       "<table border=\"1\" class=\"dataframe\">\n",
       "  <thead>\n",
       "    <tr style=\"text-align: right;\">\n",
       "      <th></th>\n",
       "      <th>balance</th>\n",
       "      <th>income</th>\n",
       "    </tr>\n",
       "  </thead>\n",
       "  <tbody>\n",
       "    <tr>\n",
       "      <th>balance</th>\n",
       "      <td>1.000000</td>\n",
       "      <td>-0.152243</td>\n",
       "    </tr>\n",
       "    <tr>\n",
       "      <th>income</th>\n",
       "      <td>-0.152243</td>\n",
       "      <td>1.000000</td>\n",
       "    </tr>\n",
       "  </tbody>\n",
       "</table>\n",
       "</div>"
      ],
      "text/plain": [
       "          balance    income\n",
       "balance  1.000000 -0.152243\n",
       "income  -0.152243  1.000000"
      ]
     },
     "execution_count": 8,
     "metadata": {},
     "output_type": "execute_result"
    }
   ],
   "source": [
    "credData.corr()"
   ]
  },
  {
   "cell_type": "markdown",
   "id": "1bf47716",
   "metadata": {},
   "source": [
    "### 6.1 Heatmap for Correlation values"
   ]
  },
  {
   "cell_type": "code",
   "execution_count": 9,
   "id": "74ce8a7e",
   "metadata": {},
   "outputs": [
    {
     "data": {
      "image/png": "[encoded data removed]",
      "text/plain": [
       "<Figure size 432x288 with 2 Axes>"
      ]
     },
     "metadata": {},
     "output_type": "display_data"
    }
   ],
   "source": [
    "sns.set(rc={'figure.figsize' : (6,4)})\n",
    "sns.heatmap(credData.corr(), cmap=\"YlGnBu\", annot=True)\n",
    "plt.show();"
   ]
  },
  {
   "cell_type": "markdown",
   "id": "6ac8f859",
   "metadata": {},
   "source": [
    "#### We can observe that there isn't much correlation between Balance and Income."
   ]
  },
  {
   "cell_type": "markdown",
   "id": "5341b778",
   "metadata": {},
   "source": [
    "### 6.2 Pairplot to observe Correlation"
   ]
  },
  {
   "cell_type": "code",
   "execution_count": 10,
   "id": "9856ae3f",
   "metadata": {},
   "outputs": [
    {
     "data": {
      "image/png": "[encoded data removed]",
      "text/plain": [
       "<Figure size 417.475x360 with 6 Axes>"
      ]
     },
     "metadata": {},
     "output_type": "display_data"
    }
   ],
   "source": [
    "sns.set(rc={'figure.figsize' : (6,4)})\n",
    "sns.pairplot(credData, hue='default')\n",
    "plt.show();"
   ]
  },
  {
   "cell_type": "markdown",
   "id": "431e1a76",
   "metadata": {},
   "source": [
    "* #### We can see from this pair plot that the Number of Defaulted credit are present when the balance is higher. There is association between balance and Defaulted credit which we can clearly observe in above plot.\n",
    "* #### The defaulted loans are less in number."
   ]
  },
  {
   "cell_type": "markdown",
   "id": "f15aaaa6",
   "metadata": {},
   "source": [
    "### 6.3 Box Plot of `default` vs `Balance` and `Income`"
   ]
  },
  {
   "cell_type": "code",
   "execution_count": 11,
   "id": "0067fd57",
   "metadata": {},
   "outputs": [
    {
     "data": {
      "image/png": "[encoded data removed]",
      "text/plain": [
       "<Figure size 1008x432 with 2 Axes>"
      ]
     },
     "metadata": {},
     "output_type": "display_data"
    }
   ],
   "source": [
    "sns.set(rc={'figure.figsize': (14,6)})\n",
    "fig, axs = plt.subplots(1, 2)\n",
    "plt.subplot(1,2,1)\n",
    "sns.boxplot(data=credData,x=\"default\",y='income')\n",
    "plt.title(\"Default vs Income\")\n",
    "plt.subplot(1,2,2)\n",
    "sns.boxplot(data=credData,x=\"default\",y='balance')\n",
    "plt.title(\"Default vs Balance\")\n",
    "plt.show();"
   ]
  },
  {
   "cell_type": "markdown",
   "id": "d5ca6498",
   "metadata": {},
   "source": [
    "* __Default vs Income :__\n",
    "__We can observe from the box plot that the income of defaulted credits and income of Not defaulted credit is almost in the same range. One intresting thing between Not Defaulted Loans and Defaulted Loans is that the minimum income of Not Defaulted Loan is way less than Defaulted Loan.__\n",
    "\n",
    "* __Default vs Balance :__\n",
    "__We can observe from the box plot that the Balance of defaulted credits is higher as compared to Balance of Not defaulted credit. We can say that Balance and Default are associated with each other__"
   ]
  },
  {
   "cell_type": "markdown",
   "id": "4e3c84df",
   "metadata": {},
   "source": [
    "### 6.4 Scatter Plot of Income vs Balance"
   ]
  },
  {
   "cell_type": "code",
   "execution_count": 12,
   "id": "eb82f40b",
   "metadata": {},
   "outputs": [
    {
     "data": {
      "image/png": "[encoded data removed]",
      "text/plain": [
       "<Figure size 597.475x360 with 1 Axes>"
      ]
     },
     "metadata": {},
     "output_type": "display_data"
    }
   ],
   "source": [
    "sns.lmplot(x='balance', y='income', hue='default',data=credData, aspect=1.5, fit_reg=False)\n",
    "plt.title(\"Income vs Balance\")\n",
    "plt.show();"
   ]
  },
  {
   "cell_type": "markdown",
   "id": "23a7f295",
   "metadata": {},
   "source": [
    "__In this scatter plot, All the Defaulted Credit are mostly on the higher side of the `balance` values and We have No NOT DEFAULTED CREDIT when the value of balance is below is less than 600 where as most of the DEFAULTED CREDIT lies where balance is more than 1500.__"
   ]
  },
  {
   "cell_type": "markdown",
   "id": "277a3a6e",
   "metadata": {},
   "source": [
    "### 7. Observe the Number of Loans defaulted and Not defaulted\n"
   ]
  },
  {
   "cell_type": "code",
   "execution_count": 13,
   "id": "7be40b38",
   "metadata": {},
   "outputs": [
    {
     "data": {
      "text/plain": [
       "default\n",
       "No     9667\n",
       "Yes     333\n",
       "dtype: int64"
      ]
     },
     "execution_count": 13,
     "metadata": {},
     "output_type": "execute_result"
    }
   ],
   "source": [
    "credData.groupby('default').size()"
   ]
  },
  {
   "cell_type": "code",
   "execution_count": 14,
   "id": "5ccfcff4",
   "metadata": {},
   "outputs": [
    {
     "data": {
      "image/png": "[encoded data removed]",
      "text/plain": [
       "<Figure size 1008x432 with 1 Axes>"
      ]
     },
     "metadata": {},
     "output_type": "display_data"
    }
   ],
   "source": [
    "sns.countplot(x='default', data=credData, label='count')\n",
    "plt.title(\"Not Defaulted Credit vs Defaulted Credit\")\n",
    "plt.show();"
   ]
  },
  {
   "cell_type": "markdown",
   "id": "18f0e1c1",
   "metadata": {},
   "source": [
    "* We can see that the Number of loan defaulted is less as compared to loan Not Defaulted.\n",
    "* This is a fair figure as usually in any Financial Institution the number of Loan defaulted is usually less but the __amount__ involved in those loan can be humongous.\n",
    "* Number of Loan Defaulted = 333\n",
    "* Number of Loan Not Defaulted = 9667"
   ]
  },
  {
   "cell_type": "markdown",
   "id": "204a4bf8",
   "metadata": {},
   "source": [
    "### 8. Logistic Regression Model using Validation Set Approach"
   ]
  },
  {
   "cell_type": "code",
   "execution_count": 15,
   "id": "310e8174",
   "metadata": {},
   "outputs": [
    {
     "data": {
      "text/plain": [
       "Index(['default', 'student', 'balance', 'income'], dtype='object')"
      ]
     },
     "execution_count": 15,
     "metadata": {},
     "output_type": "execute_result"
    }
   ],
   "source": [
    "credData.columns"
   ]
  },
  {
   "cell_type": "markdown",
   "id": "77476e3f",
   "metadata": {},
   "source": [
    "### 8.1 One Hot Encoding our Target Variable"
   ]
  },
  {
   "cell_type": "code",
   "execution_count": 16,
   "id": "cadf6e15",
   "metadata": {},
   "outputs": [],
   "source": [
    "from sklearn import preprocessing\n",
    "defaultEncoding = preprocessing.LabelEncoder()\n",
    "credData['default_encoded'] = defaultEncoding.fit_transform(credData['default']).astype(int)"
   ]
  },
  {
   "cell_type": "markdown",
   "id": "256606c7",
   "metadata": {},
   "source": [
    "* 0 = Loan Not Defaulted\n",
    "* 1 = Loan Defaulted\n",
    "* One Hot Encoding helps us to convert Categorical Value into Numerical Value."
   ]
  },
  {
   "cell_type": "markdown",
   "id": "03c01d61",
   "metadata": {},
   "source": [
    "### 8.2 Dropping `default` column from our data frame defaultData as we have encoded this column and stored into a new variable called `default_encoded`.\n",
    "* We will also drop __student__ column because we don't need it in this model."
   ]
  },
  {
   "cell_type": "code",
   "execution_count": 17,
   "id": "5dbc2226",
   "metadata": {},
   "outputs": [
    {
     "data": {
      "text/html": [
       "<div>\n",
       "<style scoped>\n",
       "    .dataframe tbody tr th:only-of-type {\n",
       "        vertical-align: middle;\n",
       "    }\n",
       "\n",
       "    .dataframe tbody tr th {\n",
       "        vertical-align: top;\n",
       "    }\n",
       "\n",
       "    .dataframe thead th {\n",
       "        text-align: right;\n",
       "    }\n",
       "</style>\n",
       "<table border=\"1\" class=\"dataframe\">\n",
       "  <thead>\n",
       "    <tr style=\"text-align: right;\">\n",
       "      <th></th>\n",
       "      <th>default</th>\n",
       "      <th>student</th>\n",
       "      <th>balance</th>\n",
       "      <th>income</th>\n",
       "      <th>default_encoded</th>\n",
       "    </tr>\n",
       "  </thead>\n",
       "  <tbody>\n",
       "    <tr>\n",
       "      <th>0</th>\n",
       "      <td>No</td>\n",
       "      <td>No</td>\n",
       "      <td>729.526495</td>\n",
       "      <td>44361.625074</td>\n",
       "      <td>0</td>\n",
       "    </tr>\n",
       "    <tr>\n",
       "      <th>1</th>\n",
       "      <td>No</td>\n",
       "      <td>Yes</td>\n",
       "      <td>817.180407</td>\n",
       "      <td>12106.134700</td>\n",
       "      <td>0</td>\n",
       "    </tr>\n",
       "    <tr>\n",
       "      <th>2</th>\n",
       "      <td>No</td>\n",
       "      <td>No</td>\n",
       "      <td>1073.549164</td>\n",
       "      <td>31767.138947</td>\n",
       "      <td>0</td>\n",
       "    </tr>\n",
       "    <tr>\n",
       "      <th>3</th>\n",
       "      <td>No</td>\n",
       "      <td>No</td>\n",
       "      <td>529.250605</td>\n",
       "      <td>35704.493935</td>\n",
       "      <td>0</td>\n",
       "    </tr>\n",
       "    <tr>\n",
       "      <th>4</th>\n",
       "      <td>No</td>\n",
       "      <td>No</td>\n",
       "      <td>785.655883</td>\n",
       "      <td>38463.495879</td>\n",
       "      <td>0</td>\n",
       "    </tr>\n",
       "  </tbody>\n",
       "</table>\n",
       "</div>"
      ],
      "text/plain": [
       "  default student      balance        income  default_encoded\n",
       "0      No      No   729.526495  44361.625074                0\n",
       "1      No     Yes   817.180407  12106.134700                0\n",
       "2      No      No  1073.549164  31767.138947                0\n",
       "3      No      No   529.250605  35704.493935                0\n",
       "4      No      No   785.655883  38463.495879                0"
      ]
     },
     "execution_count": 17,
     "metadata": {},
     "output_type": "execute_result"
    }
   ],
   "source": [
    "credData.head()"
   ]
  },
  {
   "cell_type": "code",
   "execution_count": 18,
   "id": "588dd999",
   "metadata": {},
   "outputs": [
    {
     "data": {
      "text/html": [
       "<div>\n",
       "<style scoped>\n",
       "    .dataframe tbody tr th:only-of-type {\n",
       "        vertical-align: middle;\n",
       "    }\n",
       "\n",
       "    .dataframe tbody tr th {\n",
       "        vertical-align: top;\n",
       "    }\n",
       "\n",
       "    .dataframe thead th {\n",
       "        text-align: right;\n",
       "    }\n",
       "</style>\n",
       "<table border=\"1\" class=\"dataframe\">\n",
       "  <thead>\n",
       "    <tr style=\"text-align: right;\">\n",
       "      <th></th>\n",
       "      <th>balance</th>\n",
       "      <th>income</th>\n",
       "      <th>default_encoded</th>\n",
       "    </tr>\n",
       "  </thead>\n",
       "  <tbody>\n",
       "    <tr>\n",
       "      <th>0</th>\n",
       "      <td>729.526495</td>\n",
       "      <td>44361.625074</td>\n",
       "      <td>0</td>\n",
       "    </tr>\n",
       "    <tr>\n",
       "      <th>1</th>\n",
       "      <td>817.180407</td>\n",
       "      <td>12106.134700</td>\n",
       "      <td>0</td>\n",
       "    </tr>\n",
       "    <tr>\n",
       "      <th>2</th>\n",
       "      <td>1073.549164</td>\n",
       "      <td>31767.138947</td>\n",
       "      <td>0</td>\n",
       "    </tr>\n",
       "    <tr>\n",
       "      <th>3</th>\n",
       "      <td>529.250605</td>\n",
       "      <td>35704.493935</td>\n",
       "      <td>0</td>\n",
       "    </tr>\n",
       "    <tr>\n",
       "      <th>4</th>\n",
       "      <td>785.655883</td>\n",
       "      <td>38463.495879</td>\n",
       "      <td>0</td>\n",
       "    </tr>\n",
       "  </tbody>\n",
       "</table>\n",
       "</div>"
      ],
      "text/plain": [
       "       balance        income  default_encoded\n",
       "0   729.526495  44361.625074                0\n",
       "1   817.180407  12106.134700                0\n",
       "2  1073.549164  31767.138947                0\n",
       "3   529.250605  35704.493935                0\n",
       "4   785.655883  38463.495879                0"
      ]
     },
     "execution_count": 18,
     "metadata": {},
     "output_type": "execute_result"
    }
   ],
   "source": [
    "credData = credData.drop(['default','student'], axis=1)\n",
    "credData.head()"
   ]
  },
  {
   "cell_type": "markdown",
   "id": "79f41844",
   "metadata": {},
   "source": [
    "### 8.3 Split the data into Training Set and Test Set"
   ]
  },
  {
   "cell_type": "code",
   "execution_count": 19,
   "id": "49967861",
   "metadata": {},
   "outputs": [],
   "source": [
    "from sklearn.model_selection import train_test_split\n",
    "train,test = train_test_split(credData,test_size=0.2, random_state=4)"
   ]
  },
  {
   "cell_type": "code",
   "execution_count": 20,
   "id": "d1a2d1f1",
   "metadata": {},
   "outputs": [
    {
     "name": "stdout",
     "output_type": "stream",
     "text": [
      "Train Set :  (8000, 3)\n",
      "Test Set :  (2000, 3)\n"
     ]
    }
   ],
   "source": [
    "print(\"Train Set : \", train.shape)\n",
    "print(\"Test Set : \", test.shape)"
   ]
  },
  {
   "cell_type": "markdown",
   "id": "50e443f4",
   "metadata": {},
   "source": [
    "### 8.4 Fitting the Logistic Regression Model"
   ]
  },
  {
   "cell_type": "markdown",
   "id": "5ce1580c",
   "metadata": {},
   "source": [
    "#### 8.4.1 Logistic Regression using Validation Set Approach"
   ]
  },
  {
   "cell_type": "code",
   "execution_count": 21,
   "id": "733c5571",
   "metadata": {},
   "outputs": [],
   "source": [
    "from statsmodels.formula.api import logit"
   ]
  },
  {
   "cell_type": "code",
   "execution_count": 22,
   "id": "78ec4a56",
   "metadata": {},
   "outputs": [
    {
     "name": "stdout",
     "output_type": "stream",
     "text": [
      "Optimization terminated successfully.\n",
      "         Current function value: 0.079330\n",
      "         Iterations 10\n"
     ]
    }
   ],
   "source": [
    "cred_Model = logit(\"default_encoded ~ balance + income\", train).fit()"
   ]
  },
  {
   "cell_type": "code",
   "execution_count": 23,
   "id": "8044e134",
   "metadata": {},
   "outputs": [],
   "source": [
    "test_pred = cred_Model.predict(test)"
   ]
  },
  {
   "cell_type": "markdown",
   "id": "57fe3a6e",
   "metadata": {},
   "source": [
    "#### 8.4.2.1  Converting probability to labels and Cut off = 0.5"
   ]
  },
  {
   "cell_type": "code",
   "execution_count": 25,
   "id": "61695d3c",
   "metadata": {},
   "outputs": [],
   "source": [
    "def convert_prob_to_label(prob, cutoff = 0.5):\n",
    "    label = None\n",
    "    if prob > cutoff:\n",
    "        label = 1\n",
    "    else:\n",
    "        label = 0\n",
    "    return label"
   ]
  },
  {
   "cell_type": "code",
   "execution_count": 26,
   "id": "342d7696",
   "metadata": {},
   "outputs": [],
   "source": [
    "pred_labels = list(map(convert_prob_to_label, test_pred))\n",
    "pred_labels = np.asarray(pred_labels)"
   ]
  },
  {
   "cell_type": "markdown",
   "id": "62b82035",
   "metadata": {},
   "source": [
    "### 8.4.3 Let's compute our Confusion Matrix, this will help us understand our model better and we can calculate misclassification rate based on it.\n",
    "#### 8.4.3.1 Confusion Matrix : Confusion matrix tells more about the accuracy of our model and has 4 very important metric count.\n",
    "* True negatives in the upper-left position.\n",
    "* False negatives in the lower-left position.\n",
    "* False positives in the upper-right position.\n",
    "* True positives in the lower-right position."
   ]
  },
  {
   "cell_type": "code",
   "execution_count": 27,
   "id": "6014c6bc",
   "metadata": {},
   "outputs": [
    {
     "name": "stdout",
     "output_type": "stream",
     "text": [
      "[[1924    7]\n",
      " [  42   27]]\n",
      "True Negative : 1924\n",
      "True Positive : 27\n",
      "False Positive : 7\n",
      "False Negative : 42\n"
     ]
    }
   ],
   "source": [
    "from sklearn.metrics import confusion_matrix\n",
    "conf_matrix = confusion_matrix(test.default_encoded, pred_labels)\n",
    "print(conf_matrix)\n",
    "print(\"True Negative :\",conf_matrix[0,0])\n",
    "print(\"True Positive :\",conf_matrix[1,1])\n",
    "print(\"False Positive :\",conf_matrix[0,1])\n",
    "print(\"False Negative :\",conf_matrix[1,0])"
   ]
  },
  {
   "cell_type": "markdown",
   "id": "62e442ea",
   "metadata": {},
   "source": [
    "#### 8.4.3.2 Heatmap of Confusion Matrix"
   ]
  },
  {
   "cell_type": "code",
   "execution_count": 28,
   "id": "f6be7f34",
   "metadata": {},
   "outputs": [
    {
     "data": {
      "image/png": "[encoded data removed]",
      "text/plain": [
       "<Figure size 432x288 with 2 Axes>"
      ]
     },
     "metadata": {},
     "output_type": "display_data"
    }
   ],
   "source": [
    "sns.set(rc={'figure.figsize' : (6,4)})\n",
    "sns.heatmap(conf_matrix, annot=True)\n",
    "plt.title(\"Heatmap for Confusion Matrix\")\n",
    "plt.show();"
   ]
  },
  {
   "cell_type": "markdown",
   "id": "16ae3828",
   "metadata": {},
   "source": [
    "* True Negative value of 1924 suggests that around 1924 times real value said the __CREDIT was NOT DEFAULTED__ and value predicted by model also said __CREDIT was NOT DEFAULTED__.\n",
    "* True Positive value of 27 says that around 27 times real value said __CREDIT is DEFAULTED__ and value predicted by model also said __CREDIT is DEFAULTED__.\n",
    "* False positive value of 7 means when model predicted the __CREDIT is DEFAULTED__ but in real the __CREDIT was NOT DEFAULTED__.\n",
    "* False negative value of 42 means when model predicted __CREDIT is NOT DEFAULTED__ but in real __CREDIT was DEFAULTED__."
   ]
  },
  {
   "cell_type": "markdown",
   "id": "a5d4839c",
   "metadata": {},
   "source": [
    "#### 8.4.3.3 Heatmap of percentage of Data present in Each Quadrant"
   ]
  },
  {
   "cell_type": "code",
   "execution_count": 29,
   "id": "de1212a2",
   "metadata": {},
   "outputs": [
    {
     "data": {
      "image/png": "[encoded data removed]",
      "text/plain": [
       "<Figure size 432x288 with 2 Axes>"
      ]
     },
     "metadata": {},
     "output_type": "display_data"
    }
   ],
   "source": [
    "sns.heatmap(conf_matrix/np.sum(conf_matrix), annot=True, fmt='.2%',cmap='YlOrRd')\n",
    "plt.title(\"Heatmap for Confusion Matrix with percentage of Data in each Quadrant\")\n",
    "plt.show();"
   ]
  },
  {
   "cell_type": "markdown",
   "id": "8a794115",
   "metadata": {},
   "source": [
    "__In Validation Set, the data present was only 20%. Out of 20%, 96.20 % of data lies in True Negative quadrant which is \"Not Defaulted\" prediction and only 1.35% data lies in True Positive Quadrant which is \"Defaulted Quadrant\". The type2 Error which is 2.10% is also high which means model was in inefficient in predicting Defaulted Credit data.__"
   ]
  },
  {
   "cell_type": "markdown",
   "id": "8f65e383",
   "metadata": {},
   "source": [
    "### 9. Misclassification Rate\n",
    "* It tells you what fraction of predictions were incorrect. It's also called Classification Error.\n",
    "* Misclassification Rate(MR) is given by :\n",
    "\n",
    "$$ MR = \\frac{(False Positive + False Negative)}{(True Positive + True negative + False Positive + False Negative)}$$"
   ]
  },
  {
   "cell_type": "code",
   "execution_count": 30,
   "id": "12ed86c8",
   "metadata": {},
   "outputs": [
    {
     "name": "stdout",
     "output_type": "stream",
     "text": [
      "Misclassification Rate using Validation Test Approach is : 2.45 %\n"
     ]
    }
   ],
   "source": [
    "misclassification_Rate = (conf_matrix[0,1] + conf_matrix[1,0])/(conf_matrix[0,0] + conf_matrix[1,1] + conf_matrix[0,1] + conf_matrix[1,0])\n",
    "print(\"Misclassification Rate using Validation Test Approach is : {0} %\".format(misclassification_Rate*100))"
   ]
  },
  {
   "cell_type": "markdown",
   "id": "5f017e91",
   "metadata": {},
   "source": [
    "__We got a good model to start with as the misclassification rate is just 2.45 %. However, The range of Defaulted Credit is very less in our dataset. The defaulted credit is 333 columns. It is crucial to know that How accurate this model will be while predicting DEFAULTED CREDIT. Although, Heatmaps and Confusion matrix above suggests that this model performs well while predicting <i>Not Defaulted Credit</i> but doesn't performs well while predicting <i>Defaulted Credit</i>.__"
   ]
  },
  {
   "cell_type": "markdown",
   "id": "5b99ba63",
   "metadata": {},
   "source": [
    "### 10 Fit Logistic Regression Model with different splits of the observations into a training set and a validation set\n",
    "### 10.1 Logistic Regression Model 1\n",
    "#### 10.1.1 Creating 3 different splits of observations "
   ]
  },
  {
   "cell_type": "code",
   "execution_count": 31,
   "id": "d81a2c52",
   "metadata": {},
   "outputs": [],
   "source": [
    "train1,test1 = train_test_split(credData,test_size=0.3, random_state=19)\n",
    "train2,test2 = train_test_split(credData,test_size=0.25, random_state=2)\n",
    "train3,test3 = train_test_split(credData,test_size=0.35, random_state=10)"
   ]
  },
  {
   "cell_type": "markdown",
   "id": "48ca4d19",
   "metadata": {},
   "source": [
    "#### 10.1.2 Fitting Logistic Regression Model with train1, test1"
   ]
  },
  {
   "cell_type": "code",
   "execution_count": 32,
   "id": "9bc28431",
   "metadata": {},
   "outputs": [
    {
     "name": "stdout",
     "output_type": "stream",
     "text": [
      "Optimization terminated successfully.\n",
      "         Current function value: 0.081604\n",
      "         Iterations 10\n"
     ]
    }
   ],
   "source": [
    "model1 = logit(\"default_encoded ~ balance + income\", train1).fit()"
   ]
  },
  {
   "cell_type": "code",
   "execution_count": 33,
   "id": "b9fce91b",
   "metadata": {},
   "outputs": [],
   "source": [
    "test1_pred = model1.predict(test1)"
   ]
  },
  {
   "cell_type": "markdown",
   "id": "05e16b60",
   "metadata": {},
   "source": [
    "#### 10.1.3 Converting probability to labels and Cut off = 0.5"
   ]
  },
  {
   "cell_type": "code",
   "execution_count": 34,
   "id": "b1df41cf",
   "metadata": {},
   "outputs": [],
   "source": [
    "def convert_prob_to_label(prob, cutoff = 0.5):\n",
    "    label = None\n",
    "    if prob > cutoff:\n",
    "        label = 1\n",
    "    else:\n",
    "        label = 0\n",
    "    return label"
   ]
  },
  {
   "cell_type": "code",
   "execution_count": 35,
   "id": "84a55939",
   "metadata": {},
   "outputs": [],
   "source": [
    "test1_pred_labels = list(map(convert_prob_to_label, test1_pred))\n",
    "test1_pred_labels = np.asarray(test1_pred_labels)"
   ]
  },
  {
   "cell_type": "markdown",
   "id": "0a3161d6",
   "metadata": {},
   "source": [
    "#### 10.1.4 Confusion Matrix"
   ]
  },
  {
   "cell_type": "code",
   "execution_count": 36,
   "id": "af813a1f",
   "metadata": {},
   "outputs": [
    {
     "name": "stdout",
     "output_type": "stream",
     "text": [
      "[[2903   11]\n",
      " [  63   23]]\n",
      "True Negative : 2903\n",
      "True Positive : 23\n",
      "False Positive : 11\n",
      "False Negative : 63\n"
     ]
    }
   ],
   "source": [
    "from sklearn.metrics import confusion_matrix\n",
    "conf_matrix_model1 = confusion_matrix(test1.default_encoded, test1_pred_labels)\n",
    "print(conf_matrix_model1)\n",
    "print(\"True Negative :\",conf_matrix_model1[0,0])\n",
    "print(\"True Positive :\",conf_matrix_model1[1,1])\n",
    "print(\"False Positive :\",conf_matrix_model1[0,1])\n",
    "print(\"False Negative :\",conf_matrix_model1[1,0])"
   ]
  },
  {
   "cell_type": "markdown",
   "id": "48dad6f3",
   "metadata": {},
   "source": [
    "__Model 1 : In Model 1 the split between Train Data and Validation Test data is 70% and 30% respectively. When we use Model 1 to make predictions on test1 Data, the model does an incredible job in classifying Not Defaulted Credit, however when it comes down to predicting Defaulted Credit the model1 doesn't performs well. We can observe that from a False Negative value of 63 which is also known as Type 2 Error. The reason our Model is not able to predict Large amount of Defaulted Credit can be because we have very few Data Points to train our Model based on Defaulted Credit data.__"
   ]
  },
  {
   "cell_type": "markdown",
   "id": "5de0964d",
   "metadata": {},
   "source": [
    "### 10.2 Logistic Regression Model 1\n",
    "#### 10.2.1 Fitting Logistic Regression Model with train2, test2"
   ]
  },
  {
   "cell_type": "code",
   "execution_count": 37,
   "id": "a874a0fc",
   "metadata": {},
   "outputs": [
    {
     "name": "stdout",
     "output_type": "stream",
     "text": [
      "Optimization terminated successfully.\n",
      "         Current function value: 0.080776\n",
      "         Iterations 10\n"
     ]
    }
   ],
   "source": [
    "model2 = logit(\"default_encoded ~ balance + income\", train2).fit()"
   ]
  },
  {
   "cell_type": "code",
   "execution_count": 38,
   "id": "a090a7fc",
   "metadata": {},
   "outputs": [],
   "source": [
    "test2_pred = model2.predict(test2)"
   ]
  },
  {
   "cell_type": "markdown",
   "id": "2655e0b2",
   "metadata": {},
   "source": [
    "#### 10.2.2 Converting probability to labels and Cut off = 0.5"
   ]
  },
  {
   "cell_type": "code",
   "execution_count": 39,
   "id": "8e242c74",
   "metadata": {},
   "outputs": [],
   "source": [
    "test2_pred_labels = list(map(convert_prob_to_label, test2_pred))\n",
    "test2_pred_labels = np.asarray(test2_pred_labels)"
   ]
  },
  {
   "cell_type": "markdown",
   "id": "9706439c",
   "metadata": {},
   "source": [
    "#### 10.2.3 Confusion Matrix"
   ]
  },
  {
   "cell_type": "code",
   "execution_count": 40,
   "id": "b393cd01",
   "metadata": {},
   "outputs": [
    {
     "name": "stdout",
     "output_type": "stream",
     "text": [
      "[[2416   17]\n",
      " [  47   20]]\n",
      "True Negative : 2416\n",
      "True Positive : 20\n",
      "False Positive : 17\n",
      "False Negative : 47\n"
     ]
    }
   ],
   "source": [
    "from sklearn.metrics import confusion_matrix\n",
    "conf_matrix_model2 = confusion_matrix(test2.default_encoded, test2_pred_labels)\n",
    "print(conf_matrix_model2)\n",
    "print(\"True Negative :\",conf_matrix_model2[0,0])\n",
    "print(\"True Positive :\",conf_matrix_model2[1,1])\n",
    "print(\"False Positive :\",conf_matrix_model2[0,1])\n",
    "print(\"False Negative :\",conf_matrix_model2[1,0])"
   ]
  },
  {
   "cell_type": "markdown",
   "id": "87b24255",
   "metadata": {},
   "source": [
    "__Model 2 : In Model 2 the split between Train Data and Validation Test data is 75% and 25% respectively. When we use Model 2 to make predictions on test2 Data, the model classifies Not Defaulted Credit value as we can see True Negative value which is 2416, however when it comes down to predicting Defaulted Credit the Model 2 performs the same as previous model. We can observe that from a False Negative value of 47. Few Defaulted Credit data points available in the dataset might be the reason behind Model 2 being inefficient on predicting Defaulted Credit data__"
   ]
  },
  {
   "cell_type": "markdown",
   "id": "a77dfd28",
   "metadata": {},
   "source": [
    "### 10.3 Logistic Regression Model 3\n",
    "#### 10.3.1 Fitting Logistic Regression Model with train3, test3"
   ]
  },
  {
   "cell_type": "code",
   "execution_count": 41,
   "id": "1ad3822f",
   "metadata": {},
   "outputs": [
    {
     "name": "stdout",
     "output_type": "stream",
     "text": [
      "Optimization terminated successfully.\n",
      "         Current function value: 0.074489\n",
      "         Iterations 10\n"
     ]
    }
   ],
   "source": [
    "model3 = logit(\"default_encoded ~ balance + income\", train3).fit()"
   ]
  },
  {
   "cell_type": "code",
   "execution_count": 42,
   "id": "8bfce8e7",
   "metadata": {},
   "outputs": [],
   "source": [
    "test3_pred = model3.predict(test3)"
   ]
  },
  {
   "cell_type": "markdown",
   "id": "11f1df45",
   "metadata": {},
   "source": [
    "#### 10.3.2 Converting probability to labels and Cut off = 0.5"
   ]
  },
  {
   "cell_type": "code",
   "execution_count": 43,
   "id": "44d5f87b",
   "metadata": {},
   "outputs": [],
   "source": [
    "test3_pred_labels = list(map(convert_prob_to_label, test3_pred))\n",
    "test3_pred_labels = np.asarray(test3_pred_labels)"
   ]
  },
  {
   "cell_type": "markdown",
   "id": "713ae731",
   "metadata": {},
   "source": [
    "#### 10.3.3 Confusion Matrix"
   ]
  },
  {
   "cell_type": "code",
   "execution_count": 44,
   "id": "bddedc4d",
   "metadata": {},
   "outputs": [
    {
     "name": "stdout",
     "output_type": "stream",
     "text": [
      "[[3361   12]\n",
      " [  88   39]]\n",
      "True Negative : 3361\n",
      "True Positive : 39\n",
      "False Positive : 12\n",
      "False Negative : 88\n"
     ]
    }
   ],
   "source": [
    "from sklearn.metrics import confusion_matrix\n",
    "conf_matrix_model3 = confusion_matrix(test3.default_encoded, test3_pred_labels)\n",
    "print(conf_matrix_model3)\n",
    "print(\"True Negative :\",conf_matrix_model3[0,0])\n",
    "print(\"True Positive :\",conf_matrix_model3[1,1])\n",
    "print(\"False Positive :\",conf_matrix_model3[0,1])\n",
    "print(\"False Negative :\",conf_matrix_model3[1,0])"
   ]
  },
  {
   "cell_type": "markdown",
   "id": "665a1fbb",
   "metadata": {},
   "source": [
    "__Model 3 : We can see that we are getting almost same results with every model. In Model 3 the split of training data was 65% and test data was 35%. And thus the value went up. The inability in Models to predict Defaulted Credit Data is due to the insufficient Defaulted Credit data points present in the Dataset.__"
   ]
  },
  {
   "cell_type": "markdown",
   "id": "c0cfb1a0",
   "metadata": {},
   "source": [
    "### 11. Building and Fitting a New Logistic Regression Model by taking a Dummy Variable of Student column"
   ]
  },
  {
   "cell_type": "code",
   "execution_count": 45,
   "id": "5da7d9fc",
   "metadata": {},
   "outputs": [
    {
     "data": {
      "text/html": [
       "<div>\n",
       "<style scoped>\n",
       "    .dataframe tbody tr th:only-of-type {\n",
       "        vertical-align: middle;\n",
       "    }\n",
       "\n",
       "    .dataframe tbody tr th {\n",
       "        vertical-align: top;\n",
       "    }\n",
       "\n",
       "    .dataframe thead th {\n",
       "        text-align: right;\n",
       "    }\n",
       "</style>\n",
       "<table border=\"1\" class=\"dataframe\">\n",
       "  <thead>\n",
       "    <tr style=\"text-align: right;\">\n",
       "      <th></th>\n",
       "      <th>default</th>\n",
       "      <th>student</th>\n",
       "      <th>balance</th>\n",
       "      <th>income</th>\n",
       "    </tr>\n",
       "  </thead>\n",
       "  <tbody>\n",
       "    <tr>\n",
       "      <th>0</th>\n",
       "      <td>No</td>\n",
       "      <td>No</td>\n",
       "      <td>729.526495</td>\n",
       "      <td>44361.625074</td>\n",
       "    </tr>\n",
       "    <tr>\n",
       "      <th>1</th>\n",
       "      <td>No</td>\n",
       "      <td>Yes</td>\n",
       "      <td>817.180407</td>\n",
       "      <td>12106.134700</td>\n",
       "    </tr>\n",
       "    <tr>\n",
       "      <th>2</th>\n",
       "      <td>No</td>\n",
       "      <td>No</td>\n",
       "      <td>1073.549164</td>\n",
       "      <td>31767.138947</td>\n",
       "    </tr>\n",
       "    <tr>\n",
       "      <th>3</th>\n",
       "      <td>No</td>\n",
       "      <td>No</td>\n",
       "      <td>529.250605</td>\n",
       "      <td>35704.493935</td>\n",
       "    </tr>\n",
       "    <tr>\n",
       "      <th>4</th>\n",
       "      <td>No</td>\n",
       "      <td>No</td>\n",
       "      <td>785.655883</td>\n",
       "      <td>38463.495879</td>\n",
       "    </tr>\n",
       "  </tbody>\n",
       "</table>\n",
       "</div>"
      ],
      "text/plain": [
       "  default student      balance        income\n",
       "0      No      No   729.526495  44361.625074\n",
       "1      No     Yes   817.180407  12106.134700\n",
       "2      No      No  1073.549164  31767.138947\n",
       "3      No      No   529.250605  35704.493935\n",
       "4      No      No   785.655883  38463.495879"
      ]
     },
     "execution_count": 45,
     "metadata": {},
     "output_type": "execute_result"
    }
   ],
   "source": [
    "credData = pd.read_csv('default.csv')\n",
    "credData.head()"
   ]
  },
  {
   "cell_type": "markdown",
   "id": "b89dc6f0",
   "metadata": {},
   "source": [
    "#### 11.1 Generating Dummy Variables for student"
   ]
  },
  {
   "cell_type": "code",
   "execution_count": 46,
   "id": "bd2da9e8",
   "metadata": {},
   "outputs": [
    {
     "data": {
      "text/html": [
       "<div>\n",
       "<style scoped>\n",
       "    .dataframe tbody tr th:only-of-type {\n",
       "        vertical-align: middle;\n",
       "    }\n",
       "\n",
       "    .dataframe tbody tr th {\n",
       "        vertical-align: top;\n",
       "    }\n",
       "\n",
       "    .dataframe thead th {\n",
       "        text-align: right;\n",
       "    }\n",
       "</style>\n",
       "<table border=\"1\" class=\"dataframe\">\n",
       "  <thead>\n",
       "    <tr style=\"text-align: right;\">\n",
       "      <th></th>\n",
       "      <th>default</th>\n",
       "      <th>student</th>\n",
       "      <th>balance</th>\n",
       "      <th>income</th>\n",
       "      <th>student_Yes</th>\n",
       "    </tr>\n",
       "  </thead>\n",
       "  <tbody>\n",
       "    <tr>\n",
       "      <th>0</th>\n",
       "      <td>No</td>\n",
       "      <td>No</td>\n",
       "      <td>729.526495</td>\n",
       "      <td>44361.625074</td>\n",
       "      <td>0</td>\n",
       "    </tr>\n",
       "    <tr>\n",
       "      <th>1</th>\n",
       "      <td>No</td>\n",
       "      <td>Yes</td>\n",
       "      <td>817.180407</td>\n",
       "      <td>12106.134700</td>\n",
       "      <td>1</td>\n",
       "    </tr>\n",
       "    <tr>\n",
       "      <th>2</th>\n",
       "      <td>No</td>\n",
       "      <td>No</td>\n",
       "      <td>1073.549164</td>\n",
       "      <td>31767.138947</td>\n",
       "      <td>0</td>\n",
       "    </tr>\n",
       "    <tr>\n",
       "      <th>3</th>\n",
       "      <td>No</td>\n",
       "      <td>No</td>\n",
       "      <td>529.250605</td>\n",
       "      <td>35704.493935</td>\n",
       "      <td>0</td>\n",
       "    </tr>\n",
       "    <tr>\n",
       "      <th>4</th>\n",
       "      <td>No</td>\n",
       "      <td>No</td>\n",
       "      <td>785.655883</td>\n",
       "      <td>38463.495879</td>\n",
       "      <td>0</td>\n",
       "    </tr>\n",
       "  </tbody>\n",
       "</table>\n",
       "</div>"
      ],
      "text/plain": [
       "  default student      balance        income  student_Yes\n",
       "0      No      No   729.526495  44361.625074            0\n",
       "1      No     Yes   817.180407  12106.134700            1\n",
       "2      No      No  1073.549164  31767.138947            0\n",
       "3      No      No   529.250605  35704.493935            0\n",
       "4      No      No   785.655883  38463.495879            0"
      ]
     },
     "execution_count": 46,
     "metadata": {},
     "output_type": "execute_result"
    }
   ],
   "source": [
    "credDummies = pd.get_dummies(credData.student, prefix='student')\n",
    "credDummies.drop(credDummies.columns[0], axis=1, inplace=True)\n",
    "credData = pd.concat([credData, credDummies], axis=1)\n",
    "credData.head()"
   ]
  },
  {
   "cell_type": "markdown",
   "id": "14028a08",
   "metadata": {},
   "source": [
    "#### 11.2 Replacing No with 0 and Yes with 1 in default column"
   ]
  },
  {
   "cell_type": "code",
   "execution_count": 47,
   "id": "ebd1cd39",
   "metadata": {},
   "outputs": [],
   "source": [
    "credData = credData.replace({'default' : {'No':0,'Yes':1}})"
   ]
  },
  {
   "cell_type": "markdown",
   "id": "fddd8332",
   "metadata": {},
   "source": [
    "#### 11.3 Fitting the Logistic Regression Model using Student Dummy Variable"
   ]
  },
  {
   "cell_type": "code",
   "execution_count": 48,
   "id": "3bcc8c8b",
   "metadata": {},
   "outputs": [],
   "source": [
    "train,test = train_test_split(credData,test_size=0.2, random_state=10)"
   ]
  },
  {
   "cell_type": "code",
   "execution_count": 49,
   "id": "b8921d09",
   "metadata": {},
   "outputs": [
    {
     "name": "stdout",
     "output_type": "stream",
     "text": [
      "Optimization terminated successfully.\n",
      "         Current function value: 0.076452\n",
      "         Iterations 10\n"
     ]
    }
   ],
   "source": [
    "model = logit('default ~ balance + income + student_Yes',train).fit()"
   ]
  },
  {
   "cell_type": "code",
   "execution_count": 50,
   "id": "171693ad",
   "metadata": {},
   "outputs": [],
   "source": [
    "test_pred = model.predict(test)"
   ]
  },
  {
   "cell_type": "markdown",
   "id": "732e4522",
   "metadata": {},
   "source": [
    "#### 11.4 Converting probability to labels and Cut off = 0.5"
   ]
  },
  {
   "cell_type": "code",
   "execution_count": 51,
   "id": "5ac756c4",
   "metadata": {},
   "outputs": [],
   "source": [
    "pred_labels = list(map(convert_prob_to_label, test_pred))\n",
    "pred_labels = np.asarray(pred_labels)"
   ]
  },
  {
   "cell_type": "markdown",
   "id": "2dce9099",
   "metadata": {},
   "source": [
    "#### 11.5 Confusion Matrix"
   ]
  },
  {
   "cell_type": "code",
   "execution_count": 52,
   "id": "d22c1e60",
   "metadata": {},
   "outputs": [
    {
     "name": "stdout",
     "output_type": "stream",
     "text": [
      "[[1927    5]\n",
      " [  49   19]]\n",
      "True Negative : 1927\n",
      "True Positive : 19\n",
      "False Positive : 5\n",
      "False Negative : 49\n"
     ]
    }
   ],
   "source": [
    "from sklearn.metrics import confusion_matrix\n",
    "conf_matrix_model = confusion_matrix(test.default, pred_labels)\n",
    "print(conf_matrix_model)\n",
    "print(\"True Negative :\",conf_matrix_model[0,0])\n",
    "print(\"True Positive :\",conf_matrix_model[1,1])\n",
    "print(\"False Positive :\",conf_matrix_model[0,1])\n",
    "print(\"False Negative :\",conf_matrix_model[1,0])"
   ]
  },
  {
   "cell_type": "markdown",
   "id": "f1521059",
   "metadata": {},
   "source": [
    "#### 11.6 Misclassification Rate in this model\n",
    "* It tells you what fraction of predictions were incorrect. It's also called Classification Error.\n",
    "* Misclassification Rate(MR) is given by :\n",
    "\n",
    "$$ MR = \\frac{(False Positive + False Negative)}{(True Positive + True negative + False Positive + False Negative)}$$"
   ]
  },
  {
   "cell_type": "code",
   "execution_count": 53,
   "id": "6c20ece5",
   "metadata": {},
   "outputs": [
    {
     "name": "stdout",
     "output_type": "stream",
     "text": [
      "Misclassification Rate using Validation Test Approach is : 2.7 %\n"
     ]
    }
   ],
   "source": [
    "misclassificationRate = (conf_matrix_model[0,1] + conf_matrix_model[1,0])/(conf_matrix_model[0,0] + conf_matrix_model[1,1] + conf_matrix_model[0,1] + conf_matrix_model[1,0])\n",
    "print(\"Misclassification Rate using Validation Test Approach is : {0} %\".format(misclassificationRate*100))"
   ]
  },
  {
   "cell_type": "markdown",
   "id": "16babf62",
   "metadata": {},
   "source": [
    "__The Misclassification Rate in our very first Model was 2.45 % (9) and the Missclassification Rate in this model is also 2.7 % which suggests that Dummy variable of student has not played any role in the model. ALthough the split in Training Set and Testing Set is same in both the models with different random state.__ \n",
    "\n",
    "__Therefore, We can conclude that All the Logistic Regression Models which we observed for this Dataset were incapable of predicting the Defaulted Credit at a Large Scale and this incapability can be due to very few Data points available to us in the Dataset in terms of Default Credit. All model do an incredible job in predicting Not Defaulted Credit.__"
   ]
  },
  {
   "cell_type": "code",
   "execution_count": null,
   "id": "4dcba3d9",
   "metadata": {},
   "outputs": [],
   "source": []
  }
 ],
 "metadata": {
  "kernelspec": {
   "display_name": "Python 3 (ipykernel)",
   "language": "python",
   "name": "python3"
  },
  "language_info": {
   "codemirror_mode": {
    "name": "ipython",
    "version": 3
   },
   "file_extension": ".py",
   "mimetype": "text/x-python",
   "name": "python",
   "nbconvert_exporter": "python",
   "pygments_lexer": "ipython3",
   "version": "3.9.7"
  }
 },
 "nbformat": 4,
 "nbformat_minor": 5
}
