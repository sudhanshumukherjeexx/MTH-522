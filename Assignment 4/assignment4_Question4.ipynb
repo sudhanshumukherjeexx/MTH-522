{
 "cells": [
  {
   "cell_type": "markdown",
   "id": "2f7fda80",
   "metadata": {},
   "source": [
    "## Question 9. We will now consider the Boston housing data set, from the ISLR2 library.\n",
    "### (a) Based on this data set, provide an estimate for the population mean of medv . Call this estimate ˆμ.\n",
    "### (b) Provide an estimate of the standard error of ˆμ. Interpret this result. Hint: We can compute the standard error of the sample mean by dividing the sample standard deviation by the square root of the number of observations.\n",
    "### (c) Now estimate the standard error of ˆμ using the bootstrap. How does this compare to your answer from (b)?\n",
    "### (d) Based on your bootstrap estimate from (c), provide a 95 % con- fidence interval for the mean of medv . Compare it to the results obtained using t.test(Boston medv). Hint: You can approximate a 95 % confidence interval using the formula [ˆμ − 2SE(ˆμ), ˆμ + 2SE(ˆμ)].\n",
    "### (e) Based on this data set, provide an estimate, ˆμ med , for the median value of medv in the population.\n",
    "### (f) We now would like to estimate the standard error of ˆμ med . Unfortunately, there is no simple formula for computing the standard error of the median. Instead, estimate the standard error of the median using the bootstrap. Comment on your findings.\n",
    "### (g) Based on this data set, provide an estimate for the tenth percentile of medv in Boston census tracts. Call this quantity ˆμ 0.1 . (You can use the quantile() function.)\n",
    "### (h) Use the bootstrap to estimate the standard error of ˆμ 0.1 . Comment on your findings."
   ]
  },
  {
   "cell_type": "markdown",
   "id": "49cd3cdc",
   "metadata": {},
   "source": [
    "# --------------------------------------------------------------------"
   ]
  },
  {
   "cell_type": "markdown",
   "id": "df8522f0",
   "metadata": {},
   "source": [
    "### Boston Dataset \n",
    "\n",
    "* id - Number assigned to every entry.\n",
    "* CRIM - per capita crime rate by town.\n",
    "* ZN - proportion of residential land zoned for lots over 25,000 sq.ft.\n",
    "* INDUS - proportion of non-retail business acres per town.\n",
    "* CHAS - Charles River dummy variable (1 if tract bounds river; 0 otherwise)\n",
    "* NOX - nitric oxides concentration (parts per 10 million)\n",
    "* RM - average number of rooms per dwelling.\n",
    "* AGE - proportion of owner-occupied units built prior to 1940.\n",
    "* DIS - weighted distances to five Boston employment centres.\n",
    "* RAD - index of accessibility to radial highways.\n",
    "* TAX - full-value property-tax rate per 10,000 Dollars.\n",
    "* PTRATIO - pupil-teacher ratio by town.\n",
    "* LSTAT - percent lower status of the population.\n",
    "* MEDV - Median value of owner-occupied homes in $1000's."
   ]
  },
  {
   "cell_type": "markdown",
   "id": "9179cb1c",
   "metadata": {},
   "source": [
    "### 1. Importing Necessary Library"
   ]
  },
  {
   "cell_type": "code",
   "execution_count": 1,
   "id": "3a082e33",
   "metadata": {},
   "outputs": [],
   "source": [
    "import pandas as pd\n",
    "import numpy as np\n",
    "import seaborn as sns\n",
    "import matplotlib.pyplot as plt"
   ]
  },
  {
   "cell_type": "markdown",
   "id": "8a1290cc",
   "metadata": {},
   "source": [
    "### 2. Loading the Data"
   ]
  },
  {
   "cell_type": "code",
   "execution_count": 2,
   "id": "d2af8acb",
   "metadata": {},
   "outputs": [
    {
     "data": {
      "text/html": [
       "<div>\n",
       "<style scoped>\n",
       "    .dataframe tbody tr th:only-of-type {\n",
       "        vertical-align: middle;\n",
       "    }\n",
       "\n",
       "    .dataframe tbody tr th {\n",
       "        vertical-align: top;\n",
       "    }\n",
       "\n",
       "    .dataframe thead th {\n",
       "        text-align: right;\n",
       "    }\n",
       "</style>\n",
       "<table border=\"1\" class=\"dataframe\">\n",
       "  <thead>\n",
       "    <tr style=\"text-align: right;\">\n",
       "      <th></th>\n",
       "      <th>Unnamed: 0</th>\n",
       "      <th>crim</th>\n",
       "      <th>zn</th>\n",
       "      <th>indus</th>\n",
       "      <th>chas</th>\n",
       "      <th>nox</th>\n",
       "      <th>rm</th>\n",
       "      <th>age</th>\n",
       "      <th>dis</th>\n",
       "      <th>rad</th>\n",
       "      <th>tax</th>\n",
       "      <th>ptratio</th>\n",
       "      <th>lstat</th>\n",
       "      <th>medv</th>\n",
       "    </tr>\n",
       "  </thead>\n",
       "  <tbody>\n",
       "    <tr>\n",
       "      <th>0</th>\n",
       "      <td>1</td>\n",
       "      <td>0.00632</td>\n",
       "      <td>18.0</td>\n",
       "      <td>2.31</td>\n",
       "      <td>0</td>\n",
       "      <td>0.538</td>\n",
       "      <td>6.575</td>\n",
       "      <td>65.2</td>\n",
       "      <td>4.0900</td>\n",
       "      <td>1</td>\n",
       "      <td>296</td>\n",
       "      <td>15.3</td>\n",
       "      <td>4.98</td>\n",
       "      <td>24.0</td>\n",
       "    </tr>\n",
       "    <tr>\n",
       "      <th>1</th>\n",
       "      <td>2</td>\n",
       "      <td>0.02731</td>\n",
       "      <td>0.0</td>\n",
       "      <td>7.07</td>\n",
       "      <td>0</td>\n",
       "      <td>0.469</td>\n",
       "      <td>6.421</td>\n",
       "      <td>78.9</td>\n",
       "      <td>4.9671</td>\n",
       "      <td>2</td>\n",
       "      <td>242</td>\n",
       "      <td>17.8</td>\n",
       "      <td>9.14</td>\n",
       "      <td>21.6</td>\n",
       "    </tr>\n",
       "    <tr>\n",
       "      <th>2</th>\n",
       "      <td>3</td>\n",
       "      <td>0.02729</td>\n",
       "      <td>0.0</td>\n",
       "      <td>7.07</td>\n",
       "      <td>0</td>\n",
       "      <td>0.469</td>\n",
       "      <td>7.185</td>\n",
       "      <td>61.1</td>\n",
       "      <td>4.9671</td>\n",
       "      <td>2</td>\n",
       "      <td>242</td>\n",
       "      <td>17.8</td>\n",
       "      <td>4.03</td>\n",
       "      <td>34.7</td>\n",
       "    </tr>\n",
       "    <tr>\n",
       "      <th>3</th>\n",
       "      <td>4</td>\n",
       "      <td>0.03237</td>\n",
       "      <td>0.0</td>\n",
       "      <td>2.18</td>\n",
       "      <td>0</td>\n",
       "      <td>0.458</td>\n",
       "      <td>6.998</td>\n",
       "      <td>45.8</td>\n",
       "      <td>6.0622</td>\n",
       "      <td>3</td>\n",
       "      <td>222</td>\n",
       "      <td>18.7</td>\n",
       "      <td>2.94</td>\n",
       "      <td>33.4</td>\n",
       "    </tr>\n",
       "    <tr>\n",
       "      <th>4</th>\n",
       "      <td>5</td>\n",
       "      <td>0.06905</td>\n",
       "      <td>0.0</td>\n",
       "      <td>2.18</td>\n",
       "      <td>0</td>\n",
       "      <td>0.458</td>\n",
       "      <td>7.147</td>\n",
       "      <td>54.2</td>\n",
       "      <td>6.0622</td>\n",
       "      <td>3</td>\n",
       "      <td>222</td>\n",
       "      <td>18.7</td>\n",
       "      <td>5.33</td>\n",
       "      <td>36.2</td>\n",
       "    </tr>\n",
       "  </tbody>\n",
       "</table>\n",
       "</div>"
      ],
      "text/plain": [
       "   Unnamed: 0     crim    zn  indus  chas    nox     rm   age     dis  rad  \\\n",
       "0           1  0.00632  18.0   2.31     0  0.538  6.575  65.2  4.0900    1   \n",
       "1           2  0.02731   0.0   7.07     0  0.469  6.421  78.9  4.9671    2   \n",
       "2           3  0.02729   0.0   7.07     0  0.469  7.185  61.1  4.9671    2   \n",
       "3           4  0.03237   0.0   2.18     0  0.458  6.998  45.8  6.0622    3   \n",
       "4           5  0.06905   0.0   2.18     0  0.458  7.147  54.2  6.0622    3   \n",
       "\n",
       "   tax  ptratio  lstat  medv  \n",
       "0  296     15.3   4.98  24.0  \n",
       "1  242     17.8   9.14  21.6  \n",
       "2  242     17.8   4.03  34.7  \n",
       "3  222     18.7   2.94  33.4  \n",
       "4  222     18.7   5.33  36.2  "
      ]
     },
     "execution_count": 2,
     "metadata": {},
     "output_type": "execute_result"
    }
   ],
   "source": [
    "bostonData = pd.read_csv('boston.csv')\n",
    "bostonData.head()"
   ]
  },
  {
   "cell_type": "code",
   "execution_count": 3,
   "id": "4efe298d",
   "metadata": {},
   "outputs": [
    {
     "data": {
      "text/html": [
       "<div>\n",
       "<style scoped>\n",
       "    .dataframe tbody tr th:only-of-type {\n",
       "        vertical-align: middle;\n",
       "    }\n",
       "\n",
       "    .dataframe tbody tr th {\n",
       "        vertical-align: top;\n",
       "    }\n",
       "\n",
       "    .dataframe thead th {\n",
       "        text-align: right;\n",
       "    }\n",
       "</style>\n",
       "<table border=\"1\" class=\"dataframe\">\n",
       "  <thead>\n",
       "    <tr style=\"text-align: right;\">\n",
       "      <th></th>\n",
       "      <th>crim</th>\n",
       "      <th>zn</th>\n",
       "      <th>indus</th>\n",
       "      <th>chas</th>\n",
       "      <th>nox</th>\n",
       "      <th>rm</th>\n",
       "      <th>age</th>\n",
       "      <th>dis</th>\n",
       "      <th>rad</th>\n",
       "      <th>tax</th>\n",
       "      <th>ptratio</th>\n",
       "      <th>lstat</th>\n",
       "      <th>medv</th>\n",
       "    </tr>\n",
       "  </thead>\n",
       "  <tbody>\n",
       "    <tr>\n",
       "      <th>0</th>\n",
       "      <td>0.00632</td>\n",
       "      <td>18.0</td>\n",
       "      <td>2.31</td>\n",
       "      <td>0</td>\n",
       "      <td>0.538</td>\n",
       "      <td>6.575</td>\n",
       "      <td>65.2</td>\n",
       "      <td>4.0900</td>\n",
       "      <td>1</td>\n",
       "      <td>296</td>\n",
       "      <td>15.3</td>\n",
       "      <td>4.98</td>\n",
       "      <td>24.0</td>\n",
       "    </tr>\n",
       "    <tr>\n",
       "      <th>1</th>\n",
       "      <td>0.02731</td>\n",
       "      <td>0.0</td>\n",
       "      <td>7.07</td>\n",
       "      <td>0</td>\n",
       "      <td>0.469</td>\n",
       "      <td>6.421</td>\n",
       "      <td>78.9</td>\n",
       "      <td>4.9671</td>\n",
       "      <td>2</td>\n",
       "      <td>242</td>\n",
       "      <td>17.8</td>\n",
       "      <td>9.14</td>\n",
       "      <td>21.6</td>\n",
       "    </tr>\n",
       "    <tr>\n",
       "      <th>2</th>\n",
       "      <td>0.02729</td>\n",
       "      <td>0.0</td>\n",
       "      <td>7.07</td>\n",
       "      <td>0</td>\n",
       "      <td>0.469</td>\n",
       "      <td>7.185</td>\n",
       "      <td>61.1</td>\n",
       "      <td>4.9671</td>\n",
       "      <td>2</td>\n",
       "      <td>242</td>\n",
       "      <td>17.8</td>\n",
       "      <td>4.03</td>\n",
       "      <td>34.7</td>\n",
       "    </tr>\n",
       "    <tr>\n",
       "      <th>3</th>\n",
       "      <td>0.03237</td>\n",
       "      <td>0.0</td>\n",
       "      <td>2.18</td>\n",
       "      <td>0</td>\n",
       "      <td>0.458</td>\n",
       "      <td>6.998</td>\n",
       "      <td>45.8</td>\n",
       "      <td>6.0622</td>\n",
       "      <td>3</td>\n",
       "      <td>222</td>\n",
       "      <td>18.7</td>\n",
       "      <td>2.94</td>\n",
       "      <td>33.4</td>\n",
       "    </tr>\n",
       "    <tr>\n",
       "      <th>4</th>\n",
       "      <td>0.06905</td>\n",
       "      <td>0.0</td>\n",
       "      <td>2.18</td>\n",
       "      <td>0</td>\n",
       "      <td>0.458</td>\n",
       "      <td>7.147</td>\n",
       "      <td>54.2</td>\n",
       "      <td>6.0622</td>\n",
       "      <td>3</td>\n",
       "      <td>222</td>\n",
       "      <td>18.7</td>\n",
       "      <td>5.33</td>\n",
       "      <td>36.2</td>\n",
       "    </tr>\n",
       "  </tbody>\n",
       "</table>\n",
       "</div>"
      ],
      "text/plain": [
       "      crim    zn  indus  chas    nox     rm   age     dis  rad  tax  ptratio  \\\n",
       "0  0.00632  18.0   2.31     0  0.538  6.575  65.2  4.0900    1  296     15.3   \n",
       "1  0.02731   0.0   7.07     0  0.469  6.421  78.9  4.9671    2  242     17.8   \n",
       "2  0.02729   0.0   7.07     0  0.469  7.185  61.1  4.9671    2  242     17.8   \n",
       "3  0.03237   0.0   2.18     0  0.458  6.998  45.8  6.0622    3  222     18.7   \n",
       "4  0.06905   0.0   2.18     0  0.458  7.147  54.2  6.0622    3  222     18.7   \n",
       "\n",
       "   lstat  medv  \n",
       "0   4.98  24.0  \n",
       "1   9.14  21.6  \n",
       "2   4.03  34.7  \n",
       "3   2.94  33.4  \n",
       "4   5.33  36.2  "
      ]
     },
     "execution_count": 3,
     "metadata": {},
     "output_type": "execute_result"
    }
   ],
   "source": [
    "bostonData = bostonData.drop('Unnamed: 0',axis=1)\n",
    "bostonData.head()"
   ]
  },
  {
   "cell_type": "markdown",
   "id": "2b60bcd3",
   "metadata": {},
   "source": [
    "### 3.Shape of the Data \n",
    "\n",
    "__Shape of the data helps us understand the number of rows and number of columns present in out dataset.__"
   ]
  },
  {
   "cell_type": "code",
   "execution_count": 4,
   "id": "9ca92c6e",
   "metadata": {},
   "outputs": [
    {
     "data": {
      "text/plain": [
       "(506, 13)"
      ]
     },
     "execution_count": 4,
     "metadata": {},
     "output_type": "execute_result"
    }
   ],
   "source": [
    "bostonData.shape"
   ]
  },
  {
   "cell_type": "markdown",
   "id": "91229cf9",
   "metadata": {},
   "source": [
    "### 4. Handling missing Values\n",
    "* #### Let's see if our data has any missing values.\n",
    "* #### If it does then we will handle it by replacing it with the appropriate value based on data</bold>"
   ]
  },
  {
   "cell_type": "code",
   "execution_count": 5,
   "id": "dfe45221",
   "metadata": {},
   "outputs": [
    {
     "data": {
      "text/plain": [
       "crim       0\n",
       "zn         0\n",
       "indus      0\n",
       "chas       0\n",
       "nox        0\n",
       "rm         0\n",
       "age        0\n",
       "dis        0\n",
       "rad        0\n",
       "tax        0\n",
       "ptratio    0\n",
       "lstat      0\n",
       "medv       0\n",
       "dtype: int64"
      ]
     },
     "execution_count": 5,
     "metadata": {},
     "output_type": "execute_result"
    }
   ],
   "source": [
    "bostonData.isnull().sum()"
   ]
  },
  {
   "cell_type": "markdown",
   "id": "4c9c5ac2",
   "metadata": {},
   "source": [
    "#### There are no missing values in the Dataset"
   ]
  },
  {
   "cell_type": "markdown",
   "id": "eb365ef7",
   "metadata": {},
   "source": [
    "### 5. Descriptive Statistics of our Dataset\n",
    "#### 5.1 Data type of all the variables in the Dataset"
   ]
  },
  {
   "cell_type": "code",
   "execution_count": 6,
   "id": "4659ccc8",
   "metadata": {},
   "outputs": [
    {
     "name": "stdout",
     "output_type": "stream",
     "text": [
      "<class 'pandas.core.frame.DataFrame'>\n",
      "RangeIndex: 506 entries, 0 to 505\n",
      "Data columns (total 13 columns):\n",
      " #   Column   Non-Null Count  Dtype  \n",
      "---  ------   --------------  -----  \n",
      " 0   crim     506 non-null    float64\n",
      " 1   zn       506 non-null    float64\n",
      " 2   indus    506 non-null    float64\n",
      " 3   chas     506 non-null    int64  \n",
      " 4   nox      506 non-null    float64\n",
      " 5   rm       506 non-null    float64\n",
      " 6   age      506 non-null    float64\n",
      " 7   dis      506 non-null    float64\n",
      " 8   rad      506 non-null    int64  \n",
      " 9   tax      506 non-null    int64  \n",
      " 10  ptratio  506 non-null    float64\n",
      " 11  lstat    506 non-null    float64\n",
      " 12  medv     506 non-null    float64\n",
      "dtypes: float64(10), int64(3)\n",
      "memory usage: 51.5 KB\n"
     ]
    }
   ],
   "source": [
    "bostonData.info()"
   ]
  },
  {
   "cell_type": "markdown",
   "id": "48c74d65",
   "metadata": {},
   "source": [
    "__All our features are Quantitative__"
   ]
  },
  {
   "cell_type": "markdown",
   "id": "047331a8",
   "metadata": {},
   "source": [
    "### 6. Based on this data set, provide an estimate for the population mean of medv . Call this estimate μˆ."
   ]
  },
  {
   "cell_type": "code",
   "execution_count": 29,
   "id": "dd2d1d63",
   "metadata": {},
   "outputs": [
    {
     "name": "stdout",
     "output_type": "stream",
     "text": [
      "Estimate for population mean of medv is: 22.53281\n"
     ]
    }
   ],
   "source": [
    "mu_hat = bostonData['medv'].mean()\n",
    "print(\"Estimate for population mean of medv is: {:.5f}\".format(mu_hat))"
   ]
  },
  {
   "cell_type": "markdown",
   "id": "bd80724c",
   "metadata": {},
   "source": [
    "### 6.1 Provide an estimate of the standard error of μˆ. Interpret this result. Hint: We can compute the standard error of the sample mean by dividing the sample standard deviation by the square root of the number of observations."
   ]
  },
  {
   "cell_type": "code",
   "execution_count": 12,
   "id": "80ecd3f3",
   "metadata": {},
   "outputs": [],
   "source": [
    "import math"
   ]
  },
  {
   "cell_type": "markdown",
   "id": "8a6737b6",
   "metadata": {},
   "source": [
    "$$ Standard Error of Sample = \\frac{(Standard Deviation (MEDV))} {(Square Root of Length of Boston Data)}$$"
   ]
  },
  {
   "cell_type": "code",
   "execution_count": 14,
   "id": "62251e65",
   "metadata": {},
   "outputs": [],
   "source": [
    "muHat_SE = (np.std(bostonData['medv'])/math.sqrt(len(bostonData)))"
   ]
  },
  {
   "cell_type": "code",
   "execution_count": 18,
   "id": "4c8a642f",
   "metadata": {},
   "outputs": [
    {
     "name": "stdout",
     "output_type": "stream",
     "text": [
      "Estimate of Standard Error for sample mean of medv is : 0.4085\n"
     ]
    }
   ],
   "source": [
    "print(\"Estimate of Standard Error for sample mean of medv is : {:.4f}\".format(muHat_SE))"
   ]
  },
  {
   "cell_type": "markdown",
   "id": "f39ba374",
   "metadata": {},
   "source": [
    "### 6.2 Now estimate the standard error of μˆ using the bootstrap. How does this compare to your answer from (b)?\n",
    "#### 6.2.1 Resampling Data"
   ]
  },
  {
   "cell_type": "code",
   "execution_count": 21,
   "id": "78741d24",
   "metadata": {},
   "outputs": [],
   "source": [
    "from sklearn.utils import resample"
   ]
  },
  {
   "cell_type": "code",
   "execution_count": 44,
   "id": "2e1f9578",
   "metadata": {},
   "outputs": [],
   "source": [
    "def boot(df):\n",
    "    return resample(df)\n",
    "\n",
    "sampleError = []\n",
    "for i in range(1000):\n",
    "    df = boot(bostonData)\n",
    "    sampleError.append(df['medv'].mean())"
   ]
  },
  {
   "cell_type": "code",
   "execution_count": 49,
   "id": "90d59290",
   "metadata": {
    "scrolled": true
   },
   "outputs": [],
   "source": [
    "boot_Standard_error = np.std(sampleError)"
   ]
  },
  {
   "cell_type": "code",
   "execution_count": 50,
   "id": "29539cfb",
   "metadata": {},
   "outputs": [
    {
     "data": {
      "text/plain": [
       "0.39034792796686735"
      ]
     },
     "execution_count": 50,
     "metadata": {},
     "output_type": "execute_result"
    }
   ],
   "source": [
    "boot_Standard_error"
   ]
  },
  {
   "cell_type": "markdown",
   "id": "b8b6eaa1",
   "metadata": {},
   "source": [
    "#### 6.2.2 Standard Error of MEDV using BootStrap"
   ]
  },
  {
   "cell_type": "code",
   "execution_count": 51,
   "id": "e090b3ce",
   "metadata": {},
   "outputs": [
    {
     "name": "stdout",
     "output_type": "stream",
     "text": [
      "Estimate of Standard Error of MEDV using Bootstrap Method is : 0.39034792796686735\n"
     ]
    }
   ],
   "source": [
    "print(\"Estimate of Standard Error of MEDV using Bootstrap Method is : {}\".format(boot_Standard_error))"
   ]
  },
  {
   "cell_type": "markdown",
   "id": "fc87c106",
   "metadata": {},
   "source": [
    "### The Standard Error of MEDV we achieved in (6.1) was 0.4085 and the Standard Error of MEDV using Bootstrap is 0.39034792796686735. We can say that there is a negligible difference between in both Standard Errors."
   ]
  },
  {
   "cell_type": "markdown",
   "id": "bd78c301",
   "metadata": {},
   "source": [
    "### 6.3 Based on your bootstrap estimate from (c) (6.2.2), provide a 95% confidence interval for the mean of medv. Compare it to the results obtained using t.test(Boston$medv)"
   ]
  },
  {
   "cell_type": "markdown",
   "id": "b2f5c023",
   "metadata": {},
   "source": [
    "#### 6.3.1 95 % Confidence Interval"
   ]
  },
  {
   "cell_type": "markdown",
   "id": "c5e159b4",
   "metadata": {},
   "source": [
    "### Suppose we want to generate a 95% confidence interval estimate for an unknown population mean. This means that there is a 95% probability that the confidence interval will contain the true population mean. Thus, \n",
    "\n",
    "#### P( [sample mean] - margin of error < μ < [sample mean] + margin of error) = 0.95."
   ]
  },
  {
   "cell_type": "code",
   "execution_count": 31,
   "id": "d5b8bdad",
   "metadata": {},
   "outputs": [
    {
     "name": "stdout",
     "output_type": "stream",
     "text": [
      "95% CONFIDENCE INTERVAL FOR UNKNOWN POPULATION MEAN is 22.12421 and 22.94141\n"
     ]
    }
   ],
   "source": [
    "print(\"95% CONFIDENCE INTERVAL FOR UNKNOWN POPULATION MEAN is {0} and {1}\".format((22.53281-0.40860),(22.53281+0.40860))) "
   ]
  },
  {
   "cell_type": "markdown",
   "id": "7fbc7039",
   "metadata": {},
   "source": [
    "#### 6.3.2 T-test\n",
    "__This is a test for the null hypothesis that the expected value (mean) of a sample of independent observations a is equal to the given population mean.__"
   ]
  },
  {
   "cell_type": "code",
   "execution_count": 33,
   "id": "b9c0f26e",
   "metadata": {},
   "outputs": [],
   "source": [
    "from scipy import stats"
   ]
  },
  {
   "cell_type": "code",
   "execution_count": 37,
   "id": "175134f7",
   "metadata": {},
   "outputs": [
    {
     "data": {
      "text/plain": [
       "Ttest_1sampResult(statistic=55.11114583037392, pvalue=9.370623727132662e-216)"
      ]
     },
     "execution_count": 37,
     "metadata": {},
     "output_type": "execute_result"
    }
   ],
   "source": [
    "stats.ttest_1samp(bostonData['medv'],popmean=0.0)"
   ]
  },
  {
   "cell_type": "markdown",
   "id": "1f32e156",
   "metadata": {},
   "source": [
    "### The 95 % Confidence Interval for Unknown population mean is 22.12421 and 22.94141 and the p-Value for Median value of owner-occupied homes in $1000's(MEDV) is 9.370623727132662e-216 which makes this feature significantly associated."
   ]
  },
  {
   "cell_type": "markdown",
   "id": "29627d76",
   "metadata": {},
   "source": [
    "### 6.4 Based on this data set, provide an estimate, μmedˆ, for the median value of medv in the population."
   ]
  },
  {
   "cell_type": "code",
   "execution_count": 39,
   "id": "f995fe12",
   "metadata": {},
   "outputs": [
    {
     "name": "stdout",
     "output_type": "stream",
     "text": [
      "Estimate for population median of medv is:  21.2\n"
     ]
    }
   ],
   "source": [
    "print(\"Estimate for population median of medv is: \",bostonData['medv'].median())"
   ]
  },
  {
   "cell_type": "markdown",
   "id": "0fb1d379",
   "metadata": {},
   "source": [
    "### 6.5 We now would like to estimate the standard error of μmedˆ. Unfortunately, there is no simple formula for computing the standard error of the median. Instead, estimate the standard error of the median using the bootstrap. Comment on your findings."
   ]
  },
  {
   "cell_type": "code",
   "execution_count": 52,
   "id": "2158f422",
   "metadata": {},
   "outputs": [],
   "source": [
    "sampleMedian = []\n",
    "\n",
    "for i in range(1000):\n",
    "    df = boot(bostonData)\n",
    "    sampleMedian.append(df['medv'].median())"
   ]
  },
  {
   "cell_type": "code",
   "execution_count": 55,
   "id": "0f977c73",
   "metadata": {},
   "outputs": [
    {
     "name": "stdout",
     "output_type": "stream",
     "text": [
      "Estimate of standard error of sample median of medv (using bootstrap) is:  0.3874382241080502\n"
     ]
    }
   ],
   "source": [
    "print(\"Estimate of standard error of sample median of medv (using bootstrap) is: \",np.std(sampleMedian))"
   ]
  },
  {
   "cell_type": "markdown",
   "id": "a48c9239",
   "metadata": {},
   "source": [
    "### 6.6 Based on this data set, provide an estimate for the tenth percentile of medv in Boston suburbs. Call this quantity μ0.1ˆ. (You can use the quantile() function.)"
   ]
  },
  {
   "cell_type": "code",
   "execution_count": 56,
   "id": "20f50087",
   "metadata": {},
   "outputs": [
    {
     "name": "stdout",
     "output_type": "stream",
     "text": [
      "Estimate for the tenth percentile of medv is:  12.75\n"
     ]
    }
   ],
   "source": [
    "print(\"Estimate for the tenth percentile of medv is: \" ,bostonData['medv'].quantile(q=0.1))"
   ]
  },
  {
   "cell_type": "markdown",
   "id": "f259dd8a",
   "metadata": {},
   "source": [
    "### 6.7 Use the bootstrap to estimate the standard error of μ0.1ˆ. Comment on your findings."
   ]
  },
  {
   "cell_type": "code",
   "execution_count": 59,
   "id": "02f9d28a",
   "metadata": {},
   "outputs": [],
   "source": [
    "sample_percentile = []\n",
    "\n",
    "for i in range(1000):\n",
    "    df = boot(bostonData)\n",
    "    sample_percentile.append(df['medv'].quantile(q=0.1))"
   ]
  },
  {
   "cell_type": "code",
   "execution_count": 60,
   "id": "f6d68c2a",
   "metadata": {},
   "outputs": [
    {
     "name": "stdout",
     "output_type": "stream",
     "text": [
      "Estimate of standard error for the tenth percentile of medv (using bootstrap) is:  0.5113456365316906\n"
     ]
    }
   ],
   "source": [
    "print(\"Estimate of standard error for the tenth percentile of medv (using bootstrap) is: \",np.std(sample_percentile))"
   ]
  },
  {
   "cell_type": "code",
   "execution_count": null,
   "id": "4b95c55f",
   "metadata": {},
   "outputs": [],
   "source": []
  },
  {
   "cell_type": "code",
   "execution_count": null,
   "id": "6ba63fe1",
   "metadata": {},
   "outputs": [],
   "source": []
  }
 ],
 "metadata": {
  "kernelspec": {
   "display_name": "Python 3 (ipykernel)",
   "language": "python",
   "name": "python3"
  },
  "language_info": {
   "codemirror_mode": {
    "name": "ipython",
    "version": 3
   },
   "file_extension": ".py",
   "mimetype": "text/x-python",
   "name": "python",
   "nbconvert_exporter": "python",
   "pygments_lexer": "ipython3",
   "version": "3.9.7"
  }
 },
 "nbformat": 4,
 "nbformat_minor": 5
}
